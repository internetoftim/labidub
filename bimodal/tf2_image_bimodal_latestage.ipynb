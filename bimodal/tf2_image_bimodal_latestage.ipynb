{
 "cells": [
  {
   "cell_type": "markdown",
   "metadata": {
    "colab_type": "text",
    "id": "ScitaPqhKtuW"
   },
   "source": [
    "##### Copyright 2019 The TensorFlow Hub Authors.\n",
    "\n",
    "Licensed under the Apache License, Version 2.0 (the \"License\");"
   ]
  },
  {
   "cell_type": "code",
   "execution_count": 1,
   "metadata": {
    "colab": {},
    "colab_type": "code",
    "id": "jvztxQ6VsK2k"
   },
   "outputs": [],
   "source": [
    "# Copyright 2019 The TensorFlow Hub Authors. All Rights Reserved.\n",
    "#\n",
    "# Licensed under the Apache License, Version 2.0 (the \"License\");\n",
    "# you may not use this file except in compliance with the License.\n",
    "# You may obtain a copy of the License at\n",
    "#\n",
    "#     http://www.apache.org/licenses/LICENSE-2.0\n",
    "#\n",
    "# Unless required by applicable law or agreed to in writing, software\n",
    "# distributed under the License is distributed on an \"AS IS\" BASIS,\n",
    "# WITHOUT WARRANTIES OR CONDITIONS OF ANY KIND, either express or implied.\n",
    "# See the License for the specific language governing permissions and\n",
    "# limitations under the License.\n",
    "# =============================================================================="
   ]
  },
  {
   "cell_type": "markdown",
   "metadata": {
    "colab_type": "text",
    "id": "oYM61xrTsP5d"
   },
   "source": [
    "# TF Hub for TF2: Image Module Retraining (preview)\n",
    "\n",
    "<table align=\"left\">\n",
    "<td align=\"center\">\n",
    "  <a target=\"_blank\"  href=\"https://colab.research.google.com/github/tensorflow/hub/blob/master/examples/colab/tf2_image_retraining.ipynb\">\n",
    "    <img src=\"https://www.tensorflow.org/images/colab_logo_32px.png\" /><br>Run in Google Colab\n",
    "  </a>\n",
    "</td>\n",
    "<td align=\"center\">\n",
    "  <a target=\"_blank\"  href=\"https://github.com/tensorflow/hub/blob/master/examples/colab/tf2_image_retraining.ipynb\">\n",
    "    <img width=32px src=\"https://www.tensorflow.org/images/GitHub-Mark-32px.png\" /><br>View source on GitHub</a>\n",
    "</td>\n",
    "</table>"
   ]
  },
  {
   "cell_type": "markdown",
   "metadata": {
    "colab_type": "text",
    "id": "L1otmJgmbahf"
   },
   "source": [
    "This Colab demonstrates the use of TF2 SavedModels found on TensorFlow Hub with Keras. It uses a pre-trained image feature vector module for classifying five species of flowers, including fine-tuning of the module."
   ]
  },
  {
   "cell_type": "markdown",
   "metadata": {
    "colab_type": "text",
    "id": "bL54LWCHt5q5"
   },
   "source": [
    "## Set up TensorFlow 2 and other libraries"
   ]
  },
  {
   "cell_type": "code",
   "execution_count": 1,
   "metadata": {
    "colab": {},
    "colab_type": "code",
    "id": "txdrFJrJvgQS"
   },
   "outputs": [],
   "source": [
    "try:\n",
    "  # %tensorflow_version only exists in Colab.\n",
    "  %tensorflow_version 2.x\n",
    "except Exception:\n",
    "    pass"
   ]
  },
  {
   "cell_type": "code",
   "execution_count": 2,
   "metadata": {
    "colab": {},
    "colab_type": "code",
    "id": "dlauq-4FWGZM"
   },
   "outputs": [
    {
     "name": "stderr",
     "output_type": "stream",
     "text": [
      "Using TensorFlow backend.\n"
     ]
    },
    {
     "name": "stdout",
     "output_type": "stream",
     "text": [
      "TF version: 2.0.0\n",
      "Hub version: 0.6.0\n",
      "GPU is available\n"
     ]
    }
   ],
   "source": [
    "import itertools\n",
    "import os\n",
    "import re\n",
    "import matplotlib.pylab as plt\n",
    "import numpy as np\n",
    "\n",
    "import tensorflow as tf\n",
    "import tensorflow_hub as hub\n",
    "import pathlib\n",
    "\n",
    "import pandas as pd\n",
    "\n",
    "import keras\n",
    "from keras.utils import plot_model,to_categorical\n",
    "from keras.layers import Dense,LSTM,Bidirectional,TimeDistributed,Conv1D,MaxPool1D,Concatenate,Dropout,BatchNormalization,Add\n",
    "from keras import Model,Input\n",
    "from keras.layers import Reshape,Flatten\n",
    "from sklearn.model_selection import train_test_split\n",
    "import keras.backend as K\n",
    "import keras.callbacks as kcallbacks\n",
    "from sklearn.preprocessing import LabelEncoder\n",
    "import string\n",
    "from keras.optimizers import SGD\n",
    "import warnings\n",
    "# from lsuv_init import LSUVinit\n",
    "warnings.filterwarnings('ignore')\n",
    "\n",
    "print(\"TF version:\", tf.__version__)\n",
    "print(\"Hub version:\", hub.__version__)\n",
    "print(\"GPU is\", \"available\" if tf.test.is_gpu_available() else \"NOT AVAILABLE\")\n"
   ]
  },
  {
   "cell_type": "markdown",
   "metadata": {
    "colab_type": "text",
    "id": "mmaHHH7Pvmth"
   },
   "source": [
    "## Select the Hub/TF2 module to use\n",
    "\n",
    "Hub modules for TF 1.x won't work here, please use one of the selections provided."
   ]
  },
  {
   "cell_type": "code",
   "execution_count": 3,
   "metadata": {
    "colab": {},
    "colab_type": "code",
    "id": "FlsEcKVeuCnf"
   },
   "outputs": [
    {
     "name": "stdout",
     "output_type": "stream",
     "text": [
      "Using https://tfhub.dev/google/tf2-preview/inception_v3/feature_vector/4 with input size (299, 299)\n"
     ]
    }
   ],
   "source": [
    "module_selection = (\"inception_v3\", 299) #@param [\"(\\\"mobilenet_v2\\\", 224)\", \"(\\\"inception_v3\\\", 299)\"] {type:\"raw\", allow-input: true}\n",
    "handle_base, pixels = module_selection\n",
    "MODULE_HANDLE =\"https://tfhub.dev/google/tf2-preview/{}/feature_vector/4\".format(handle_base)\n",
    "IMAGE_SIZE = (pixels, pixels)\n",
    "print(\"Using {} with input size {}\".format(MODULE_HANDLE, IMAGE_SIZE))\n",
    "\n",
    "BATCH_SIZE = 32 #@param {type:\"integer\"}"
   ]
  },
  {
   "cell_type": "markdown",
   "metadata": {
    "colab_type": "text",
    "id": "yTY8qzyYv3vl"
   },
   "source": [
    "## Set up the dataset\n",
    "\n",
    "Inputs are suitably resized for the selected module. Dataset augmentation (i.e., random distortions of an image each time it is read) improves training, esp. when fine-tuning."
   ]
  },
  {
   "cell_type": "code",
   "execution_count": null,
   "metadata": {},
   "outputs": [],
   "source": []
  },
  {
   "cell_type": "code",
   "execution_count": 5,
   "metadata": {},
   "outputs": [],
   "source": [
    "data_dir = pathlib.Path('../dataset/Dataset_Img299')\n",
    "data_dir=str(data_dir)"
   ]
  },
  {
   "cell_type": "code",
   "execution_count": 6,
   "metadata": {},
   "outputs": [
    {
     "name": "stdout",
     "output_type": "stream",
     "text": [
      "Found 25199 images belonging to 2 classes.\n"
     ]
    }
   ],
   "source": [
    "datagen_kwargs = dict(rescale=1./255, validation_split=.20)\n",
    "dataflow_kwargs = dict(target_size=IMAGE_SIZE, batch_size=BATCH_SIZE,\n",
    "                   interpolation=\"bilinear\",seed=9001)\n",
    "datagen_kwargs = dict(rescale=1./255, validation_split=.20)\n",
    "dataflow_kwargs = dict(target_size=IMAGE_SIZE, batch_size=BATCH_SIZE,\n",
    "                   interpolation=\"bilinear\",seed=9001)\n",
    "test_datagen = tf.keras.preprocessing.image.ImageDataGenerator(\n",
    "    **datagen_kwargs)\n",
    "test_generator = test_datagen.flow_from_directory(\n",
    "    data_dir, subset=\"validation\", shuffle=False, **dataflow_kwargs)"
   ]
  },
  {
   "cell_type": "code",
   "execution_count": 7,
   "metadata": {},
   "outputs": [
    {
     "name": "stdout",
     "output_type": "stream",
     "text": [
      "Found 100801 images belonging to 2 classes.\n"
     ]
    }
   ],
   "source": [
    "train_generator = test_datagen.flow_from_directory(\n",
    "    data_dir, subset=\"training\", shuffle=False, **dataflow_kwargs)"
   ]
  },
  {
   "cell_type": "code",
   "execution_count": 8,
   "metadata": {},
   "outputs": [
    {
     "data": {
      "text/plain": [
       "'../dataset/Dataset_Img299'"
      ]
     },
     "execution_count": 8,
     "metadata": {},
     "output_type": "execute_result"
    }
   ],
   "source": [
    "data_dir"
   ]
  },
  {
   "cell_type": "code",
   "execution_count": 9,
   "metadata": {
    "colab": {},
    "colab_type": "code",
    "id": "umB5tswsfTEQ"
   },
   "outputs": [
    {
     "name": "stdout",
     "output_type": "stream",
     "text": [
      "Found 20148 images belonging to 51 classes.\n",
      "Found 80656 images belonging to 51 classes.\n"
     ]
    }
   ],
   "source": [
    "data_dir = \"../dataset/Dataset_Img299/train\"\n",
    "datagen_kwargs = dict(rescale=1./255, validation_split=.20)\n",
    "dataflow_kwargs = dict(target_size=IMAGE_SIZE, batch_size=BATCH_SIZE,\n",
    "                   interpolation=\"bilinear\")\n",
    "\n",
    "valid_datagen = tf.keras.preprocessing.image.ImageDataGenerator(\n",
    "    **datagen_kwargs)\n",
    "valid_generator = valid_datagen.flow_from_directory(\n",
    "    data_dir, subset=\"validation\", shuffle=False,seed=9001, **dataflow_kwargs)\n",
    "\n",
    "do_data_augmentation = True #@param {type:\"boolean\"}\n",
    "if do_data_augmentation:\n",
    "    train_datagen = tf.keras.preprocessing.image.ImageDataGenerator(\n",
    "      rotation_range=40,\n",
    "      horizontal_flip=False,\n",
    "      width_shift_range=0.2, height_shift_range=0.2,\n",
    "      shear_range=0.2, zoom_range=0.2,\n",
    "      **datagen_kwargs)\n",
    "else:\n",
    "    train_datagen = valid_datagen\n",
    "train_generator = train_datagen.flow_from_directory(\n",
    "    data_dir, subset=\"training\", shuffle=True, **dataflow_kwargs)"
   ]
  },
  {
   "cell_type": "markdown",
   "metadata": {},
   "source": [
    "### Audio Input"
   ]
  },
  {
   "cell_type": "code",
   "execution_count": 10,
   "metadata": {},
   "outputs": [
    {
     "ename": "FileNotFoundError",
     "evalue": "[Errno 2] No such file or directory: '../dataset/speech_mel_noisy/train'",
     "output_type": "error",
     "traceback": [
      "\u001b[0;31m---------------------------------------------------------------------------\u001b[0m",
      "\u001b[0;31mFileNotFoundError\u001b[0m                         Traceback (most recent call last)",
      "\u001b[0;32m<ipython-input-10-8cdef7501b8f>\u001b[0m in \u001b[0;36m<module>\u001b[0;34m\u001b[0m\n\u001b[1;32m      7\u001b[0m     **datagen_kwargs)\n\u001b[1;32m      8\u001b[0m valid_generator_audio = valid_datagen.flow_from_directory(\n\u001b[0;32m----> 9\u001b[0;31m     data_dir_audio, subset=\"validation\", seed=9001, shuffle=False, **dataflow_kwargs)\n\u001b[0m\u001b[1;32m     10\u001b[0m \u001b[0;34m\u001b[0m\u001b[0m\n\u001b[1;32m     11\u001b[0m \u001b[0mdo_data_augmentation\u001b[0m \u001b[0;34m=\u001b[0m \u001b[0;32mTrue\u001b[0m \u001b[0;31m#@param {type:\"boolean\"}\u001b[0m\u001b[0;34m\u001b[0m\u001b[0m\n",
      "\u001b[0;32m/usr/local/lib/python3.5/dist-packages/keras_preprocessing/image/image_data_generator.py\u001b[0m in \u001b[0;36mflow_from_directory\u001b[0;34m(self, directory, target_size, color_mode, classes, class_mode, batch_size, shuffle, seed, save_to_dir, save_prefix, save_format, follow_links, subset, interpolation)\u001b[0m\n\u001b[1;32m    538\u001b[0m             \u001b[0mfollow_links\u001b[0m\u001b[0;34m=\u001b[0m\u001b[0mfollow_links\u001b[0m\u001b[0;34m,\u001b[0m\u001b[0;34m\u001b[0m\u001b[0m\n\u001b[1;32m    539\u001b[0m             \u001b[0msubset\u001b[0m\u001b[0;34m=\u001b[0m\u001b[0msubset\u001b[0m\u001b[0;34m,\u001b[0m\u001b[0;34m\u001b[0m\u001b[0m\n\u001b[0;32m--> 540\u001b[0;31m             \u001b[0minterpolation\u001b[0m\u001b[0;34m=\u001b[0m\u001b[0minterpolation\u001b[0m\u001b[0;34m\u001b[0m\u001b[0m\n\u001b[0m\u001b[1;32m    541\u001b[0m         )\n\u001b[1;32m    542\u001b[0m \u001b[0;34m\u001b[0m\u001b[0m\n",
      "\u001b[0;32m/usr/local/lib/python3.5/dist-packages/keras_preprocessing/image/directory_iterator.py\u001b[0m in \u001b[0;36m__init__\u001b[0;34m(self, directory, image_data_generator, target_size, color_mode, classes, class_mode, batch_size, shuffle, seed, data_format, save_to_dir, save_prefix, save_format, follow_links, subset, interpolation, dtype)\u001b[0m\n\u001b[1;32m    104\u001b[0m         \u001b[0;32mif\u001b[0m \u001b[0;32mnot\u001b[0m \u001b[0mclasses\u001b[0m\u001b[0;34m:\u001b[0m\u001b[0;34m\u001b[0m\u001b[0m\n\u001b[1;32m    105\u001b[0m             \u001b[0mclasses\u001b[0m \u001b[0;34m=\u001b[0m \u001b[0;34m[\u001b[0m\u001b[0;34m]\u001b[0m\u001b[0;34m\u001b[0m\u001b[0m\n\u001b[0;32m--> 106\u001b[0;31m             \u001b[0;32mfor\u001b[0m \u001b[0msubdir\u001b[0m \u001b[0;32min\u001b[0m \u001b[0msorted\u001b[0m\u001b[0;34m(\u001b[0m\u001b[0mos\u001b[0m\u001b[0;34m.\u001b[0m\u001b[0mlistdir\u001b[0m\u001b[0;34m(\u001b[0m\u001b[0mdirectory\u001b[0m\u001b[0;34m)\u001b[0m\u001b[0;34m)\u001b[0m\u001b[0;34m:\u001b[0m\u001b[0;34m\u001b[0m\u001b[0m\n\u001b[0m\u001b[1;32m    107\u001b[0m                 \u001b[0;32mif\u001b[0m \u001b[0mos\u001b[0m\u001b[0;34m.\u001b[0m\u001b[0mpath\u001b[0m\u001b[0;34m.\u001b[0m\u001b[0misdir\u001b[0m\u001b[0;34m(\u001b[0m\u001b[0mos\u001b[0m\u001b[0;34m.\u001b[0m\u001b[0mpath\u001b[0m\u001b[0;34m.\u001b[0m\u001b[0mjoin\u001b[0m\u001b[0;34m(\u001b[0m\u001b[0mdirectory\u001b[0m\u001b[0;34m,\u001b[0m \u001b[0msubdir\u001b[0m\u001b[0;34m)\u001b[0m\u001b[0;34m)\u001b[0m\u001b[0;34m:\u001b[0m\u001b[0;34m\u001b[0m\u001b[0m\n\u001b[1;32m    108\u001b[0m                     \u001b[0mclasses\u001b[0m\u001b[0;34m.\u001b[0m\u001b[0mappend\u001b[0m\u001b[0;34m(\u001b[0m\u001b[0msubdir\u001b[0m\u001b[0;34m)\u001b[0m\u001b[0;34m\u001b[0m\u001b[0m\n",
      "\u001b[0;31mFileNotFoundError\u001b[0m: [Errno 2] No such file or directory: '../dataset/speech_mel_noisy/train'"
     ]
    }
   ],
   "source": [
    "data_dir_audio = \"../dataset/speech_mel_noisy/train\"\n",
    "datagen_kwargs = dict(rescale=1./255, validation_split=.20)\n",
    "dataflow_kwargs = dict(target_size=IMAGE_SIZE, batch_size=BATCH_SIZE,\n",
    "                   interpolation=\"bilinear\")\n",
    "\n",
    "valid_datagen = tf.keras.preprocessing.image.ImageDataGenerator(\n",
    "    **datagen_kwargs)\n",
    "valid_generator_audio = valid_datagen.flow_from_directory(\n",
    "    data_dir_audio, subset=\"validation\", seed=9001, shuffle=False, **dataflow_kwargs)\n",
    "\n",
    "do_data_augmentation = True #@param {type:\"boolean\"}\n",
    "if do_data_augmentation:\n",
    "    train_datagen_audio = tf.keras.preprocessing.image.ImageDataGenerator(\n",
    "      rotation_range=40,\n",
    "      horizontal_flip=False,\n",
    "      width_shift_range=0.2, height_shift_range=0.2,\n",
    "      shear_range=0.2, zoom_range=0.2,\n",
    "      **datagen_kwargs)\n",
    "else:\n",
    "    train_datagen_audio = valid_datagen\n",
    "train_generator_audio = train_datagen_audio.flow_from_directory(\n",
    "    data_dir_audio, subset=\"training\", shuffle=True, **dataflow_kwargs)"
   ]
  },
  {
   "cell_type": "markdown",
   "metadata": {
    "colab_type": "text",
    "id": "FS_gVStowW3G"
   },
   "source": [
    "\n",
    "## Defining the model\n",
    "\n",
    "All it takes is to put a linear classifier on top of the `feature_extractor_layer` with the Hub module.\n",
    "\n",
    "For speed, we start out with a non-trainable `feature_extractor_layer`, but you can also enable fine-tuning for greater accuracy."
   ]
  },
  {
   "cell_type": "code",
   "execution_count": 16,
   "metadata": {
    "colab": {},
    "colab_type": "code",
    "id": "RaJW3XrPyFiF"
   },
   "outputs": [],
   "source": [
    "do_fine_tuning = True #@param {type:\"boolean\"}"
   ]
  },
  {
   "cell_type": "code",
   "execution_count": 13,
   "metadata": {
    "colab": {},
    "colab_type": "code",
    "id": "50FYNIb1dmJH"
   },
   "outputs": [
    {
     "name": "stdout",
     "output_type": "stream",
     "text": [
      "Building model with https://tfhub.dev/google/tf2-preview/inception_v3/feature_vector/4\n",
      "Model: \"sequential\"\n",
      "_________________________________________________________________\n",
      "Layer (type)                 Output Shape              Param #   \n",
      "=================================================================\n",
      "keras_layer (KerasLayer)     multiple                  21802784  \n",
      "_________________________________________________________________\n",
      "dropout (Dropout)            multiple                  0         \n",
      "_________________________________________________________________\n",
      "dense (Dense)                multiple                  104499    \n",
      "=================================================================\n",
      "Total params: 21,907,283\n",
      "Trainable params: 21,872,851\n",
      "Non-trainable params: 34,432\n",
      "_________________________________________________________________\n"
     ]
    }
   ],
   "source": [
    "# print(\"Building model with\", MODULE_HANDLE)\n",
    "# model = tf.keras.Sequential([\n",
    "#     hub.KerasLayer(MODULE_HANDLE, trainable=do_fine_tuning),\n",
    "#     tf.keras.layers.Dropout(rate=0.2),\n",
    "#     tf.keras.layers.Dense(train_generator.num_classes, activation='softmax',\n",
    "#                           kernel_regularizer=tf.keras.regularizers.l2(0.0001))\n",
    "# ])\n",
    "# model.build((None,)+IMAGE_SIZE+(3,))\n",
    "# model.summary()"
   ]
  },
  {
   "cell_type": "code",
   "execution_count": null,
   "metadata": {},
   "outputs": [],
   "source": [
    "# NUM_CLASSES=4\n",
    "BATCH_SIZE=BATCH_SIZE\n",
    "EPOCHS=100"
   ]
  },
  {
   "cell_type": "code",
   "execution_count": null,
   "metadata": {},
   "outputs": [],
   "source": [
    "inputs1=Input(shape=IMAGE_SIZE,name='inputs_gabor')\n"
   ]
  },
  {
   "cell_type": "code",
   "execution_count": 20,
   "metadata": {},
   "outputs": [
    {
     "ename": "NameError",
     "evalue": "name 'visible1' is not defined",
     "output_type": "error",
     "traceback": [
      "\u001b[0;31m---------------------------------------------------------------------------\u001b[0m",
      "\u001b[0;31mNameError\u001b[0m                                 Traceback (most recent call last)",
      "\u001b[0;32m<ipython-input-20-68dea1022aa2>\u001b[0m in \u001b[0;36m<module>\u001b[0;34m\u001b[0m\n\u001b[0;32m----> 1\u001b[0;31m \u001b[0mmodel\u001b[0m \u001b[0;34m=\u001b[0m \u001b[0mModel\u001b[0m\u001b[0;34m(\u001b[0m\u001b[0minputs\u001b[0m\u001b[0;34m=\u001b[0m\u001b[0;34m[\u001b[0m\u001b[0mvisible1\u001b[0m\u001b[0;34m,\u001b[0m \u001b[0mvisible2\u001b[0m\u001b[0;34m]\u001b[0m\u001b[0;34m,\u001b[0m \u001b[0moutputs\u001b[0m\u001b[0;34m=\u001b[0m\u001b[0moutput\u001b[0m\u001b[0;34m)\u001b[0m\u001b[0;34m\u001b[0m\u001b[0m\n\u001b[0m",
      "\u001b[0;31mNameError\u001b[0m: name 'visible1' is not defined"
     ]
    }
   ],
   "source": [
    "model = Model(inputs=[visible1, visible2], outputs=output)\n"
   ]
  },
  {
   "cell_type": "code",
   "execution_count": 17,
   "metadata": {},
   "outputs": [
    {
     "name": "stdout",
     "output_type": "stream",
     "text": [
      "Model: \"model_1\"\n",
      "__________________________________________________________________________________________________\n",
      "Layer (type)                    Output Shape         Param #     Connected to                     \n",
      "==================================================================================================\n",
      "input_1 (InputLayer)            (None, 299, 299, 3)  0                                            \n",
      "__________________________________________________________________________________________________\n",
      "input_2 (InputLayer)            (None, 299, 299, 3)  0                                            \n",
      "__________________________________________________________________________________________________\n",
      "conv2d_1 (Conv2D)               (None, 296, 296, 32) 1568        input_1[0][0]                    \n",
      "__________________________________________________________________________________________________\n",
      "conv2d_3 (Conv2D)               (None, 296, 296, 32) 1568        input_2[0][0]                    \n",
      "__________________________________________________________________________________________________\n",
      "max_pooling2d_1 (MaxPooling2D)  (None, 148, 148, 32) 0           conv2d_1[0][0]                   \n",
      "__________________________________________________________________________________________________\n",
      "max_pooling2d_3 (MaxPooling2D)  (None, 148, 148, 32) 0           conv2d_3[0][0]                   \n",
      "__________________________________________________________________________________________________\n",
      "conv2d_2 (Conv2D)               (None, 145, 145, 16) 8208        max_pooling2d_1[0][0]            \n",
      "__________________________________________________________________________________________________\n",
      "conv2d_4 (Conv2D)               (None, 145, 145, 16) 8208        max_pooling2d_3[0][0]            \n",
      "__________________________________________________________________________________________________\n",
      "max_pooling2d_2 (MaxPooling2D)  (None, 72, 72, 16)   0           conv2d_2[0][0]                   \n",
      "__________________________________________________________________________________________________\n",
      "max_pooling2d_4 (MaxPooling2D)  (None, 72, 72, 16)   0           conv2d_4[0][0]                   \n",
      "__________________________________________________________________________________________________\n",
      "flatten_1 (Flatten)             (None, 82944)        0           max_pooling2d_2[0][0]            \n",
      "__________________________________________________________________________________________________\n",
      "flatten_2 (Flatten)             (None, 82944)        0           max_pooling2d_4[0][0]            \n",
      "__________________________________________________________________________________________________\n",
      "concatenate_1 (Concatenate)     (None, 165888)       0           flatten_1[0][0]                  \n",
      "                                                                 flatten_2[0][0]                  \n",
      "__________________________________________________________________________________________________\n",
      "dense_1 (Dense)                 (None, 10)           1658890     concatenate_1[0][0]              \n",
      "__________________________________________________________________________________________________\n",
      "dense_2 (Dense)                 (None, 10)           110         dense_1[0][0]                    \n",
      "__________________________________________________________________________________________________\n",
      "dense_3 (Dense)                 (None, 1)            11          dense_2[0][0]                    \n",
      "==================================================================================================\n",
      "Total params: 1,678,563\n",
      "Trainable params: 1,678,563\n",
      "Non-trainable params: 0\n",
      "__________________________________________________________________________________________________\n",
      "None\n"
     ]
    },
    {
     "data": {
      "image/png": "[encoded data removed]",
      "text/plain": [
       "<IPython.core.display.Image object>"
      ]
     },
     "execution_count": 17,
     "metadata": {},
     "output_type": "execute_result"
    }
   ],
   "source": [
    "# Multiple Inputs\n",
    "from keras.utils import plot_model\n",
    "from keras.models import Model\n",
    "from keras.layers import Input\n",
    "from keras.layers import Dense\n",
    "from keras.layers import Flatten\n",
    "from keras.layers.convolutional import Conv2D\n",
    "from keras.layers.pooling import MaxPooling2D\n",
    "from keras.layers.merge import concatenate\n",
    "# first input model\n",
    "visible1 = Input(shape=(299,299,3))\n",
    "conv11 = Conv2D(32, kernel_size=4, activation='relu')(visible1)\n",
    "pool11 = MaxPooling2D(pool_size=(2, 2))(conv11)\n",
    "conv12 = Conv2D(16, kernel_size=4, activation='relu')(pool11)\n",
    "pool12 = MaxPooling2D(pool_size=(2, 2))(conv12)\n",
    "flat1 = Flatten()(pool12)\n",
    "# second input model\n",
    "visible2 = Input(shape=(299,299,3))\n",
    "conv21 = Conv2D(32, kernel_size=4, activation='relu')(visible2)\n",
    "pool21 = MaxPooling2D(pool_size=(2, 2))(conv21)\n",
    "conv22 = Conv2D(16, kernel_size=4, activation='relu')(pool21)\n",
    "pool22 = MaxPooling2D(pool_size=(2, 2))(conv22)\n",
    "flat2 = Flatten()(pool22)\n",
    "# merge input models\n",
    "merge = concatenate([flat1, flat2])\n",
    "# interpretation model\n",
    "hidden1 = Dense(10, activation='relu')(merge)\n",
    "hidden2 = Dense(10, activation='relu')(hidden1)\n",
    "output = Dense(1, activation='sigmoid')(hidden2)\n",
    "model = Model(inputs=[visible1, visible2], outputs=output)\n",
    "# summarize layers\n",
    "print(model.summary())\n",
    "# plot graph\n",
    "plot_model(model, to_file='multiple_inputs.png')"
   ]
  },
  {
   "cell_type": "code",
   "execution_count": null,
   "metadata": {},
   "outputs": [],
   "source": []
  },
  {
   "cell_type": "markdown",
   "metadata": {
    "colab_type": "text",
    "id": "u2e5WupIw2N2"
   },
   "source": [
    "## Training the model"
   ]
  },
  {
   "cell_type": "code",
   "execution_count": 18,
   "metadata": {
    "colab": {},
    "colab_type": "code",
    "id": "9f3yBUvkd_VJ"
   },
   "outputs": [],
   "source": [
    "model.compile(\n",
    "  optimizer=tf.keras.optimizers.SGD(lr=0.005, momentum=0.9), \n",
    "  loss=tf.keras.losses.CategoricalCrossentropy(label_smoothing=0.1),\n",
    "  metrics=['accuracy'])"
   ]
  },
  {
   "cell_type": "code",
   "execution_count": 23,
   "metadata": {
    "colab": {},
    "colab_type": "code",
    "id": "w_YKX2Qnfg6x"
   },
   "outputs": [],
   "source": [
    "# steps_per_epoch = train_generator.samples // train_generator.batch_size\n",
    "# validation_steps = valid_generator.samples // valid_generator.batch_size\n",
    "\n",
    "steps_per_epoch = 100801 // 32\n",
    "validation_steps = 25199 // 32\n",
    "# validation_steps = test_imgen.samples // test_imgen.batch_size"
   ]
  },
  {
   "cell_type": "code",
   "execution_count": 24,
   "metadata": {
    "colab": {},
    "colab_type": "code",
    "id": "w_YKX2Qnfg6x"
   },
   "outputs": [],
   "source": [
    "epochs = 100\n",
    "temp_hist = []"
   ]
  },
  {
   "cell_type": "code",
   "execution_count": 62,
   "metadata": {
    "colab": {},
    "colab_type": "code",
    "id": "w_YKX2Qnfg6x",
    "jupyter": {
     "source_hidden": true
    }
   },
   "outputs": [],
   "source": [
    "def combine_generator(gen1, gen2):  \n",
    "    while True:\n",
    "\n",
    "        xy = gen1.next() #or next(train_generator)\n",
    "        xy1 = gen2.next() #or next(train_generator1)\n",
    "        yield (xy[0],xy1[0])    \n",
    "#     while True:\n",
    "#         yield(gen1.next(), gen2.next())    \n",
    "class JoinedGenerator(keras.utils.Sequence):\n",
    "    def __init__(self, generator1, generator2):\n",
    "        self.generator1 = generator1\n",
    "        self.generator2 = generator2 \n",
    "\n",
    "    def __len__(self):\n",
    "        return len(self.generator1)\n",
    "\n",
    "    def __getitem__(self, i):\n",
    "        x1, y1 = self.generator1[i]\n",
    "        x2, y2 = self.generator2[i]\n",
    "        return [x1, x2], [y1, y2]\n",
    "\n",
    "    def on_epoch_end(self):\n",
    "        self.generator1.on_epoch_end()\n",
    "        self.generator2.on_epoch_end()\n",
    "# image_datagen = threeDimageAug.ImageDataGenerator(rotation_range=rotation_range, horizontal_flip=horizontal_flip, order=1, height_shift_range=height_shift_range, width_shift_range=width_shift_range, slice_flip=True)`\n",
    "# mask_datagen = threeDimageAug.ImageDataGenerator(rotation_range=rotation_range, horizontal_flip=horizontal_flip, order=0, height_shift_range=height_shift_range, width_shift_range=width_shift_range, slice_flip=True)\n",
    "# image_generator = image_datagen.flow(images[:,:,:,:,:], batch_size=batch, seed=seed, shuffle=True)\n",
    "# mask_generator = mask_datagen.flow(labels[:,:,:,:,:], batch_size=batch, seed=seed, shuffle=True)\n",
    "# combinedGenerator = combine_generator(image_generator, mask_generator)\n",
    "\n",
    "# model.fit_generator(combinedGenerator, steps_per_epoch=steps_per_epoch, epochs=iterations_save, callbacks=[csv_checkpoint], verbose=verbose)`\n"
   ]
  },
  {
   "cell_type": "code",
   "execution_count": 57,
   "metadata": {
    "colab": {},
    "colab_type": "code",
    "id": "w_YKX2Qnfg6x"
   },
   "outputs": [],
   "source": [
    "combinedGenerator = combine_generator(train_generator, train_generator_audio)\n",
    "combined_validator = combine_generator(valid_generator, valid_generator_audio)\n"
   ]
  },
  {
   "cell_type": "code",
   "execution_count": 69,
   "metadata": {
    "colab": {},
    "colab_type": "code",
    "id": "w_YKX2Qnfg6x"
   },
   "outputs": [],
   "source": [
    "training_generator = JoinedGenerator(train_generator, train_generator_audio)\n",
    "val_generator = JoinedGenerator(valid_generator, valid_generator_audio)\n"
   ]
  },
  {
   "cell_type": "code",
   "execution_count": 70,
   "metadata": {
    "jupyter": {
     "source_hidden": true
    }
   },
   "outputs": [
    {
     "name": "stdout",
     "output_type": "stream",
     "text": [
      "Epoch 1/1\n"
     ]
    },
    {
     "ename": "ValueError",
     "evalue": "Error when checking model target: the list of Numpy arrays that you are passing to your model is not the size the model expected. Expected to see 1 array(s), but instead got the following list of 2 arrays: [array([[0., 0., 1., ..., 0., 0., 0.],\n       [0., 0., 1., ..., 0., 0., 0.],\n       [0., 0., 1., ..., 0., 0., 0.],\n       ...,\n       [0., 0., 1., ..., 0., 0., 0.],\n       [0., 0., 1., ..., 0., 0., 0....",
     "output_type": "error",
     "traceback": [
      "\u001b[0;31m---------------------------------------------------------------------------\u001b[0m",
      "\u001b[0;31mValueError\u001b[0m                                Traceback (most recent call last)",
      "\u001b[0;32m<ipython-input-70-7758e0e35e5c>\u001b[0m in \u001b[0;36m<module>\u001b[0;34m\u001b[0m\n\u001b[1;32m      2\u001b[0m \u001b[0mepochs\u001b[0m\u001b[0;34m=\u001b[0m\u001b[0;36m1\u001b[0m\u001b[0;34m,\u001b[0m \u001b[0msteps_per_epoch\u001b[0m\u001b[0;34m=\u001b[0m\u001b[0msteps_per_epoch\u001b[0m\u001b[0;34m,\u001b[0m\u001b[0;34m\u001b[0m\u001b[0m\n\u001b[1;32m      3\u001b[0m \u001b[0mvalidation_data\u001b[0m\u001b[0;34m=\u001b[0m\u001b[0mval_generator\u001b[0m\u001b[0;34m,\u001b[0m\u001b[0;34m\u001b[0m\u001b[0m\n\u001b[0;32m----> 4\u001b[0;31m validation_steps=validation_steps,verbose=1,workers=4).history  \n\u001b[0m\u001b[1;32m      5\u001b[0m \u001b[0;31m#   temp_hist.append(hist,ignore_index=True)\u001b[0m\u001b[0;34m\u001b[0m\u001b[0;34m\u001b[0m\u001b[0m\n\u001b[1;32m      6\u001b[0m \u001b[0;31m# temp_hist.append(hist) #if temp_hist is list\u001b[0m\u001b[0;34m\u001b[0m\u001b[0;34m\u001b[0m\u001b[0m\n",
      "\u001b[0;32m/usr/local/lib/python3.5/dist-packages/keras/legacy/interfaces.py\u001b[0m in \u001b[0;36mwrapper\u001b[0;34m(*args, **kwargs)\u001b[0m\n\u001b[1;32m     89\u001b[0m                 warnings.warn('Update your `' + object_name + '` call to the ' +\n\u001b[1;32m     90\u001b[0m                               'Keras 2 API: ' + signature, stacklevel=2)\n\u001b[0;32m---> 91\u001b[0;31m             \u001b[0;32mreturn\u001b[0m \u001b[0mfunc\u001b[0m\u001b[0;34m(\u001b[0m\u001b[0;34m*\u001b[0m\u001b[0margs\u001b[0m\u001b[0;34m,\u001b[0m \u001b[0;34m**\u001b[0m\u001b[0mkwargs\u001b[0m\u001b[0;34m)\u001b[0m\u001b[0;34m\u001b[0m\u001b[0m\n\u001b[0m\u001b[1;32m     92\u001b[0m         \u001b[0mwrapper\u001b[0m\u001b[0;34m.\u001b[0m\u001b[0m_original_function\u001b[0m \u001b[0;34m=\u001b[0m \u001b[0mfunc\u001b[0m\u001b[0;34m\u001b[0m\u001b[0m\n\u001b[1;32m     93\u001b[0m         \u001b[0;32mreturn\u001b[0m \u001b[0mwrapper\u001b[0m\u001b[0;34m\u001b[0m\u001b[0m\n",
      "\u001b[0;32m/usr/local/lib/python3.5/dist-packages/keras/engine/training.py\u001b[0m in \u001b[0;36mfit_generator\u001b[0;34m(self, generator, steps_per_epoch, epochs, verbose, callbacks, validation_data, validation_steps, validation_freq, class_weight, max_queue_size, workers, use_multiprocessing, shuffle, initial_epoch)\u001b[0m\n\u001b[1;32m   1730\u001b[0m             \u001b[0muse_multiprocessing\u001b[0m\u001b[0;34m=\u001b[0m\u001b[0muse_multiprocessing\u001b[0m\u001b[0;34m,\u001b[0m\u001b[0;34m\u001b[0m\u001b[0m\n\u001b[1;32m   1731\u001b[0m             \u001b[0mshuffle\u001b[0m\u001b[0;34m=\u001b[0m\u001b[0mshuffle\u001b[0m\u001b[0;34m,\u001b[0m\u001b[0;34m\u001b[0m\u001b[0m\n\u001b[0;32m-> 1732\u001b[0;31m             initial_epoch=initial_epoch)\n\u001b[0m\u001b[1;32m   1733\u001b[0m \u001b[0;34m\u001b[0m\u001b[0m\n\u001b[1;32m   1734\u001b[0m     \u001b[0;34m@\u001b[0m\u001b[0minterfaces\u001b[0m\u001b[0;34m.\u001b[0m\u001b[0mlegacy_generator_methods_support\u001b[0m\u001b[0;34m\u001b[0m\u001b[0m\n",
      "\u001b[0;32m/usr/local/lib/python3.5/dist-packages/keras/engine/training_generator.py\u001b[0m in \u001b[0;36mfit_generator\u001b[0;34m(model, generator, steps_per_epoch, epochs, verbose, callbacks, validation_data, validation_steps, validation_freq, class_weight, max_queue_size, workers, use_multiprocessing, shuffle, initial_epoch)\u001b[0m\n\u001b[1;32m    218\u001b[0m                                             \u001b[0msample_weight\u001b[0m\u001b[0;34m=\u001b[0m\u001b[0msample_weight\u001b[0m\u001b[0;34m,\u001b[0m\u001b[0;34m\u001b[0m\u001b[0m\n\u001b[1;32m    219\u001b[0m                                             \u001b[0mclass_weight\u001b[0m\u001b[0;34m=\u001b[0m\u001b[0mclass_weight\u001b[0m\u001b[0;34m,\u001b[0m\u001b[0;34m\u001b[0m\u001b[0m\n\u001b[0;32m--> 220\u001b[0;31m                                             reset_metrics=False)\n\u001b[0m\u001b[1;32m    221\u001b[0m \u001b[0;34m\u001b[0m\u001b[0m\n\u001b[1;32m    222\u001b[0m                 \u001b[0mouts\u001b[0m \u001b[0;34m=\u001b[0m \u001b[0mto_list\u001b[0m\u001b[0;34m(\u001b[0m\u001b[0mouts\u001b[0m\u001b[0;34m)\u001b[0m\u001b[0;34m\u001b[0m\u001b[0m\n",
      "\u001b[0;32m/usr/local/lib/python3.5/dist-packages/keras/engine/training.py\u001b[0m in \u001b[0;36mtrain_on_batch\u001b[0;34m(self, x, y, sample_weight, class_weight, reset_metrics)\u001b[0m\n\u001b[1;32m   1506\u001b[0m             \u001b[0mx\u001b[0m\u001b[0;34m,\u001b[0m \u001b[0my\u001b[0m\u001b[0;34m,\u001b[0m\u001b[0;34m\u001b[0m\u001b[0m\n\u001b[1;32m   1507\u001b[0m             \u001b[0msample_weight\u001b[0m\u001b[0;34m=\u001b[0m\u001b[0msample_weight\u001b[0m\u001b[0;34m,\u001b[0m\u001b[0;34m\u001b[0m\u001b[0m\n\u001b[0;32m-> 1508\u001b[0;31m             class_weight=class_weight)\n\u001b[0m\u001b[1;32m   1509\u001b[0m         \u001b[0;32mif\u001b[0m \u001b[0mself\u001b[0m\u001b[0;34m.\u001b[0m\u001b[0m_uses_dynamic_learning_phase\u001b[0m\u001b[0;34m(\u001b[0m\u001b[0;34m)\u001b[0m\u001b[0;34m:\u001b[0m\u001b[0;34m\u001b[0m\u001b[0m\n\u001b[1;32m   1510\u001b[0m             \u001b[0mins\u001b[0m \u001b[0;34m=\u001b[0m \u001b[0mx\u001b[0m \u001b[0;34m+\u001b[0m \u001b[0my\u001b[0m \u001b[0;34m+\u001b[0m \u001b[0msample_weights\u001b[0m \u001b[0;34m+\u001b[0m \u001b[0;34m[\u001b[0m\u001b[0;36m1\u001b[0m\u001b[0;34m]\u001b[0m\u001b[0;34m\u001b[0m\u001b[0m\n",
      "\u001b[0;32m/usr/local/lib/python3.5/dist-packages/keras/engine/training.py\u001b[0m in \u001b[0;36m_standardize_user_data\u001b[0;34m(self, x, y, sample_weight, class_weight, check_array_lengths, batch_size)\u001b[0m\n\u001b[1;32m    619\u001b[0m                 \u001b[0mfeed_output_shapes\u001b[0m\u001b[0;34m,\u001b[0m\u001b[0;34m\u001b[0m\u001b[0m\n\u001b[1;32m    620\u001b[0m                 \u001b[0mcheck_batch_axis\u001b[0m\u001b[0;34m=\u001b[0m\u001b[0;32mFalse\u001b[0m\u001b[0;34m,\u001b[0m  \u001b[0;31m# Don't enforce the batch size.\u001b[0m\u001b[0;34m\u001b[0m\u001b[0m\n\u001b[0;32m--> 621\u001b[0;31m                 exception_prefix='target')\n\u001b[0m\u001b[1;32m    622\u001b[0m \u001b[0;34m\u001b[0m\u001b[0m\n\u001b[1;32m    623\u001b[0m             \u001b[0;31m# Generate sample-wise weight values given the `sample_weight` and\u001b[0m\u001b[0;34m\u001b[0m\u001b[0;34m\u001b[0m\u001b[0m\n",
      "\u001b[0;32m/usr/local/lib/python3.5/dist-packages/keras/engine/training_utils.py\u001b[0m in \u001b[0;36mstandardize_input_data\u001b[0;34m(data, names, shapes, check_batch_axis, exception_prefix)\u001b[0m\n\u001b[1;32m    107\u001b[0m                 \u001b[0;34m'Expected to see '\u001b[0m \u001b[0;34m+\u001b[0m \u001b[0mstr\u001b[0m\u001b[0;34m(\u001b[0m\u001b[0mlen\u001b[0m\u001b[0;34m(\u001b[0m\u001b[0mnames\u001b[0m\u001b[0;34m)\u001b[0m\u001b[0;34m)\u001b[0m \u001b[0;34m+\u001b[0m \u001b[0;34m' array(s), '\u001b[0m\u001b[0;34m\u001b[0m\u001b[0m\n\u001b[1;32m    108\u001b[0m                 \u001b[0;34m'but instead got the following list of '\u001b[0m \u001b[0;34m+\u001b[0m\u001b[0;34m\u001b[0m\u001b[0m\n\u001b[0;32m--> 109\u001b[0;31m                 str(len(data)) + ' arrays: ' + str(data)[:200] + '...')\n\u001b[0m\u001b[1;32m    110\u001b[0m         \u001b[0;32melif\u001b[0m \u001b[0mlen\u001b[0m\u001b[0;34m(\u001b[0m\u001b[0mnames\u001b[0m\u001b[0;34m)\u001b[0m \u001b[0;34m>\u001b[0m \u001b[0;36m1\u001b[0m\u001b[0;34m:\u001b[0m\u001b[0;34m\u001b[0m\u001b[0m\n\u001b[1;32m    111\u001b[0m             raise ValueError(\n",
      "\u001b[0;31mValueError\u001b[0m: Error when checking model target: the list of Numpy arrays that you are passing to your model is not the size the model expected. Expected to see 1 array(s), but instead got the following list of 2 arrays: [array([[0., 0., 1., ..., 0., 0., 0.],\n       [0., 0., 1., ..., 0., 0., 0.],\n       [0., 0., 1., ..., 0., 0., 0.],\n       ...,\n       [0., 0., 1., ..., 0., 0., 0.],\n       [0., 0., 1., ..., 0., 0., 0...."
     ]
    }
   ],
   "source": [
    "hist = model.fit_generator(training_generator,\n",
    "epochs=1, steps_per_epoch=steps_per_epoch,\n",
    "validation_data=val_generator,\n",
    "validation_steps=validation_steps,verbose=1,workers=4).history  \n",
    "#   temp_hist.append(hist,ignore_index=True)\n",
    "# temp_hist.append(hist) #if temp_hist is list\n",
    "\n",
    "#   print(hist)\n",
    "# saved_model_path = \"./bimodal_late_ep\" + str(ep)\n",
    "# tf.saved_model.save(model, saved_model_path)\n",
    "# hist_df = pd.DataFrame(temp_hist)  #if temp_hist is list\n",
    "# hist_df.to_csv('train_bimodal_early_log.csv')     #if temp_hist is list\n",
    "#   temp_hist.to_csv('train_log.csv')     \n"
   ]
  },
  {
   "cell_type": "code",
   "execution_count": null,
   "metadata": {
    "colab": {},
    "colab_type": "code",
    "id": "w_YKX2Qnfg6x"
   },
   "outputs": [
    {
     "name": "stdout",
     "output_type": "stream",
     "text": [
      "2520/2520 [==============================] - 1731s 687ms/step - loss: 2.1317 - accuracy: 0.4443 - val_loss: 2.0830 - val_accuracy: 0.6171\n",
      "WARNING:tensorflow:From /usr/local/lib/python3.5/dist-packages/tensorflow_core/python/ops/resource_variable_ops.py:1781: calling BaseResourceVariable.__init__ (from tensorflow.python.ops.resource_variable_ops) with constraint is deprecated and will be removed in a future version.\n",
      "Instructions for updating:\n",
      "If using Keras pass *_constraint arguments to layers.\n"
     ]
    },
    {
     "name": "stderr",
     "output_type": "stream",
     "text": [
      "WARNING:tensorflow:From /usr/local/lib/python3.5/dist-packages/tensorflow_core/python/ops/resource_variable_ops.py:1781: calling BaseResourceVariable.__init__ (from tensorflow.python.ops.resource_variable_ops) with constraint is deprecated and will be removed in a future version.\n",
      "Instructions for updating:\n",
      "If using Keras pass *_constraint arguments to layers.\n"
     ]
    },
    {
     "name": "stdout",
     "output_type": "stream",
     "text": [
      "INFO:tensorflow:Assets written to: ./bimodal_early_ep0/assets\n"
     ]
    },
    {
     "name": "stderr",
     "output_type": "stream",
     "text": [
      "INFO:tensorflow:Assets written to: ./bimodal_early_ep0/assets\n"
     ]
    },
    {
     "name": "stdout",
     "output_type": "stream",
     "text": [
      "2520/2520 [==============================] - 1704s 676ms/step - loss: 1.5885 - accuracy: 0.7843 - val_loss: 1.7014 - val_accuracy: 0.7498\n",
      "INFO:tensorflow:Assets written to: ./bimodal_early_ep1/assets\n"
     ]
    },
    {
     "name": "stderr",
     "output_type": "stream",
     "text": [
      "INFO:tensorflow:Assets written to: ./bimodal_early_ep1/assets\n"
     ]
    },
    {
     "name": "stdout",
     "output_type": "stream",
     "text": [
      "2520/2520 [==============================] - 1705s 677ms/step - loss: 1.4573 - accuracy: 0.8297 - val_loss: 1.9037 - val_accuracy: 0.6726\n",
      "INFO:tensorflow:Assets written to: ./bimodal_early_ep2/assets\n"
     ]
    },
    {
     "name": "stderr",
     "output_type": "stream",
     "text": [
      "INFO:tensorflow:Assets written to: ./bimodal_early_ep2/assets\n"
     ]
    },
    {
     "name": "stdout",
     "output_type": "stream",
     "text": [
      "2520/2520 [==============================] - 1706s 677ms/step - loss: 1.3938 - accuracy: 0.8508 - val_loss: 1.7864 - val_accuracy: 0.7175\n",
      "INFO:tensorflow:Assets written to: ./bimodal_early_ep3/assets\n"
     ]
    },
    {
     "name": "stderr",
     "output_type": "stream",
     "text": [
      "INFO:tensorflow:Assets written to: ./bimodal_early_ep3/assets\n"
     ]
    },
    {
     "name": "stdout",
     "output_type": "stream",
     "text": [
      "2520/2520 [==============================] - 1710s 678ms/step - loss: 1.3433 - accuracy: 0.8678 - val_loss: 1.5247 - val_accuracy: 0.8038\n",
      "INFO:tensorflow:Assets written to: ./bimodal_early_ep4/assets\n"
     ]
    },
    {
     "name": "stderr",
     "output_type": "stream",
     "text": [
      "INFO:tensorflow:Assets written to: ./bimodal_early_ep4/assets\n"
     ]
    },
    {
     "name": "stdout",
     "output_type": "stream",
     "text": [
      "2520/2520 [==============================] - 1711s 679ms/step - loss: 1.3141 - accuracy: 0.8763 - val_loss: 1.4654 - val_accuracy: 0.8301\n",
      "INFO:tensorflow:Assets written to: ./bimodal_early_ep5/assets\n"
     ]
    },
    {
     "name": "stderr",
     "output_type": "stream",
     "text": [
      "INFO:tensorflow:Assets written to: ./bimodal_early_ep5/assets\n"
     ]
    },
    {
     "name": "stdout",
     "output_type": "stream",
     "text": [
      "2520/2520 [==============================] - 1713s 680ms/step - loss: 1.2884 - accuracy: 0.8852 - val_loss: 1.5305 - val_accuracy: 0.8058\n",
      "INFO:tensorflow:Assets written to: ./bimodal_early_ep6/assets\n"
     ]
    },
    {
     "name": "stderr",
     "output_type": "stream",
     "text": [
      "INFO:tensorflow:Assets written to: ./bimodal_early_ep6/assets\n"
     ]
    },
    {
     "name": "stdout",
     "output_type": "stream",
     "text": [
      "2520/2520 [==============================] - 1712s 679ms/step - loss: 1.2623 - accuracy: 0.8935 - val_loss: 1.4994 - val_accuracy: 0.8077\n",
      "INFO:tensorflow:Assets written to: ./bimodal_early_ep7/assets\n"
     ]
    },
    {
     "name": "stderr",
     "output_type": "stream",
     "text": [
      "INFO:tensorflow:Assets written to: ./bimodal_early_ep7/assets\n"
     ]
    },
    {
     "name": "stdout",
     "output_type": "stream",
     "text": [
      "2520/2520 [==============================] - 1713s 680ms/step - loss: 1.2469 - accuracy: 0.8977 - val_loss: 1.5202 - val_accuracy: 0.8133\n",
      "INFO:tensorflow:Assets written to: ./bimodal_early_ep8/assets\n"
     ]
    },
    {
     "name": "stderr",
     "output_type": "stream",
     "text": [
      "INFO:tensorflow:Assets written to: ./bimodal_early_ep8/assets\n"
     ]
    },
    {
     "name": "stdout",
     "output_type": "stream",
     "text": [
      "2520/2520 [==============================] - 1715s 680ms/step - loss: 1.2358 - accuracy: 0.9007 - val_loss: 1.5805 - val_accuracy: 0.8031\n",
      "INFO:tensorflow:Assets written to: ./bimodal_early_ep9/assets\n"
     ]
    },
    {
     "name": "stderr",
     "output_type": "stream",
     "text": [
      "INFO:tensorflow:Assets written to: ./bimodal_early_ep9/assets\n"
     ]
    },
    {
     "name": "stdout",
     "output_type": "stream",
     "text": [
      "2520/2520 [==============================] - 1711s 679ms/step - loss: 1.2188 - accuracy: 0.9062 - val_loss: 1.5164 - val_accuracy: 0.8088\n",
      "INFO:tensorflow:Assets written to: ./bimodal_early_ep10/assets\n"
     ]
    },
    {
     "name": "stderr",
     "output_type": "stream",
     "text": [
      "INFO:tensorflow:Assets written to: ./bimodal_early_ep10/assets\n"
     ]
    },
    {
     "name": "stdout",
     "output_type": "stream",
     "text": [
      "2414/2520 [===========================>..] - ETA: 1:07 - loss: 1.2088 - accuracy: 0.9100"
     ]
    }
   ],
   "source": [
    "for ep in range(epochs):\n",
    "    hist = model.fit_generator(\n",
    "    train_generator,\n",
    "    epochs=1, steps_per_epoch=steps_per_epoch,\n",
    "    validation_data=valid_generator,\n",
    "    validation_steps=validation_steps,verbose=1,workers=4).history  \n",
    "#     temp_hist.append(hist,ignore_index=True)\n",
    "    temp_hist.append(hist) #if temp_hist is list\n",
    "    \n",
    "#     print(hist)\n",
    "    saved_model_path = \"./bimodal_early_ep\" + str(ep)\n",
    "    tf.saved_model.save(model, saved_model_path)\n",
    "    hist_df = pd.DataFrame(temp_hist)  #if temp_hist is list\n",
    "    hist_df.to_csv('train_bimodal_early_log.csv')     #if temp_hist is list\n",
    "#     temp_hist.to_csv('train_log.csv')     \n"
   ]
  },
  {
   "cell_type": "code",
   "execution_count": 29,
   "metadata": {
    "colab": {},
    "colab_type": "code",
    "id": "w_YKX2Qnfg6x"
   },
   "outputs": [
    {
     "name": "stdout",
     "output_type": "stream",
     "text": [
      "INFO:tensorflow:Assets written to: ./saved_lip_null_ep_9/assets\n"
     ]
    },
    {
     "name": "stderr",
     "output_type": "stream",
     "text": [
      "INFO:tensorflow:Assets written to: ./saved_lip_null_ep_9/assets\n"
     ]
    }
   ],
   "source": [
    "saved_model_path = \"./saved_lip_null_ep_\" + str(ep)\n",
    "tf.saved_model.save(model, saved_model_path)"
   ]
  },
  {
   "cell_type": "code",
   "execution_count": 28,
   "metadata": {
    "colab": {},
    "colab_type": "code",
    "id": "w_YKX2Qnfg6x"
   },
   "outputs": [
    {
     "name": "stdout",
     "output_type": "stream",
     "text": [
      "[{'loss': [2.316262753337687], 'val_loss': [2.3719793514530685], 'accuracy': [0.5353865], 'val_accuracy': [0.52523845]}, {'loss': [1.819408319894935], 'val_loss': [2.455325429503982], 'accuracy': [0.6993451], 'val_accuracy': [0.5309022]}, {'loss': [1.6879657605120673], 'val_loss': [2.310744246731502], 'accuracy': [0.74445575], 'val_accuracy': [0.57944155]}, {'loss': [1.6099599338661326], 'val_loss': [2.4728358858909063], 'accuracy': [0.7702421], 'val_accuracy': [0.5187301]}, {'loss': [1.5588393566224708], 'val_loss': [2.624276320202741], 'accuracy': [0.78682524], 'val_accuracy': [0.49880764]}, {'loss': [1.5191592816488921], 'val_loss': [2.472897128005096], 'accuracy': [0.79950136], 'val_accuracy': [0.53686404]}, {'loss': [1.4837063854236077], 'val_loss': [2.3960891182168678], 'accuracy': [0.8112473], 'val_accuracy': [0.57675874]}, {'loss': [1.4569287674841982], 'val_loss': [2.4842185424507517], 'accuracy': [0.8193714], 'val_accuracy': [0.5288653]}, {'loss': [1.4350209747379936], 'val_loss': [2.434778626469247], 'accuracy': [0.8265157], 'val_accuracy': [0.56274843]}, {'loss': [1.4133494795965613], 'val_loss': [2.7797186754655763], 'accuracy': [0.83410645], 'val_accuracy': [0.50158983]}]\n"
     ]
    }
   ],
   "source": [
    "print(temp_hist)"
   ]
  },
  {
   "cell_type": "code",
   "execution_count": 30,
   "metadata": {
    "colab": {},
    "colab_type": "code",
    "id": "CYOw0fTO1W4x"
   },
   "outputs": [
    {
     "data": {
      "text/plain": [
       "[<matplotlib.lines.Line2D at 0x7f2a46e12ba8>]"
      ]
     },
     "execution_count": 30,
     "metadata": {},
     "output_type": "execute_result"
    },
    {
     "data": {
      "image/png": "[encoded data removed]",
      "text/plain": [
       "<Figure size 432x288 with 1 Axes>"
      ]
     },
     "metadata": {
      "needs_background": "light"
     },
     "output_type": "display_data"
    },
    {
     "data": {
      "image/png": "[encoded data removed]",
      "text/plain": [
       "<Figure size 432x288 with 1 Axes>"
      ]
     },
     "metadata": {
      "needs_background": "light"
     },
     "output_type": "display_data"
    }
   ],
   "source": [
    "plt.figure()\n",
    "plt.ylabel(\"Loss (training and validation)\")\n",
    "plt.xlabel(\"Training Steps\")\n",
    "plt.ylim([0,2])\n",
    "plt.plot(hist[\"loss\"])\n",
    "plt.plot(hist[\"val_loss\"])\n",
    "\n",
    "plt.figure()\n",
    "plt.ylabel(\"Accuracy (training and validation)\")\n",
    "plt.xlabel(\"Training Steps\")\n",
    "plt.ylim([0,1])\n",
    "plt.plot(hist[\"accuracy\"])\n",
    "plt.plot(hist[\"val_accuracy\"])"
   ]
  },
  {
   "cell_type": "code",
   "execution_count": 38,
   "metadata": {},
   "outputs": [
    {
     "data": {
      "text/plain": [
       "{'accuracy': [0.82985216, 0.84089106, 0.8508385],\n",
       " 'loss': [1.4290987213208197, 1.3962311056261618, 1.3634767802042203],\n",
       " 'val_accuracy': [0.50039744, 0.53502584, 0.5633446],\n",
       " 'val_loss': [2.695763185501857, 2.6466522813790934, 2.444194936695463]}"
      ]
     },
     "execution_count": 38,
     "metadata": {},
     "output_type": "execute_result"
    }
   ],
   "source": [
    "hist"
   ]
  },
  {
   "cell_type": "markdown",
   "metadata": {
    "colab_type": "text",
    "id": "YCsAsQM1IRvA"
   },
   "source": [
    "Finally, the trained model can be saved for deployment to TF Serving or TF Lite (on mobile) as follows."
   ]
  },
  {
   "cell_type": "code",
   "execution_count": 42,
   "metadata": {
    "colab": {},
    "colab_type": "code",
    "id": "LGvTi69oIc2d"
   },
   "outputs": [
    {
     "name": "stdout",
     "output_type": "stream",
     "text": [
      "WARNING:tensorflow:From /usr/local/lib/python3.5/dist-packages/tensorflow_core/python/ops/resource_variable_ops.py:1781: calling BaseResourceVariable.__init__ (from tensorflow.python.ops.resource_variable_ops) with constraint is deprecated and will be removed in a future version.\n",
      "Instructions for updating:\n",
      "If using Keras pass *_constraint arguments to layers.\n"
     ]
    },
    {
     "name": "stderr",
     "output_type": "stream",
     "text": [
      "WARNING:tensorflow:From /usr/local/lib/python3.5/dist-packages/tensorflow_core/python/ops/resource_variable_ops.py:1781: calling BaseResourceVariable.__init__ (from tensorflow.python.ops.resource_variable_ops) with constraint is deprecated and will be removed in a future version.\n",
      "Instructions for updating:\n",
      "If using Keras pass *_constraint arguments to layers.\n"
     ]
    },
    {
     "name": "stdout",
     "output_type": "stream",
     "text": [
      "INFO:tensorflow:Assets written to: ./saved_lip_fill/assets\n"
     ]
    },
    {
     "name": "stderr",
     "output_type": "stream",
     "text": [
      "INFO:tensorflow:Assets written to: ./saved_lip_fill/assets\n"
     ]
    }
   ],
   "source": [
    "saved_model_path = \"./saved_lip_null\"\n",
    "tf.saved_model.save(model, saved_model_path)"
   ]
  },
  {
   "cell_type": "code",
   "execution_count": null,
   "metadata": {},
   "outputs": [],
   "source": [
    "pred"
   ]
  },
  {
   "cell_type": "code",
   "execution_count": null,
   "metadata": {},
   "outputs": [
    {
     "name": "stdout",
     "output_type": "stream",
     "text": [
      " 5935/25196 [======>.......................] - ETA: 1:00:28"
     ]
    }
   ],
   "source": [
    "# model.evaluate_generator(generator=valid_generator,\n",
    "# steps=STEP_SIZE_VALID)\n",
    "\n",
    "# STEP_SIZE_TEST=valid_generator.n//valid_generator.batch_size\n",
    "# valid_generator.reset()\n",
    "# pred=model.predict_generator(valid_generator,\n",
    "# steps=STEP_SIZE_TEST,\n",
    "# verbose=1)\n",
    "\n",
    "# predicted_class_indices=np.argmax(pred,axis=1)\n",
    "\n",
    "# labels = (train_generator.class_indices)\n",
    "# labels = dict((v,k) for k,v in labels.items())\n",
    "# predictions = [labels[k] for k in predicted_class_indices]\n",
    "\n",
    "\n",
    "filenames = valid_generator.filenames\n",
    "nb_samples = len(filenames)\n",
    "\n",
    "# # filenames = test_generator.filenames\n",
    "# # nb_samples = len(filenames)\n",
    "\n",
    "predict = model.predict_generator(valid_generator,steps = nb_samples,\n",
    "verbose=1)\n",
    "predicted_class_indices=np.argmax(predict,axis=1)\n",
    "\n",
    "# model.predict_generator()"
   ]
  },
  {
   "cell_type": "code",
   "execution_count": 27,
   "metadata": {},
   "outputs": [
    {
     "data": {
      "text/plain": [
       "25199"
      ]
     },
     "execution_count": 27,
     "metadata": {},
     "output_type": "execute_result"
    }
   ],
   "source": [
    "len(test_generator.filenames)"
   ]
  },
  {
   "cell_type": "code",
   "execution_count": 31,
   "metadata": {},
   "outputs": [
    {
     "name": "stdout",
     "output_type": "stream",
     "text": [
      "Found 25196 images belonging to 51 classes.\n",
      "Found 25196 images belonging to 51 classes.\n"
     ]
    }
   ],
   "source": [
    "test_dir = 'Dataset_Null/test'\n",
    "# !ls\n",
    "\n",
    "testgen_kwargs = dict(rescale=1./255, validation_split=.20)\n",
    "testflow_kwargs = dict(target_size=IMAGE_SIZE, batch_size=BATCH_SIZE,\n",
    "                   interpolation=\"bilinear\")\n",
    "test_gen = tf.keras.preprocessing.image.ImageDataGenerator(\n",
    "    **testgen_kwargs)\n",
    "\n",
    "test_generator = test_gen.flow_from_directory(\n",
    "    test_dir, subset=None, shuffle=False, **testflow_kwargs)\n",
    "\n",
    "TEST_BATCH_SIZE = len(test_generator.filenames)\n",
    "\n",
    "testflow_kwargs = dict(target_size=IMAGE_SIZE, batch_size=BATCH_SIZE,\n",
    "                   interpolation=\"bilinear\")\n",
    "\n",
    "test_generator = test_gen.flow_from_directory(\n",
    "    test_dir, subset=None, shuffle=False, **testflow_kwargs)\n"
   ]
  },
  {
   "cell_type": "code",
   "execution_count": 32,
   "metadata": {},
   "outputs": [
    {
     "name": "stdout",
     "output_type": "stream",
     "text": [
      "788/787 [==============================] - 226s 286ms/step\n"
     ]
    }
   ],
   "source": [
    "\n",
    "filenames = test_generator.filenames\n",
    "nb_samples = len(filenames)\n",
    "\n",
    "predict = model.predict_generator(test_generator,steps = nb_samples/BATCH_SIZE, verbose=True)\n",
    "\n",
    "# filenames = valid_generator.filenames\n",
    "# nb_samples = len(filenames)\n",
    "# predict = model.predict_generator(valid_generator,steps = nb_samples,\n",
    "# verbose=1)\n",
    "# predicted_class_indices=np.argmax(predict,axis=1)\n",
    "\n",
    "# labels = (train_generator.class_indices)\n",
    "# labels = dict((v,k) for k,v in labels.items())\n",
    "# predictions = [labels[k] for k in predicted_class_indices]\n",
    "\n",
    "# filenames=valid_generator.filenames\n",
    "# results=pd.DataFrame({\"Filename\":filenames,\n",
    "#                       \"Predictions\":predictions})\n",
    "# results.to_csv(\"results.csv\",index=False)"
   ]
  },
  {
   "cell_type": "code",
   "execution_count": 33,
   "metadata": {},
   "outputs": [],
   "source": [
    "predicted_class_indices=np.argmax(predict,axis=1)\n",
    "\n",
    "labels = (train_generator.class_indices)"
   ]
  },
  {
   "cell_type": "code",
   "execution_count": 34,
   "metadata": {},
   "outputs": [],
   "source": [
    "labels = dict((v,k) for k,v in labels.items())"
   ]
  },
  {
   "cell_type": "code",
   "execution_count": 216,
   "metadata": {},
   "outputs": [],
   "source": [
    "# predictions = [labels[k] for k in predicted_class_indices]\n",
    "# results=pd.DataFrame({\"Filename\":filenames,\n",
    "#                       \"Predictions\":predictions})\n",
    "# results.to_csv(\"results.csv\",index=False)\n",
    "# label_df = pd.DataFrame.from_dict(labels, orient='index',columns=['str_label'])\n",
    "# label_df.index.name='index'\n",
    "labels[51]='Missing'  \n",
    "def word_to_int(str_label):\n",
    "    try:\n",
    "        return int(label_df[label_df['str_label']==str_label].index.values[0])\n",
    "    except:\n",
    "        return None"
   ]
  },
  {
   "cell_type": "code",
   "execution_count": 35,
   "metadata": {},
   "outputs": [],
   "source": [
    "predictions = [labels.get(k) for k in predicted_class_indices]\n",
    "results=pd.DataFrame({\"Filename\":filenames,\n",
    "                      \"Predictions\":predictions})\n",
    "results.to_csv(\"results_pred_null.csv\",index=False)\n"
   ]
  },
  {
   "cell_type": "code",
   "execution_count": 36,
   "metadata": {},
   "outputs": [],
   "source": [
    "results['label'] = results.apply(lambda x: x['Filename'].split('_')[2].split('.')[0], axis=1)\n",
    "results.to_csv(\"results_pred_null2.csv\",index=False)\n",
    "\n",
    "# results['n_label'] = results.apply(lambda x: word_to_int(x['label']), axis=1)\n",
    "# results[results['Predictions'].isna()] = 'Missing'\n"
   ]
  },
  {
   "cell_type": "code",
   "execution_count": 199,
   "metadata": {},
   "outputs": [],
   "source": [
    "results['n_prediction'] = predicted_class_indices"
   ]
  },
  {
   "cell_type": "code",
   "execution_count": 254,
   "metadata": {},
   "outputs": [
    {
     "data": {
      "text/plain": [
       "Series([], Name: Filename, dtype: object)"
      ]
     },
     "execution_count": 254,
     "metadata": {},
     "output_type": "execute_result"
    }
   ],
   "source": [
    "results[results['n_label'].isnull()]['Filename']"
   ]
  },
  {
   "cell_type": "code",
   "execution_count": 253,
   "metadata": {},
   "outputs": [],
   "source": [
    "results = results.drop(results.index[1218])"
   ]
  },
  {
   "cell_type": "code",
   "execution_count": 16,
   "metadata": {},
   "outputs": [],
   "source": [
    "# results.to_csv(\"\"results_pred2\".csv\",index=False)\n",
    "results = pd.read_csv(\"results_pred_Null.csv\")"
   ]
  },
  {
   "cell_type": "code",
   "execution_count": 18,
   "metadata": {},
   "outputs": [
    {
     "data": {
      "text/html": [
       "<div>\n",
       "<style scoped>\n",
       "    .dataframe tbody tr th:only-of-type {\n",
       "        vertical-align: middle;\n",
       "    }\n",
       "\n",
       "    .dataframe tbody tr th {\n",
       "        vertical-align: top;\n",
       "    }\n",
       "\n",
       "    .dataframe thead th {\n",
       "        text-align: right;\n",
       "    }\n",
       "</style>\n",
       "<table border=\"1\" class=\"dataframe\">\n",
       "  <thead>\n",
       "    <tr style=\"text-align: right;\">\n",
       "      <th></th>\n",
       "      <th>Filename</th>\n",
       "      <th>Predictions</th>\n",
       "      <th>label</th>\n",
       "      <th>n_label</th>\n",
       "      <th>n_prediction</th>\n",
       "    </tr>\n",
       "  </thead>\n",
       "  <tbody>\n",
       "    <tr>\n",
       "      <td>0</td>\n",
       "      <td>a/s10_lbaa2n_a.jpg</td>\n",
       "      <td>e</td>\n",
       "      <td>a</td>\n",
       "      <td>0.0</td>\n",
       "      <td>9</td>\n",
       "    </tr>\n",
       "    <tr>\n",
       "      <td>1</td>\n",
       "      <td>a/s10_lbaa3s_a.jpg</td>\n",
       "      <td>l</td>\n",
       "      <td>a</td>\n",
       "      <td>0.0</td>\n",
       "      <td>21</td>\n",
       "    </tr>\n",
       "    <tr>\n",
       "      <td>2</td>\n",
       "      <td>a/s10_lbaa4p_a.jpg</td>\n",
       "      <td>e</td>\n",
       "      <td>a</td>\n",
       "      <td>0.0</td>\n",
       "      <td>9</td>\n",
       "    </tr>\n",
       "    <tr>\n",
       "      <td>3</td>\n",
       "      <td>a/s10_lbaa5a_a.jpg</td>\n",
       "      <td>white</td>\n",
       "      <td>a</td>\n",
       "      <td>0.0</td>\n",
       "      <td>45</td>\n",
       "    </tr>\n",
       "    <tr>\n",
       "      <td>4</td>\n",
       "      <td>a/s10_lbba6n_a.jpg</td>\n",
       "      <td>j</td>\n",
       "      <td>a</td>\n",
       "      <td>0.0</td>\n",
       "      <td>19</td>\n",
       "    </tr>\n",
       "    <tr>\n",
       "      <td>...</td>\n",
       "      <td>...</td>\n",
       "      <td>...</td>\n",
       "      <td>...</td>\n",
       "      <td>...</td>\n",
       "      <td>...</td>\n",
       "    </tr>\n",
       "    <tr>\n",
       "      <td>25191</td>\n",
       "      <td>zero/s16_briezs_zero.jpg</td>\n",
       "      <td>Missing</td>\n",
       "      <td>zero</td>\n",
       "      <td>50.0</td>\n",
       "      <td>51</td>\n",
       "    </tr>\n",
       "    <tr>\n",
       "      <td>25192</td>\n",
       "      <td>zero/s16_brirza_zero.jpg</td>\n",
       "      <td>Missing</td>\n",
       "      <td>zero</td>\n",
       "      <td>50.0</td>\n",
       "      <td>51</td>\n",
       "    </tr>\n",
       "    <tr>\n",
       "      <td>25193</td>\n",
       "      <td>zero/s16_brwszs_zero.jpg</td>\n",
       "      <td>soon</td>\n",
       "      <td>zero</td>\n",
       "      <td>50.0</td>\n",
       "      <td>39</td>\n",
       "    </tr>\n",
       "    <tr>\n",
       "      <td>25194</td>\n",
       "      <td>zero/s16_bwafzs_zero.jpg</td>\n",
       "      <td>Missing</td>\n",
       "      <td>zero</td>\n",
       "      <td>50.0</td>\n",
       "      <td>51</td>\n",
       "    </tr>\n",
       "    <tr>\n",
       "      <td>25195</td>\n",
       "      <td>zero/s16_bwasza_zero.jpg</td>\n",
       "      <td>q</td>\n",
       "      <td>zero</td>\n",
       "      <td>50.0</td>\n",
       "      <td>32</td>\n",
       "    </tr>\n",
       "  </tbody>\n",
       "</table>\n",
       "<p>25196 rows × 5 columns</p>\n",
       "</div>"
      ],
      "text/plain": [
       "                       Filename Predictions label  n_label  n_prediction\n",
       "0            a/s10_lbaa2n_a.jpg           e     a      0.0             9\n",
       "1            a/s10_lbaa3s_a.jpg           l     a      0.0            21\n",
       "2            a/s10_lbaa4p_a.jpg           e     a      0.0             9\n",
       "3            a/s10_lbaa5a_a.jpg       white     a      0.0            45\n",
       "4            a/s10_lbba6n_a.jpg           j     a      0.0            19\n",
       "...                         ...         ...   ...      ...           ...\n",
       "25191  zero/s16_briezs_zero.jpg     Missing  zero     50.0            51\n",
       "25192  zero/s16_brirza_zero.jpg     Missing  zero     50.0            51\n",
       "25193  zero/s16_brwszs_zero.jpg        soon  zero     50.0            39\n",
       "25194  zero/s16_bwafzs_zero.jpg     Missing  zero     50.0            51\n",
       "25195  zero/s16_bwasza_zero.jpg           q  zero     50.0            32\n",
       "\n",
       "[25196 rows x 5 columns]"
      ]
     },
     "execution_count": 18,
     "metadata": {},
     "output_type": "execute_result"
    }
   ],
   "source": [
    "results"
   ]
  },
  {
   "cell_type": "code",
   "execution_count": 89,
   "metadata": {},
   "outputs": [],
   "source": [
    "new_list = [str(labels.get(k)) for k in predicted_class_indices]\n"
   ]
  },
  {
   "cell_type": "code",
   "execution_count": 38,
   "metadata": {},
   "outputs": [
    {
     "name": "stderr",
     "output_type": "stream",
     "text": [
      "/usr/local/lib/python3.5/site-packages/sklearn/ensemble/weight_boosting.py:29: DeprecationWarning: numpy.core.umath_tests is an internal NumPy module and should not be imported. It will be removed in a future NumPy release.\n",
      "  from numpy.core.umath_tests import inner1d\n"
     ]
    }
   ],
   "source": [
    "import sklearn\n",
    "from sklearn import metrics\n",
    "from sklearn.model_selection import cross_val_score, train_test_split\n",
    "from sklearn.ensemble import RandomForestClassifier\n",
    "from sklearn.preprocessing import MinMaxScaler\n",
    "from scipy.stats import chi2_contingency\n",
    "from sklearn.metrics import classification_report,mean_squared_error\n",
    "import seaborn as sns; sns.set()\n"
   ]
  },
  {
   "cell_type": "code",
   "execution_count": 138,
   "metadata": {},
   "outputs": [],
   "source": [
    "  \n",
    "\n",
    "# label_df = pd.DataFrame.from_dict(labels, orient='index',columns=['str_label'])\n",
    "# label_df.index.name='index'\n",
    "# word_to_int = dict((c,i) for i,c in enumerate(word_map))\n",
    "#     #print(word_to_int)\n",
    "#     int_to_word = dict((i,c) for i,c in enumerate(word_map))\n",
    "#     #print(target[1])\n",
    "#     #print(word_to_int[target[1]])\n",
    "#     interger_encoded = [word_to_int[word] for word in label]\n",
    "    \n",
    "#     onehot_encoded = list()\n",
    "#     for value in interger_encoded:\n",
    "#         letter = [0 for _ in range(len(word_map))]\n",
    "#         letter[value] = 1\n",
    "#         onehot_encoded.append(letter)\n",
    "#     result = np.asarray(onehot_encoded,dtype = np.int32)"
   ]
  },
  {
   "cell_type": "code",
   "execution_count": 94,
   "metadata": {},
   "outputs": [],
   "source": []
  },
  {
   "cell_type": "code",
   "execution_count": 208,
   "metadata": {},
   "outputs": [
    {
     "data": {
      "text/plain": [
       "0         0\n",
       "1         0\n",
       "2         0\n",
       "3         0\n",
       "4         0\n",
       "         ..\n",
       "25192    50\n",
       "25193    50\n",
       "25194    50\n",
       "25195    50\n",
       "25196    50\n",
       "Name: n_label, Length: 25197, dtype: object"
      ]
     },
     "execution_count": 208,
     "metadata": {},
     "output_type": "execute_result"
    }
   ],
   "source": [
    "# predicted_class_indices\n",
    "results.n_label\n",
    "# word_map = ['bin','lay','place','set',\n",
    "#            'blue','red','green','white',\n",
    "#            'at','in','with','by',\n",
    "#            'a','b','c','d','e','f','g','h','i','j','k','l','m','n','o','p','q','r','s','t','u','v','x','y','z',\n",
    "#            'zero','one','two','three','four','five','six','seven','eight','nine',\n",
    "#            'again','now','soon','please']\n",
    "# word_to_int = dict((c,i) for i,c in enumerate(word_map))\n",
    "# #print(word_to_int)\n",
    "# int_to_word = dict((i,c) for i,c in enumerate(word_map))\n",
    "# #print(target[1])\n",
    "# #print(word_to_int[target[1]])\n",
    "# interger_encoded = [word_to_int[word] for word in label]"
   ]
  },
  {
   "cell_type": "code",
   "execution_count": 24,
   "metadata": {},
   "outputs": [
    {
     "name": "stdout",
     "output_type": "stream",
     "text": [
      "\n",
      "Classification Report:\n",
      "              precision    recall  f1-score   support\n",
      "\n",
      "        0.0       0.45      0.24      0.31       168\n",
      "        1.0       0.88      0.65      0.75      1050\n",
      "        2.0       0.50      0.29      0.36      1049\n",
      "        3.0       0.55      0.25      0.34       168\n",
      "        4.0       0.76      0.72      0.74      1056\n",
      "        5.0       0.44      0.92      0.60      1050\n",
      "        6.0       0.76      0.75      0.76      1048\n",
      "        7.0       0.22      0.04      0.06       168\n",
      "        8.0       0.17      0.01      0.01       168\n",
      "        9.0       0.21      0.11      0.15       168\n",
      "       10.0       0.26      0.16      0.20       420\n",
      "       11.0       0.82      0.52      0.64       168\n",
      "       12.0       0.88      0.61      0.72       420\n",
      "       13.0       0.58      0.90      0.70       420\n",
      "       14.0       0.16      0.32      0.21       168\n",
      "       15.0       0.42      0.53      0.47      1050\n",
      "       16.0       0.34      0.60      0.44       168\n",
      "       17.0       0.00      0.00      0.00       168\n",
      "       18.0       0.03      0.00      0.01      1051\n",
      "       19.0       0.00      0.00      0.00       168\n",
      "       20.0       0.00      0.00      0.00       168\n",
      "       21.0       0.00      0.00      0.00       168\n",
      "       22.0       0.00      0.00      0.00      1073\n",
      "       23.0       0.01      0.03      0.01       168\n",
      "       24.0       0.02      0.01      0.01       168\n",
      "       25.0       0.00      0.00      0.00       420\n",
      "       26.0       0.08      0.04      0.06      1050\n",
      "       27.0       0.00      0.01      0.00       168\n",
      "       28.0       0.02      0.03      0.02       420\n",
      "       29.0       0.01      0.03      0.01       168\n",
      "       30.0       0.19      0.02      0.03      1048\n",
      "       31.0       0.15      0.10      0.12      1050\n",
      "       32.0       0.00      0.00      0.00       168\n",
      "       33.0       0.01      0.02      0.01       168\n",
      "       34.0       0.01      0.00      0.00      1050\n",
      "       35.0       0.00      0.03      0.01       168\n",
      "       36.0       0.00      0.00      0.00      1021\n",
      "       37.0       0.02      0.01      0.01       420\n",
      "       38.0       0.00      0.00      0.00       420\n",
      "       39.0       0.05      0.01      0.01      1050\n",
      "       40.0       0.00      0.01      0.00       168\n",
      "       41.0       0.00      0.00      0.00       420\n",
      "       42.0       0.00      0.00      0.00       420\n",
      "       43.0       0.02      0.08      0.03       168\n",
      "       44.0       0.00      0.01      0.00       168\n",
      "       45.0       0.00      0.00      0.00      1050\n",
      "       46.0       0.00      0.00      0.00      1050\n",
      "       47.0       0.00      0.01      0.00       168\n",
      "       48.0       0.00      0.00      0.00       168\n",
      "       49.0       0.00      0.00      0.00       168\n",
      "       50.0       0.00      0.00      0.00       420\n",
      "       51.0       0.00      0.00      0.00         0\n",
      "\n",
      "avg / total       0.23      0.21      0.21     25196\n",
      "\n"
     ]
    },
    {
     "name": "stderr",
     "output_type": "stream",
     "text": [
      "/usr/local/lib/python3.5/site-packages/sklearn/metrics/classification.py:1135: UndefinedMetricWarning: Precision and F-score are ill-defined and being set to 0.0 in labels with no predicted samples.\n",
      "  'precision', 'predicted', average, warn_for)\n",
      "/usr/local/lib/python3.5/site-packages/sklearn/metrics/classification.py:1137: UndefinedMetricWarning: Recall and F-score are ill-defined and being set to 0.0 in labels with no true samples.\n",
      "  'recall', 'true', average, warn_for)\n"
     ]
    }
   ],
   "source": [
    "# from sklearn.metrics import confusion_matrix,multilabel_confusion_matrix\n",
    "from sklearn.metrics import classification_report\n",
    "# con_mat = tf.math.confusion_matrix(\n",
    "#     labels=results.n_label,\n",
    "#     predictions=results.n_prediction)\n",
    "    \n",
    "#     num_classes=None,\n",
    "#     weights=None,\n",
    "#     dtype=tf.dtypes.string,\n",
    "#     name=None\n",
    "# )\n",
    "# con_mat_norm = np.around(con_mat.astype('float') / con_mat.sum(axis=1)[:, np.newaxis], decimals=2)\n",
    " \n",
    "# con_mat_df = pd.DataFrame(con_mat_norm,\n",
    "#                      index = classes, \n",
    "#                      columns = classes)\n",
    "conf_matrix = confusion_matrix(y_true=results.n_label, y_pred=results.n_prediction)\n",
    "print('\\nClassification Report:\\n', classification_report(y_true=results.n_label, y_pred=results.n_prediction, labels=))\n",
    "# x_axis_labels = ['GB','US'] # labels for x-axis\n",
    "# y_axis_labels = ['GB','US'] # labels for y-axis\n",
    "\n",
    "# ax = sns.heatmap(conf_matrix,annot=True,fmt=\"d\",cmap=\"YlGnBu\")\n",
    "#                  , \n",
    "#                  xticklabels=x_axis_labels, yticklabels=y_axis_labels)"
   ]
  },
  {
   "cell_type": "code",
   "execution_count": 40,
   "metadata": {},
   "outputs": [
    {
     "name": "stdout",
     "output_type": "stream",
     "text": [
      "\n",
      "Classification Report:\n",
      "              precision    recall  f1-score   support\n",
      "\n",
      "          a       0.40      0.25      0.31       168\n",
      "      again       0.80      0.49      0.60      1050\n",
      "         at       0.42      0.33      0.37      1049\n",
      "          b       0.42      0.11      0.18       168\n",
      "        bin       0.46      0.79      0.58      1056\n",
      "       blue       0.70      0.66      0.68      1050\n",
      "         by       0.56      0.90      0.69      1048\n",
      "          c       0.31      0.02      0.04       168\n",
      "          d       0.33      0.06      0.10       168\n",
      "          e       0.39      0.07      0.12       168\n",
      "      eight       0.34      0.08      0.13       420\n",
      "          f       0.66      0.60      0.63       168\n",
      "       five       0.56      0.63      0.59       420\n",
      "       four       0.57      0.78      0.66       420\n",
      "          g       0.14      0.23      0.18       168\n",
      "      green       0.45      0.84      0.58      1050\n",
      "          h       0.36      0.52      0.42       168\n",
      "          i       0.24      0.33      0.28       168\n",
      "         in       0.66      0.25      0.36      1051\n",
      "          j       0.32      0.30      0.31       168\n",
      "          k       0.36      0.36      0.36       168\n",
      "          l       0.67      0.28      0.39       168\n",
      "        lay       0.85      0.48      0.61      1073\n",
      "          m       0.91      0.73      0.81       168\n",
      "          n       0.13      0.32      0.18       168\n",
      "       nine       0.24      0.40      0.30       420\n",
      "        now       0.75      0.47      0.58      1050\n",
      "          o       0.12      0.59      0.20       168\n",
      "        one       0.22      0.67      0.34       420\n",
      "          p       0.24      0.04      0.06       168\n",
      "      place       0.90      0.48      0.63      1048\n",
      "     please       0.98      0.59      0.74      1050\n",
      "          q       0.53      0.22      0.31       168\n",
      "          r       0.09      0.84      0.17       168\n",
      "        red       0.60      0.55      0.57      1050\n",
      "          s       0.68      0.09      0.16       168\n",
      "        set       0.80      0.26      0.39      1021\n",
      "      seven       0.89      0.44      0.59       420\n",
      "        six       0.92      0.29      0.44       420\n",
      "       soon       0.77      0.77      0.77      1050\n",
      "          t       0.10      0.04      0.05       168\n",
      "      three       0.52      0.69      0.59       420\n",
      "        two       0.33      0.23      0.27       420\n",
      "          u       0.21      0.48      0.29       168\n",
      "          v       0.31      0.49      0.38       168\n",
      "      white       0.82      0.38      0.52      1050\n",
      "       with       0.61      0.90      0.73      1050\n",
      "          x       0.52      0.19      0.28       168\n",
      "          y       0.39      0.18      0.24       168\n",
      "          z       0.52      0.18      0.27       168\n",
      "       zero       0.81      0.61      0.70       420\n",
      "\n",
      "avg / total       0.62      0.51      0.51     25196\n",
      "\n"
     ]
    }
   ],
   "source": [
    "from sklearn.metrics import classification_report, confusion_matrix\n",
    "\n",
    "conf_matrix = confusion_matrix(y_true=results.label, y_pred=results.Predictions)\n",
    "print('\\nClassification Report:\\n', classification_report(y_true=results.label, y_pred=results.Predictions))\n"
   ]
  },
  {
   "cell_type": "code",
   "execution_count": 41,
   "metadata": {},
   "outputs": [],
   "source": [
    "import seaborn as sns"
   ]
  },
  {
   "cell_type": "code",
   "execution_count": 40,
   "metadata": {},
   "outputs": [
    {
     "data": {
      "text/plain": [
       "array(['e', 'l', 'white', 'j', 'a', 'x', 'two', 'at', 'one', 'v', 'again',\n",
       "       'now', 'by', 'r', 'in', 'eight', 'bin', 'nine', 's', 'm', 'green',\n",
       "       'five', 'o', 't', 'n', 'soon', 'blue', 'four', 'd', 'g', 'three',\n",
       "       'with', 'p', 'u', 'Missing', 'h', 'q', 'seven', 'please', 'y',\n",
       "       'set', 'lay', 'red', 'b', 'place', 'c', 'zero', 'six', 'f', 'k',\n",
       "       'z'], dtype=object)"
      ]
     },
     "execution_count": 40,
     "metadata": {},
     "output_type": "execute_result"
    }
   ],
   "source": [
    "results.Predictions.unique()"
   ]
  },
  {
   "cell_type": "code",
   "execution_count": 44,
   "metadata": {},
   "outputs": [
    {
     "data": {
      "image/png": "[encoded data removed]",
      "text/plain": [
       "<Figure size 432x288 with 2 Axes>"
      ]
     },
     "metadata": {
      "needs_background": "light"
     },
     "output_type": "display_data"
    }
   ],
   "source": [
    "ax = sns.heatmap(conf_matrix,annot=False,fmt=\"d\",cmap=\"YlGnBu\"\n",
    "                 , xticklabels='auto', yticklabels='auto')\n",
    "#                  xticklabels=x_axis_labels, yticklabels=y_axis_labels)"
   ]
  },
  {
   "cell_type": "code",
   "execution_count": 44,
   "metadata": {},
   "outputs": [
    {
     "data": {
      "image/png": "[encoded data removed]",
      "text/plain": [
       "<Figure size 1440x1080 with 2 Axes>"
      ]
     },
     "metadata": {},
     "output_type": "display_data"
    }
   ],
   "source": [
    "plt.subplots(figsize=(20,15))\n",
    "\n",
    "cm = conf_matrix.astype('float') / conf_matrix.sum(axis=1)[:, np.newaxis]\n",
    "ax = sns.heatmap(cm,annot=False,fmt=\"d\",cmap=plt.cm.Blues,annot_kws={\"size\": 16},\n",
    "                xticklabels=results.label.unique(),yticklabels=results.label.unique())"
   ]
  },
  {
   "cell_type": "code",
   "execution_count": 25,
   "metadata": {},
   "outputs": [
    {
     "ename": "NameError",
     "evalue": "name 'labels' is not defined",
     "output_type": "error",
     "traceback": [
      "\u001b[0;31m---------------------------------------------------------------------------\u001b[0m",
      "\u001b[0;31mNameError\u001b[0m                                 Traceback (most recent call last)",
      "\u001b[0;32m<ipython-input-25-0a1df294b701>\u001b[0m in \u001b[0;36m<module>\u001b[0;34m\u001b[0m\n\u001b[0;32m----> 1\u001b[0;31m \u001b[0mlabels\u001b[0m\u001b[0;34m\u001b[0m\u001b[0m\n\u001b[0m",
      "\u001b[0;31mNameError\u001b[0m: name 'labels' is not defined"
     ]
    }
   ],
   "source": [
    "labels"
   ]
  },
  {
   "cell_type": "code",
   "execution_count": 46,
   "metadata": {},
   "outputs": [
    {
     "data": {
      "text/plain": [
       "20148"
      ]
     },
     "execution_count": 46,
     "metadata": {},
     "output_type": "execute_result"
    }
   ],
   "source": [
    "filenames = valid_generator.filenames\n",
    "nb_samples = len(filenames)\n",
    "nb_samples"
   ]
  },
  {
   "cell_type": "code",
   "execution_count": 49,
   "metadata": {},
   "outputs": [
    {
     "data": {
      "text/plain": [
       "644364"
      ]
     },
     "execution_count": 49,
     "metadata": {},
     "output_type": "execute_result"
    }
   ],
   "source": [
    "len(predictions)\n"
   ]
  },
  {
   "cell_type": "markdown",
   "metadata": {},
   "source": [
    "## Load Saved Model"
   ]
  },
  {
   "cell_type": "code",
   "execution_count": 14,
   "metadata": {},
   "outputs": [],
   "source": [
    "# saved_model_path = \"./saved_lip_fill\"\n",
    "saved_model_path = \"./saved_lip_null_ep_9\""
   ]
  },
  {
   "cell_type": "code",
   "execution_count": 15,
   "metadata": {},
   "outputs": [],
   "source": [
    "model = tf.keras.models.load_model(saved_model_path)\n",
    "\n",
    "# model = tf.saved_model.load(\n",
    "#     export_dir=saved_model_path,\n",
    "#     tags=None\n",
    "# )\n",
    "\n",
    "# model, saved_model_path"
   ]
  },
  {
   "cell_type": "markdown",
   "metadata": {
    "colab_type": "text",
    "id": "QzW4oNRjILaq"
   },
   "source": [
    "## Optional: Deployment to TensorFlow Lite\n",
    "\n",
    "[TensorFlow Lite](https://www.tensorflow.org/lite) lets you deploy TensorFlow models to mobile and IoT devices. The code below shows how to convert the trained model to TF Lite and apply post-training tools from the [TensorFlow Model Optimization Toolkit](https://www.tensorflow.org/model_optimization). Finally, it runs it in the TF Lite Interpreter to examine the resulting quality\n",
    "\n",
    "  * Converting without optimization provides the same results as before (up to roundoff error).\n",
    "  * Converting with optimization without any data quantizes the model weights to 8 bits, but inference still uses floating-point computation for the neural network activations. This reduces model size almost by a factor of 4 and improves CPU latency on mobile devices.\n",
    "  * On top, computation of the neural network activations can be quantized to 8-bit integers as well if a small reference dataset is provided to calibrate the quantization range. On a mobile device, this accelerates inference further and makes it possible to run on accelerators like EdgeTPU."
   ]
  },
  {
   "cell_type": "code",
   "execution_count": null,
   "metadata": {},
   "outputs": [],
   "source": []
  },
  {
   "cell_type": "code",
   "execution_count": null,
   "metadata": {
    "colab": {},
    "colab_type": "code",
    "id": "Va1Vo92fSyV6"
   },
   "outputs": [],
   "source": [
    "#@title Optimization settings\n",
    "optimize_lite_model = False  #@param {type:\"boolean\"}\n",
    "#@markdown Setting a value greater than zero enables quantization of neural network activations. A few dozen is already a useful amount.\n",
    "num_calibration_examples = 60  #@param {type:\"slider\", min:0, max:1000, step:1}\n",
    "representative_dataset = None\n",
    "if optimize_lite_model and num_calibration_examples:\n",
    "  # Use a bounded number of training examples without labels for calibration.\n",
    "  # TFLiteConverter expects a list of input tensors, each with batch size 1.\n",
    "  representative_dataset = lambda: itertools.islice(\n",
    "      ([image[None, ...]] for batch, _ in train_generator for image in batch),\n",
    "      num_calibration_examples)\n",
    "\n",
    "converter = tf.lite.TFLiteConverter.from_saved_model(saved_model_path)\n",
    "if optimize_lite_model:\n",
    "  converter.optimizations = [tf.lite.Optimize.DEFAULT]\n",
    "  if representative_dataset:  # This is optional, see above.\n",
    "    converter.representative_dataset = representative_dataset\n",
    "lite_model_content = converter.convert()\n",
    "\n",
    "with open(\"/tmp/lite_flowers_model\", \"wb\") as f:\n",
    "  f.write(lite_model_content)\n",
    "print(\"Wrote %sTFLite model of %d bytes.\" %\n",
    "      (\"optimized \" if optimize_lite_model else \"\", len(lite_model_content)))"
   ]
  },
  {
   "cell_type": "code",
   "execution_count": null,
   "metadata": {
    "colab": {},
    "colab_type": "code",
    "id": "_wqEmD0xIqeG"
   },
   "outputs": [],
   "source": [
    "interpreter = tf.lite.Interpreter(model_content=lite_model_content)\n",
    "# This little helper wraps the TF Lite interpreter as a numpy-to-numpy function.\n",
    "def lite_model(images):\n",
    "  interpreter.allocate_tensors()\n",
    "  interpreter.set_tensor(interpreter.get_input_details()[0]['index'], images)\n",
    "  interpreter.invoke()\n",
    "  return interpreter.get_tensor(interpreter.get_output_details()[0]['index'])"
   ]
  },
  {
   "cell_type": "code",
   "execution_count": null,
   "metadata": {
    "colab": {},
    "colab_type": "code",
    "id": "JMMK-fZrKrk8"
   },
   "outputs": [],
   "source": [
    "#@markdown For rapid experimentation, start with a moderate number of examples.\n",
    "num_eval_examples = 50  #@param {type:\"slider\", min:0, max:700}\n",
    "eval_dataset = ((image, label)  # TFLite expects batch size 1.\n",
    "                for batch in train_generator\n",
    "                for (image, label) in zip(*batch))\n",
    "count = 0\n",
    "count_lite_tf_agree = 0\n",
    "count_lite_correct = 0\n",
    "for image, label in eval_dataset:\n",
    "  probs_lite = lite_model(image[None, ...])[0]\n",
    "  probs_tf = model(image[None, ...]).numpy()[0]\n",
    "  y_lite = np.argmax(probs_lite)\n",
    "  y_tf = np.argmax(probs_tf)\n",
    "  y_true = np.argmax(label)\n",
    "  count +=1\n",
    "  if y_lite == y_tf: count_lite_tf_agree += 1\n",
    "  if y_lite == y_true: count_lite_correct += 1\n",
    "  if count >= num_eval_examples: break\n",
    "print(\"TF Lite model agrees with original model on %d of %d examples (%g%%).\" %\n",
    "      (count_lite_tf_agree, count, 100.0 * count_lite_tf_agree / count))\n",
    "print(\"TF Lite model is accurate on %d of %d examples (%g%%).\" %\n",
    "      (count_lite_correct, count, 100.0 * count_lite_correct / count))"
   ]
  },
  {
   "cell_type": "markdown",
   "metadata": {},
   "source": [
    "## MUltiple Inputs"
   ]
  },
  {
   "cell_type": "code",
   "execution_count": 6,
   "metadata": {},
   "outputs": [],
   "source": [
    "# from tf.keras.preprocessing.image import ImageDataGenerator\n",
    "input_imgen = tf.keras.preprocessing.image.ImageDataGenerator(rescale = 1./255, \n",
    "                                   shear_range = 0.2, \n",
    "                                   zoom_range = 0.2,\n",
    "                                   rotation_range=5.,\n",
    "                                   horizontal_flip = False)\n",
    "\n",
    "test_imgen = tf.keras.preprocessing.image.ImageDataGenerator(rescale = 1./255)"
   ]
  },
  {
   "cell_type": "code",
   "execution_count": 7,
   "metadata": {},
   "outputs": [],
   "source": [
    "\n",
    "\n",
    "\n",
    "def generate_generator_multiple(generator,dir1, dir2, batch_size, img_height,img_width):\n",
    "    genX1 = generator.flow_from_directory(dir1,\n",
    "                                          target_size = (img_height,img_width),\n",
    "                                          class_mode = 'categorical',\n",
    "                                          batch_size = batch_size,\n",
    "                                          shuffle=False, \n",
    "                                          seed=7)\n",
    "    \n",
    "    genX2 = generator.flow_from_directory(dir2,\n",
    "                                          target_size = (img_height,img_width),\n",
    "                                          class_mode = 'categorical',\n",
    "                                          batch_size = batch_size,\n",
    "                                          shuffle=False, \n",
    "                                          seed=7)\n",
    "    while True:\n",
    "            X1i = genX1.next()\n",
    "            X2i = genX2.next()\n",
    "            yield [X1i[0], X2i[0]], X2i[1]  #Yield both images and their mutual label\n",
    "            "
   ]
  },
  {
   "cell_type": "code",
   "execution_count": 28,
   "metadata": {},
   "outputs": [],
   "source": [
    "train_dir_1 = \"../dataset/Dataset_Img299/train\"\n",
    "train_dir_2 = \"../dataset/Dataset_neg20db/train\""
   ]
  },
  {
   "cell_type": "code",
   "execution_count": 29,
   "metadata": {},
   "outputs": [],
   "source": [
    "img_height=299"
   ]
  },
  {
   "cell_type": "code",
   "execution_count": 30,
   "metadata": {},
   "outputs": [],
   "source": [
    "inputgenerator=generate_generator_multiple(generator=input_imgen,\n",
    "                                           dir1=train_dir_1,\n",
    "                                           dir2=train_dir_2,\n",
    "                                           batch_size=BATCH_SIZE,\n",
    "                                           img_height=img_height,\n",
    "                                           img_width=img_height)       \n",
    "     \n",
    "# testgenerator=generate_generator_multiple(test_imgen,\n",
    "#                                           dir1=train_dir_1,\n",
    "#                                           dir2=train_dir_2,\n",
    "#                                           batch_size=batch_size,\n",
    "#                                           img_height=img_height,\n",
    "#                                           img_width=img_height)    "
   ]
  },
  {
   "cell_type": "code",
   "execution_count": 31,
   "metadata": {},
   "outputs": [],
   "source": [
    "test_dir_1 = \"../dataset/Dataset_Img299/test\"\n",
    "test_dir_2 = \"../dataset/Dataset_neg20db/test\"\n",
    "\n",
    "testgenerator=generate_generator_multiple(test_imgen,\n",
    "                                          dir1=test_dir_1,\n",
    "                                          dir2=test_dir_2,\n",
    "                                          batch_size=BATCH_SIZE,\n",
    "                                          img_height=img_height,\n",
    "                                          img_width=img_height)              "
   ]
  },
  {
   "cell_type": "code",
   "execution_count": 32,
   "metadata": {},
   "outputs": [
    {
     "name": "stdout",
     "output_type": "stream",
     "text": [
      "Epoch 1/1\n",
      "Found 25196 images belonging to 51 classes.\n",
      "Epoch 1/1\n",
      "Found 25196 images belonging to 51 classes.\n",
      "Found 25196 images belonging to 51 classes.\n",
      "Found 25196 images belonging to 51 classes.\n",
      "Found 25201 images belonging to 51 classes.\n",
      "Found 25201 images belonging to 51 classes.\n",
      "Found 25201 images belonging to 51 classes.\n",
      "Found 25201 images belonging to 51 classes.\n",
      "Found 100804 images belonging to 51 classes.\n",
      "Found 100804 images belonging to 51 classes.\n",
      "Found 100804 images belonging to 51 classes.\n",
      "Epoch 1/1\n",
      "Found 100804 images belonging to 51 classes.\n",
      "Found 100804 images belonging to 51 classes.\n",
      "Found 100804 images belonging to 51 classes.\n",
      "Found 100804 images belonging to 51 classes.\n",
      "Found 100804 images belonging to 51 classes.\n",
      "3150/3150 [==============================] - 3336s 1s/step - loss: 1.1921e-07 - accuracy: 0.0196 - val_loss: 1.1921e-07 - val_accuracy: 0.0196\n"
     ]
    }
   ],
   "source": [
    "\n",
    "# history=model.fit_generator(inputgenerator,\n",
    "#                         steps_per_epoch=trainsetsize/batch_size,\n",
    "#                         epochs = epochs,\n",
    "#                         validation_data = testgenerator,\n",
    "#                         validation_steps = testsetsize/batch_size,\n",
    "#                         use_multiprocessing=True,\n",
    "#                         shuffle=False)\n",
    "    \n",
    "hist = model.fit_generator(inputgenerator,\n",
    "epochs=1, steps_per_epoch=steps_per_epoch,\n",
    "validation_data=testgenerator,\n",
    "validation_steps=validation_steps,\n",
    "use_multiprocessing=True,\n",
    "verbose=1,workers=4).history  \n",
    "#   temp_hist.append(hist,ignore_index=True)\n",
    "# temp_hist.append(hist) #if temp_hist is list\n",
    "\n",
    "#   print(hist)\n",
    "# saved_model_path = \"./bimodal_late_ep\" + str(ep)\n",
    "# tf.saved_model.save(model, saved_model_path)\n",
    "# hist_df = pd.DataFrame(temp_hist)  #if temp_hist is list\n",
    "# hist_df.to_csv('train_bimodal_early_log.csv')     #if temp_hist is list\n",
    "#   temp_hist.to_csv('train_log.csv')     \n",
    "    \n",
    "    "
   ]
  },
  {
   "cell_type": "code",
   "execution_count": null,
   "metadata": {},
   "outputs": [],
   "source": []
  }
 ],
 "metadata": {
  "accelerator": "GPU",
  "colab": {
   "collapsed_sections": [
    "ScitaPqhKtuW"
   ],
   "last_runtime": {
    "build_target": "",
    "kind": "local"
   },
   "name": "TF Hub for TF2: Image Module Retraining (preview)",
   "provenance": [],
   "version": "0.3.2"
  },
  "kernelspec": {
   "display_name": "Python 3",
   "language": "python",
   "name": "python3"
  },
  "language_info": {
   "codemirror_mode": {
    "name": "ipython",
    "version": 3
   },
   "file_extension": ".py",
   "mimetype": "text/x-python",
   "name": "python",
   "nbconvert_exporter": "python",
   "pygments_lexer": "ipython3",
   "version": "3.5.3"
  }
 },
 "nbformat": 4,
 "nbformat_minor": 4
}
