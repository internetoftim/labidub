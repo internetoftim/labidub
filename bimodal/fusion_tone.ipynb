{
 "cells": [
  {
   "cell_type": "markdown",
   "metadata": {},
   "source": [
    "# import modules"
   ]
  },
  {
   "cell_type": "code",
   "execution_count": 1,
   "metadata": {},
   "outputs": [
    {
     "name": "stderr",
     "output_type": "stream",
     "text": [
      "Using TensorFlow backend.\n"
     ]
    }
   ],
   "source": [
    "import keras\n",
    "from keras.utils import plot_model,to_categorical\n",
    "from keras.layers import Dense,LSTM,Bidirectional,TimeDistributed,Conv1D,MaxPool1D,Concatenate,Dropout,BatchNormalization,Add\n",
    "from keras import Model,Input\n",
    "from keras.layers import Reshape,Flatten\n",
    "import numpy as np\n",
    "from sklearn.model_selection import train_test_split\n",
    "import keras.backend as K\n",
    "import keras.callbacks as kcallbacks\n",
    "from sklearn.preprocessing import LabelEncoder\n",
    "import string\n",
    "from keras.optimizers import SGD\n",
    "import warnings\n",
    "# from lsuv_init import LSUVinit\n",
    "warnings.filterwarnings('ignore')"
   ]
  },
  {
   "cell_type": "markdown",
   "metadata": {},
   "source": [
    "# Load Features"
   ]
  },
  {
   "cell_type": "code",
   "execution_count": 2,
   "metadata": {
    "collapsed": true
   },
   "outputs": [],
   "source": [
    "alphabet_set=list(string.ascii_letters[:26])\n",
    "alphabet_set.insert(0,'0')"
   ]
  },
  {
   "cell_type": "markdown",
   "metadata": {},
   "source": [
    "## One-hot Encoding"
   ]
  },
  {
   "cell_type": "markdown",
   "metadata": {},
   "source": [
    "# Models\n"
   ]
  },
  {
   "cell_type": "code",
   "execution_count": 4,
   "metadata": {
    "collapsed": true
   },
   "outputs": [],
   "source": [
    "X_gabor_train = np.load('./feature/X_gabor_train.npy')\n",
    "X_gabor_val = np.load('./feature/X_gabor_validation.npy')"
   ]
  },
  {
   "cell_type": "code",
   "execution_count": 11,
   "metadata": {},
   "outputs": [
    {
     "name": "stdout",
     "output_type": "stream",
     "text": [
      "[1 2 3 4]\n"
     ]
    }
   ],
   "source": [
    "y_tone_train =np.load('./feature/y_tone_train.npy')\n",
    "y_tone_val =np.load('./feature/y_tone_validation.npy')\n",
    "\n",
    "le=LabelEncoder()\n",
    "y_tone_train=le.fit_transform(y_tone_train)\n",
    "y_tone_val=le.fit_transform(y_tone_val)\n",
    "\n",
    "CLASSES_LIST=le.classes_\n",
    "print(CLASSES_LIST)\n",
    "\n",
    "y_tone_train=to_categorical(y_tone_train,num_classes=4)\n",
    "y_tone_val=to_categorical(y_tone_val,num_classes=4)\n"
   ]
  },
  {
   "cell_type": "code",
   "execution_count": 17,
   "metadata": {},
   "outputs": [
    {
     "name": "stdout",
     "output_type": "stream",
     "text": [
      "(471, 4)\n"
     ]
    }
   ],
   "source": [
    "print(y_tone_val.shape)\n",
    "y_tone_train = y_tone_train.reshape(4233,1,4)\n",
    "y_tone_val = y_tone_val.reshape(471,1,4)\n"
   ]
  },
  {
   "cell_type": "code",
   "execution_count": 18,
   "metadata": {
    "collapsed": true
   },
   "outputs": [],
   "source": [
    "X_mfcc_train=np.load('./feature/mfcc_fusion_train.npy')\n",
    "X_mfcc_val=np.load('./feature/mfcc_fusion_validation.npy')"
   ]
  },
  {
   "cell_type": "code",
   "execution_count": 3,
   "metadata": {
    "scrolled": true
   },
   "outputs": [
    {
     "name": "stdout",
     "output_type": "stream",
     "text": [
      "__________________________________________________________________________________________________\n",
      "Layer (type)                    Output Shape         Param #     Connected to                     \n",
      "==================================================================================================\n",
      "inputs_gabor (InputLayer)       (None, 35, 7)        0                                            \n",
      "__________________________________________________________________________________________________\n",
      "conv1d_1 (Conv1D)               (None, 35, 64)       1408        inputs_gabor[0][0]               \n",
      "__________________________________________________________________________________________________\n",
      "conv1d_2 (Conv1D)               (None, 35, 128)      7296        inputs_gabor[0][0]               \n",
      "__________________________________________________________________________________________________\n",
      "conv1d_3 (Conv1D)               (None, 35, 256)      23552       inputs_gabor[0][0]               \n",
      "__________________________________________________________________________________________________\n",
      "max_pooling1d_1 (MaxPooling1D)  (None, 17, 64)       0           conv1d_1[0][0]                   \n",
      "__________________________________________________________________________________________________\n",
      "max_pooling1d_2 (MaxPooling1D)  (None, 17, 128)      0           conv1d_2[0][0]                   \n",
      "__________________________________________________________________________________________________\n",
      "max_pooling1d_3 (MaxPooling1D)  (None, 17, 256)      0           conv1d_3[0][0]                   \n",
      "__________________________________________________________________________________________________\n",
      "concatenate_1 (Concatenate)     (None, 17, 448)      0           max_pooling1d_1[0][0]            \n",
      "                                                                 max_pooling1d_2[0][0]            \n",
      "                                                                 max_pooling1d_3[0][0]            \n",
      "__________________________________________________________________________________________________\n",
      "inputs_mfcc (InputLayer)        (None, 50, 57)       0                                            \n",
      "__________________________________________________________________________________________________\n",
      "batch_normalization_1 (BatchNor (None, 17, 448)      1792        concatenate_1[0][0]              \n",
      "__________________________________________________________________________________________________\n",
      "bidirectional_1 (Bidirectional) (None, 50, 128)      62464       inputs_mfcc[0][0]                \n",
      "__________________________________________________________________________________________________\n",
      "conv1d_4 (Conv1D)               (None, 2, 64)        458816      batch_normalization_1[0][0]      \n",
      "__________________________________________________________________________________________________\n",
      "bidirectional_2 (Bidirectional) (None, 200)          183200      bidirectional_1[0][0]            \n",
      "__________________________________________________________________________________________________\n",
      "max_pooling1d_4 (MaxPooling1D)  (None, 1, 64)        0           conv1d_4[0][0]                   \n",
      "__________________________________________________________________________________________________\n",
      "reshape_1 (Reshape)             (None, 1, 200)       0           bidirectional_2[0][0]            \n",
      "__________________________________________________________________________________________________\n",
      "concatenate_2 (Concatenate)     (None, 1, 264)       0           max_pooling1d_4[0][0]            \n",
      "                                                                 reshape_1[0][0]                  \n",
      "__________________________________________________________________________________________________\n",
      "batch_normalization_2 (BatchNor (None, 1, 264)       1056        concatenate_2[0][0]              \n",
      "__________________________________________________________________________________________________\n",
      "time_distributed_1 (TimeDistrib (None, 1, 64)        16960       batch_normalization_2[0][0]      \n",
      "__________________________________________________________________________________________________\n",
      "dropout_1 (Dropout)             (None, 1, 64)        0           time_distributed_1[0][0]         \n",
      "__________________________________________________________________________________________________\n",
      "time_distributed_2 (TimeDistrib (None, 1, 4)         260         dropout_1[0][0]                  \n",
      "==================================================================================================\n",
      "Total params: 756,804\n",
      "Trainable params: 755,380\n",
      "Non-trainable params: 1,424\n",
      "__________________________________________________________________________________________________\n"
     ]
    }
   ],
   "source": [
    "NUM_CLASSES=4\n",
    "BATCH_SIZE=128\n",
    "EPOCHS=100\n",
    "MODEL_SAVE_PATH='./models/early_merged_tone_cnn.h5'\n",
    "\n",
    "K.clear_session()\n",
    "inputs1=Input(shape=(35,7),name='inputs_gabor')\n",
    "\n",
    "\n",
    "x_1=Conv1D(filters=64,kernel_size=3,padding='same')(inputs1)\n",
    "x_1=MaxPool1D()(x_1)\n",
    "x_2=Conv1D(filters=128,kernel_size=8,padding='same')(inputs1)\n",
    "x_2=MaxPool1D()(x_2)\n",
    "x_3=Conv1D(filters=256,kernel_size=13,padding='same')(inputs1)\n",
    "x_3=MaxPool1D()(x_3)\n",
    "#x_4=Conv1D(filters=256,kernel_size=18,padding='same')(inputs)\n",
    "#x_4=MaxPool1D()(x_4)\n",
    "#x_5=Conv1D(filters=256,kernel_size=25,padding='same')(inputs)\n",
    "#x_5=MaxPool1D()(x_5)\n",
    "#short_cut=Conv1D(filters=448,kernel_size=19,padding='valid')(inputs)\n",
    "x=Concatenate()([x_1,x_2,x_3])\n",
    "\n",
    "#x=Add()([x,short_cut])\n",
    "x=BatchNormalization()(x)\n",
    "x=Conv1D(filters=64,kernel_size=16)(x)\n",
    "\n",
    "out_gabor = MaxPool1D()(x)\n",
    "\n",
    "\n",
    "\n",
    "#x=Dropout(0.25)(x)\n",
    "#x=TimeDistributed(Dense(NUM_CLASSES,activation='softmax'))(x)\n",
    "\n",
    "inputs2=Input(shape=(50,57),name='inputs_mfcc')\n",
    "x=Bidirectional(LSTM(64,return_sequences=True,dropout=0.25))(inputs2)\n",
    "x=Bidirectional(LSTM(100,dropout=0.25))(x)\n",
    "out_mfcc= Reshape((1,200))(x)\n",
    "\n",
    "\n",
    "merged_layer= Concatenate()([out_gabor,out_mfcc])\n",
    "merged_layer = BatchNormalization()(merged_layer)\n",
    "merged_layer = TimeDistributed(Dense(64))(merged_layer)\n",
    "merged_layer = Dropout(0.25)(merged_layer)\n",
    "merged_layer = TimeDistributed(Dense(NUM_CLASSES,activation='softmax'))(merged_layer)\n",
    "merged_model = Model([inputs1,inputs2],merged_layer)\n",
    "merged_model.summary()\n"
   ]
  },
  {
   "cell_type": "code",
   "execution_count": 36,
   "metadata": {
    "scrolled": true
   },
   "outputs": [
    {
     "name": "stdout",
     "output_type": "stream",
     "text": [
      "Train on 4233 samples, validate on 471 samples\n",
      "Epoch 1/100\n",
      "4233/4233 [==============================] - 16s 4ms/step - loss: 1.5739 - acc: 0.4066 - val_loss: 1.3389 - val_acc: 0.4926\n",
      "\n",
      "Epoch 00001: val_acc improved from -inf to 0.49257, saving model to ./models/early_merged_tone_cnn.h5\n",
      "Epoch 2/100\n",
      "4233/4233 [==============================] - 9s 2ms/step - loss: 1.1531 - acc: 0.5379 - val_loss: 1.0587 - val_acc: 0.5754\n",
      "\n",
      "Epoch 00002: val_acc improved from 0.49257 to 0.57537, saving model to ./models/early_merged_tone_cnn.h5\n",
      "Epoch 3/100\n",
      "4233/4233 [==============================] - 9s 2ms/step - loss: 1.0376 - acc: 0.5816 - val_loss: 0.8425 - val_acc: 0.6497\n",
      "\n",
      "Epoch 00003: val_acc improved from 0.57537 to 0.64968, saving model to ./models/early_merged_tone_cnn.h5\n",
      "Epoch 4/100\n",
      "4233/4233 [==============================] - 9s 2ms/step - loss: 0.9325 - acc: 0.6244 - val_loss: 0.8228 - val_acc: 0.6879\n",
      "\n",
      "Epoch 00004: val_acc improved from 0.64968 to 0.68790, saving model to ./models/early_merged_tone_cnn.h5\n",
      "Epoch 5/100\n",
      "4233/4233 [==============================] - 10s 2ms/step - loss: 0.8241 - acc: 0.6749 - val_loss: 0.7360 - val_acc: 0.6943\n",
      "\n",
      "Epoch 00005: val_acc improved from 0.68790 to 0.69427, saving model to ./models/early_merged_tone_cnn.h5\n",
      "Epoch 6/100\n",
      "4233/4233 [==============================] - 9s 2ms/step - loss: 0.7592 - acc: 0.6997 - val_loss: 0.6289 - val_acc: 0.7622\n",
      "\n",
      "Epoch 00006: val_acc improved from 0.69427 to 0.76221, saving model to ./models/early_merged_tone_cnn.h5\n",
      "Epoch 7/100\n",
      "4233/4233 [==============================] - 9s 2ms/step - loss: 0.6878 - acc: 0.7371 - val_loss: 0.6349 - val_acc: 0.7686\n",
      "\n",
      "Epoch 00007: val_acc improved from 0.76221 to 0.76858, saving model to ./models/early_merged_tone_cnn.h5\n",
      "Epoch 8/100\n",
      "4233/4233 [==============================] - 9s 2ms/step - loss: 0.6185 - acc: 0.7574 - val_loss: 0.4944 - val_acc: 0.8280\n",
      "\n",
      "Epoch 00008: val_acc improved from 0.76858 to 0.82803, saving model to ./models/early_merged_tone_cnn.h5\n",
      "Epoch 9/100\n",
      "4233/4233 [==============================] - 9s 2ms/step - loss: 0.5702 - acc: 0.7862 - val_loss: 0.4305 - val_acc: 0.8323\n",
      "\n",
      "Epoch 00009: val_acc improved from 0.82803 to 0.83227, saving model to ./models/early_merged_tone_cnn.h5\n",
      "Epoch 10/100\n",
      "4233/4233 [==============================] - 9s 2ms/step - loss: 0.5088 - acc: 0.8122 - val_loss: 0.4331 - val_acc: 0.8493\n",
      "\n",
      "Epoch 00010: val_acc improved from 0.83227 to 0.84926, saving model to ./models/early_merged_tone_cnn.h5\n",
      "Epoch 11/100\n",
      "4233/4233 [==============================] - 9s 2ms/step - loss: 0.4963 - acc: 0.8129 - val_loss: 0.4217 - val_acc: 0.8365\n",
      "\n",
      "Epoch 00011: val_acc did not improve from 0.84926\n",
      "Epoch 12/100\n",
      "4233/4233 [==============================] - 10s 2ms/step - loss: 0.4472 - acc: 0.8311 - val_loss: 0.3824 - val_acc: 0.8535\n",
      "\n",
      "Epoch 00012: val_acc improved from 0.84926 to 0.85350, saving model to ./models/early_merged_tone_cnn.h5\n",
      "Epoch 13/100\n",
      "4233/4233 [==============================] - 9s 2ms/step - loss: 0.4048 - acc: 0.8446 - val_loss: 0.3319 - val_acc: 0.8875\n",
      "\n",
      "Epoch 00013: val_acc improved from 0.85350 to 0.88747, saving model to ./models/early_merged_tone_cnn.h5\n",
      "Epoch 14/100\n",
      "4233/4233 [==============================] - 10s 2ms/step - loss: 0.3449 - acc: 0.8734 - val_loss: 0.3216 - val_acc: 0.8854\n",
      "\n",
      "Epoch 00014: val_acc did not improve from 0.88747\n",
      "Epoch 15/100\n",
      "4233/4233 [==============================] - 9s 2ms/step - loss: 0.3657 - acc: 0.8672 - val_loss: 0.3628 - val_acc: 0.8514\n",
      "\n",
      "Epoch 00015: val_acc did not improve from 0.88747\n",
      "Epoch 16/100\n",
      "4233/4233 [==============================] - 9s 2ms/step - loss: 0.3838 - acc: 0.8573 - val_loss: 0.3791 - val_acc: 0.8747\n",
      "\n",
      "Epoch 00016: val_acc did not improve from 0.88747\n",
      "Epoch 17/100\n",
      "4233/4233 [==============================] - 9s 2ms/step - loss: 0.3342 - acc: 0.8748 - val_loss: 0.2985 - val_acc: 0.9023\n",
      "\n",
      "Epoch 00017: val_acc improved from 0.88747 to 0.90234, saving model to ./models/early_merged_tone_cnn.h5\n",
      "Epoch 18/100\n",
      "4233/4233 [==============================] - 9s 2ms/step - loss: 0.3234 - acc: 0.8798 - val_loss: 0.3498 - val_acc: 0.8896\n",
      "\n",
      "Epoch 00018: val_acc did not improve from 0.90234\n",
      "Epoch 19/100\n",
      "4233/4233 [==============================] - 10s 2ms/step - loss: 0.2935 - acc: 0.8899 - val_loss: 0.2788 - val_acc: 0.8896\n",
      "\n",
      "Epoch 00019: val_acc did not improve from 0.90234\n",
      "Epoch 20/100\n",
      "4233/4233 [==============================] - 9s 2ms/step - loss: 0.2485 - acc: 0.9083 - val_loss: 0.2847 - val_acc: 0.9108\n",
      "\n",
      "Epoch 00020: val_acc improved from 0.90234 to 0.91083, saving model to ./models/early_merged_tone_cnn.h5\n",
      "Epoch 21/100\n",
      "4233/4233 [==============================] - 9s 2ms/step - loss: 0.2166 - acc: 0.9211 - val_loss: 0.2485 - val_acc: 0.9278\n",
      "\n",
      "Epoch 00021: val_acc improved from 0.91083 to 0.92781, saving model to ./models/early_merged_tone_cnn.h5\n",
      "Epoch 22/100\n",
      "4233/4233 [==============================] - 9s 2ms/step - loss: 0.2091 - acc: 0.9251 - val_loss: 0.3159 - val_acc: 0.9023\n",
      "\n",
      "Epoch 00022: val_acc did not improve from 0.92781\n",
      "Epoch 23/100\n",
      "4233/4233 [==============================] - 9s 2ms/step - loss: 0.1990 - acc: 0.9298 - val_loss: 0.2228 - val_acc: 0.9172\n",
      "\n",
      "Epoch 00023: val_acc did not improve from 0.92781\n",
      "Epoch 24/100\n",
      "4233/4233 [==============================] - 9s 2ms/step - loss: 0.2132 - acc: 0.9213 - val_loss: 0.2405 - val_acc: 0.9193\n",
      "\n",
      "Epoch 00024: val_acc did not improve from 0.92781\n",
      "Epoch 25/100\n",
      "4233/4233 [==============================] - 9s 2ms/step - loss: 0.1899 - acc: 0.9343 - val_loss: 0.2726 - val_acc: 0.9130\n",
      "\n",
      "Epoch 00025: val_acc did not improve from 0.92781\n",
      "Epoch 26/100\n",
      "4233/4233 [==============================] - 10s 2ms/step - loss: 0.1798 - acc: 0.9324 - val_loss: 0.2389 - val_acc: 0.9151\n",
      "\n",
      "Epoch 00026: val_acc did not improve from 0.92781\n",
      "Epoch 27/100\n",
      "4233/4233 [==============================] - 10s 2ms/step - loss: 0.1683 - acc: 0.9424 - val_loss: 0.2189 - val_acc: 0.9299\n",
      "\n",
      "Epoch 00027: val_acc improved from 0.92781 to 0.92994, saving model to ./models/early_merged_tone_cnn.h5\n",
      "Epoch 28/100\n",
      "4233/4233 [==============================] - 10s 2ms/step - loss: 0.1755 - acc: 0.9374 - val_loss: 0.2317 - val_acc: 0.9257\n",
      "\n",
      "Epoch 00028: val_acc did not improve from 0.92994\n",
      "Epoch 29/100\n",
      "4233/4233 [==============================] - 9s 2ms/step - loss: 0.1720 - acc: 0.9372 - val_loss: 0.2252 - val_acc: 0.9384\n",
      "\n",
      "Epoch 00029: val_acc improved from 0.92994 to 0.93843, saving model to ./models/early_merged_tone_cnn.h5\n",
      "Epoch 30/100\n",
      "4233/4233 [==============================] - 9s 2ms/step - loss: 0.1522 - acc: 0.9485 - val_loss: 0.1756 - val_acc: 0.9469\n",
      "\n",
      "Epoch 00030: val_acc improved from 0.93843 to 0.94692, saving model to ./models/early_merged_tone_cnn.h5\n",
      "Epoch 31/100\n",
      "4233/4233 [==============================] - 10s 2ms/step - loss: 0.1498 - acc: 0.9466 - val_loss: 0.2706 - val_acc: 0.9278\n",
      "\n",
      "Epoch 00031: val_acc did not improve from 0.94692\n",
      "Epoch 32/100\n",
      "4233/4233 [==============================] - 9s 2ms/step - loss: 0.1490 - acc: 0.9468 - val_loss: 0.2204 - val_acc: 0.9406\n",
      "\n",
      "Epoch 00032: val_acc did not improve from 0.94692\n",
      "Epoch 33/100\n",
      "4233/4233 [==============================] - 9s 2ms/step - loss: 0.1678 - acc: 0.9407 - val_loss: 0.1940 - val_acc: 0.9384\n",
      "\n",
      "Epoch 00033: val_acc did not improve from 0.94692\n",
      "Epoch 34/100\n",
      "4233/4233 [==============================] - 9s 2ms/step - loss: 0.1325 - acc: 0.9506 - val_loss: 0.2411 - val_acc: 0.9299\n",
      "\n",
      "Epoch 00034: val_acc did not improve from 0.94692\n",
      "Epoch 35/100\n",
      "4233/4233 [==============================] - 9s 2ms/step - loss: 0.1079 - acc: 0.9594 - val_loss: 0.2273 - val_acc: 0.9363\n",
      "\n",
      "Epoch 00035: val_acc did not improve from 0.94692\n",
      "Epoch 36/100\n",
      "4233/4233 [==============================] - 9s 2ms/step - loss: 0.1015 - acc: 0.9622 - val_loss: 0.2008 - val_acc: 0.9469\n",
      "\n",
      "Epoch 00036: val_acc did not improve from 0.94692\n",
      "\n",
      "Epoch 00036: ReduceLROnPlateau reducing learning rate to 0.0005000000237487257.\n",
      "Epoch 37/100\n",
      "4233/4233 [==============================] - 9s 2ms/step - loss: 0.0917 - acc: 0.9676 - val_loss: 0.1794 - val_acc: 0.9533\n",
      "\n",
      "Epoch 00037: val_acc improved from 0.94692 to 0.95329, saving model to ./models/early_merged_tone_cnn.h5\n",
      "Epoch 38/100\n",
      "4233/4233 [==============================] - 9s 2ms/step - loss: 0.0966 - acc: 0.9674 - val_loss: 0.1551 - val_acc: 0.9533\n"
     ]
    },
    {
     "name": "stdout",
     "output_type": "stream",
     "text": [
      "\n",
      "Epoch 00038: val_acc did not improve from 0.95329\n",
      "Epoch 39/100\n",
      "4233/4233 [==============================] - 9s 2ms/step - loss: 0.0824 - acc: 0.9721 - val_loss: 0.1628 - val_acc: 0.9448\n",
      "\n",
      "Epoch 00039: val_acc did not improve from 0.95329\n",
      "Epoch 40/100\n",
      "4233/4233 [==============================] - 9s 2ms/step - loss: 0.0715 - acc: 0.9757 - val_loss: 0.1777 - val_acc: 0.9490\n",
      "\n",
      "Epoch 00040: val_acc did not improve from 0.95329\n",
      "Epoch 41/100\n",
      "4233/4233 [==============================] - 9s 2ms/step - loss: 0.0645 - acc: 0.9759 - val_loss: 0.1772 - val_acc: 0.9554\n",
      "\n",
      "Epoch 00041: val_acc improved from 0.95329 to 0.95541, saving model to ./models/early_merged_tone_cnn.h5\n",
      "Epoch 42/100\n",
      "4233/4233 [==============================] - 9s 2ms/step - loss: 0.0682 - acc: 0.9766 - val_loss: 0.1785 - val_acc: 0.9554\n",
      "\n",
      "Epoch 00042: val_acc did not improve from 0.95541\n",
      "Epoch 43/100\n",
      "4233/4233 [==============================] - 9s 2ms/step - loss: 0.0664 - acc: 0.9785 - val_loss: 0.1819 - val_acc: 0.9490\n",
      "\n",
      "Epoch 00043: val_acc did not improve from 0.95541\n",
      "Epoch 44/100\n",
      "4233/4233 [==============================] - 9s 2ms/step - loss: 0.0954 - acc: 0.9672 - val_loss: 0.1961 - val_acc: 0.9406\n",
      "\n",
      "Epoch 00044: val_acc did not improve from 0.95541\n",
      "\n",
      "Epoch 00044: ReduceLROnPlateau reducing learning rate to 0.0002500000118743628.\n",
      "Epoch 45/100\n",
      "4233/4233 [==============================] - 9s 2ms/step - loss: 0.0524 - acc: 0.9828 - val_loss: 0.1774 - val_acc: 0.9512\n",
      "\n",
      "Epoch 00045: val_acc did not improve from 0.95541\n",
      "Epoch 46/100\n",
      "4233/4233 [==============================] - 9s 2ms/step - loss: 0.0568 - acc: 0.9787 - val_loss: 0.1814 - val_acc: 0.9490\n",
      "\n",
      "Epoch 00046: val_acc did not improve from 0.95541\n",
      "Epoch 47/100\n",
      "4233/4233 [==============================] - 10s 2ms/step - loss: 0.0621 - acc: 0.9790 - val_loss: 0.1747 - val_acc: 0.9533\n",
      "\n",
      "Epoch 00047: val_acc did not improve from 0.95541\n",
      "Epoch 48/100\n",
      "4233/4233 [==============================] - 9s 2ms/step - loss: 0.0528 - acc: 0.9823 - val_loss: 0.1828 - val_acc: 0.9469\n",
      "\n",
      "Epoch 00048: val_acc did not improve from 0.95541\n",
      "Epoch 49/100\n",
      "4233/4233 [==============================] - 9s 2ms/step - loss: 0.0561 - acc: 0.9804 - val_loss: 0.1773 - val_acc: 0.9597\n",
      "\n",
      "Epoch 00049: val_acc improved from 0.95541 to 0.95966, saving model to ./models/early_merged_tone_cnn.h5\n",
      "Epoch 50/100\n",
      "4233/4233 [==============================] - 9s 2ms/step - loss: 0.0473 - acc: 0.9842 - val_loss: 0.1570 - val_acc: 0.9618\n",
      "\n",
      "Epoch 00050: val_acc improved from 0.95966 to 0.96178, saving model to ./models/early_merged_tone_cnn.h5\n",
      "\n",
      "Epoch 00050: ReduceLROnPlateau reducing learning rate to 0.0001250000059371814.\n",
      "Epoch 51/100\n",
      "4233/4233 [==============================] - 9s 2ms/step - loss: 0.0422 - acc: 0.9856 - val_loss: 0.1627 - val_acc: 0.9597\n",
      "\n",
      "Epoch 00051: val_acc did not improve from 0.96178\n",
      "Epoch 52/100\n",
      "4233/4233 [==============================] - 9s 2ms/step - loss: 0.0466 - acc: 0.9849 - val_loss: 0.1864 - val_acc: 0.9554\n",
      "\n",
      "Epoch 00052: val_acc did not improve from 0.96178\n",
      "Epoch 53/100\n",
      "4233/4233 [==============================] - 9s 2ms/step - loss: 0.0464 - acc: 0.9844 - val_loss: 0.1729 - val_acc: 0.9597\n",
      "\n",
      "Epoch 00053: val_acc did not improve from 0.96178\n",
      "Epoch 54/100\n",
      "4233/4233 [==============================] - 10s 2ms/step - loss: 0.0448 - acc: 0.9835 - val_loss: 0.1728 - val_acc: 0.9597\n",
      "\n",
      "Epoch 00054: val_acc did not improve from 0.96178\n",
      "Epoch 55/100\n",
      "4233/4233 [==============================] - 9s 2ms/step - loss: 0.0408 - acc: 0.9856 - val_loss: 0.1635 - val_acc: 0.9618\n",
      "\n",
      "Epoch 00055: val_acc did not improve from 0.96178\n",
      "Epoch 56/100\n",
      "4233/4233 [==============================] - 9s 2ms/step - loss: 0.0490 - acc: 0.9846 - val_loss: 0.1696 - val_acc: 0.9554\n",
      "\n",
      "Epoch 00056: val_acc did not improve from 0.96178\n",
      "\n",
      "Epoch 00056: ReduceLROnPlateau reducing learning rate to 6.25000029685907e-05.\n",
      "Epoch 57/100\n",
      "4233/4233 [==============================] - 9s 2ms/step - loss: 0.0425 - acc: 0.9851 - val_loss: 0.1669 - val_acc: 0.9554\n",
      "\n",
      "Epoch 00057: val_acc did not improve from 0.96178\n",
      "Epoch 58/100\n",
      "4233/4233 [==============================] - 9s 2ms/step - loss: 0.0493 - acc: 0.9830 - val_loss: 0.1674 - val_acc: 0.9533\n",
      "\n",
      "Epoch 00058: val_acc did not improve from 0.96178\n",
      "Epoch 59/100\n",
      "4233/4233 [==============================] - 9s 2ms/step - loss: 0.0391 - acc: 0.9872 - val_loss: 0.1623 - val_acc: 0.9554\n",
      "\n",
      "Epoch 00059: val_acc did not improve from 0.96178\n",
      "Epoch 60/100\n",
      "4233/4233 [==============================] - 9s 2ms/step - loss: 0.0446 - acc: 0.9832 - val_loss: 0.1745 - val_acc: 0.9512\n",
      "\n",
      "Epoch 00060: val_acc did not improve from 0.96178\n",
      "Epoch 61/100\n",
      "4233/4233 [==============================] - 10s 2ms/step - loss: 0.0426 - acc: 0.9868 - val_loss: 0.1775 - val_acc: 0.9490\n",
      "\n",
      "Epoch 00061: val_acc did not improve from 0.96178\n",
      "Epoch 62/100\n",
      "4233/4233 [==============================] - 9s 2ms/step - loss: 0.0450 - acc: 0.9854 - val_loss: 0.1752 - val_acc: 0.9554\n",
      "\n",
      "Epoch 00062: val_acc did not improve from 0.96178\n",
      "\n",
      "Epoch 00062: ReduceLROnPlateau reducing learning rate to 3.125000148429535e-05.\n",
      "Epoch 63/100\n",
      "4233/4233 [==============================] - 9s 2ms/step - loss: 0.0372 - acc: 0.9872 - val_loss: 0.1726 - val_acc: 0.9533\n",
      "\n",
      "Epoch 00063: val_acc did not improve from 0.96178\n",
      "Epoch 64/100\n",
      "4233/4233 [==============================] - 9s 2ms/step - loss: 0.0396 - acc: 0.9877 - val_loss: 0.1731 - val_acc: 0.9575\n",
      "\n",
      "Epoch 00064: val_acc did not improve from 0.96178\n",
      "Epoch 65/100\n",
      "4233/4233 [==============================] - 9s 2ms/step - loss: 0.0407 - acc: 0.9856 - val_loss: 0.1685 - val_acc: 0.9575\n",
      "\n",
      "Epoch 00065: val_acc did not improve from 0.96178\n",
      "Epoch 66/100\n",
      "4233/4233 [==============================] - 9s 2ms/step - loss: 0.0411 - acc: 0.9891 - val_loss: 0.1669 - val_acc: 0.9575\n",
      "\n",
      "Epoch 00066: val_acc did not improve from 0.96178\n",
      "Epoch 67/100\n",
      "4233/4233 [==============================] - 9s 2ms/step - loss: 0.0353 - acc: 0.9882 - val_loss: 0.1671 - val_acc: 0.9554\n",
      "\n",
      "Epoch 00067: val_acc did not improve from 0.96178\n",
      "Epoch 68/100\n",
      "4233/4233 [==============================] - 10s 2ms/step - loss: 0.0360 - acc: 0.9877 - val_loss: 0.1657 - val_acc: 0.9575\n",
      "\n",
      "Epoch 00068: val_acc did not improve from 0.96178\n",
      "\n",
      "Epoch 00068: ReduceLROnPlateau reducing learning rate to 1.5625000742147677e-05.\n",
      "Epoch 69/100\n",
      "4233/4233 [==============================] - 9s 2ms/step - loss: 0.0356 - acc: 0.9889 - val_loss: 0.1649 - val_acc: 0.9575\n",
      "\n",
      "Epoch 00069: val_acc did not improve from 0.96178\n",
      "Epoch 70/100\n",
      "4233/4233 [==============================] - 9s 2ms/step - loss: 0.0398 - acc: 0.9884 - val_loss: 0.1671 - val_acc: 0.9554\n",
      "\n",
      "Epoch 00070: val_acc did not improve from 0.96178\n",
      "Epoch 71/100\n",
      "4233/4233 [==============================] - 9s 2ms/step - loss: 0.0412 - acc: 0.9877 - val_loss: 0.1680 - val_acc: 0.9554\n",
      "\n",
      "Epoch 00071: val_acc did not improve from 0.96178\n",
      "Epoch 72/100\n",
      "4233/4233 [==============================] - 9s 2ms/step - loss: 0.0430 - acc: 0.9861 - val_loss: 0.1684 - val_acc: 0.9575\n",
      "\n",
      "Epoch 00072: val_acc did not improve from 0.96178\n",
      "Epoch 73/100\n",
      "4233/4233 [==============================] - 9s 2ms/step - loss: 0.0350 - acc: 0.9884 - val_loss: 0.1686 - val_acc: 0.9554\n",
      "\n",
      "Epoch 00073: val_acc did not improve from 0.96178\n",
      "Epoch 74/100\n",
      "4233/4233 [==============================] - 9s 2ms/step - loss: 0.0366 - acc: 0.9868 - val_loss: 0.1729 - val_acc: 0.9490\n",
      "\n",
      "Epoch 00074: val_acc did not improve from 0.96178\n",
      "\n",
      "Epoch 00074: ReduceLROnPlateau reducing learning rate to 1e-05.\n",
      "Epoch 75/100\n",
      "4233/4233 [==============================] - 10s 2ms/step - loss: 0.0379 - acc: 0.9865 - val_loss: 0.1729 - val_acc: 0.9512\n",
      "\n",
      "Epoch 00075: val_acc did not improve from 0.96178\n",
      "Epoch 76/100\n",
      "4233/4233 [==============================] - 9s 2ms/step - loss: 0.0395 - acc: 0.9872 - val_loss: 0.1725 - val_acc: 0.9512\n",
      "\n",
      "Epoch 00076: val_acc did not improve from 0.96178\n",
      "Epoch 77/100\n",
      "4233/4233 [==============================] - 9s 2ms/step - loss: 0.0364 - acc: 0.9875 - val_loss: 0.1715 - val_acc: 0.9512\n",
      "\n",
      "Epoch 00077: val_acc did not improve from 0.96178\n",
      "Epoch 78/100\n",
      "4233/4233 [==============================] - 9s 2ms/step - loss: 0.0391 - acc: 0.9877 - val_loss: 0.1712 - val_acc: 0.9512\n",
      "\n",
      "Epoch 00078: val_acc did not improve from 0.96178\n",
      "Epoch 79/100\n",
      "4233/4233 [==============================] - 9s 2ms/step - loss: 0.0357 - acc: 0.9889 - val_loss: 0.1713 - val_acc: 0.9469\n",
      "\n",
      "Epoch 00079: val_acc did not improve from 0.96178\n",
      "Epoch 80/100\n",
      "4233/4233 [==============================] - 9s 2ms/step - loss: 0.0355 - acc: 0.9882 - val_loss: 0.1712 - val_acc: 0.9512\n",
      "\n",
      "Epoch 00080: val_acc did not improve from 0.96178\n",
      "Epoch 81/100\n",
      "4233/4233 [==============================] - 9s 2ms/step - loss: 0.0389 - acc: 0.9880 - val_loss: 0.1701 - val_acc: 0.9512\n",
      "\n",
      "Epoch 00081: val_acc did not improve from 0.96178\n",
      "Epoch 82/100\n",
      "4233/4233 [==============================] - 9s 2ms/step - loss: 0.0386 - acc: 0.9865 - val_loss: 0.1692 - val_acc: 0.9575\n",
      "\n",
      "Epoch 00082: val_acc did not improve from 0.96178\n",
      "Epoch 83/100\n",
      "4233/4233 [==============================] - 9s 2ms/step - loss: 0.0391 - acc: 0.9865 - val_loss: 0.1699 - val_acc: 0.9554\n",
      "\n",
      "Epoch 00083: val_acc did not improve from 0.96178\n",
      "Epoch 84/100\n",
      "4233/4233 [==============================] - 9s 2ms/step - loss: 0.0338 - acc: 0.9894 - val_loss: 0.1723 - val_acc: 0.9575\n",
      "\n",
      "Epoch 00084: val_acc did not improve from 0.96178\n",
      "Epoch 85/100\n",
      "4233/4233 [==============================] - 9s 2ms/step - loss: 0.0403 - acc: 0.9865 - val_loss: 0.1741 - val_acc: 0.9490\n",
      "\n",
      "Epoch 00085: val_acc did not improve from 0.96178\n",
      "Epoch 86/100\n",
      "4233/4233 [==============================] - 9s 2ms/step - loss: 0.0490 - acc: 0.9846 - val_loss: 0.1734 - val_acc: 0.9533\n",
      "\n",
      "Epoch 00086: val_acc did not improve from 0.96178\n",
      "Epoch 87/100\n",
      "4233/4233 [==============================] - 9s 2ms/step - loss: 0.0326 - acc: 0.9896 - val_loss: 0.1734 - val_acc: 0.9512\n",
      "\n",
      "Epoch 00087: val_acc did not improve from 0.96178\n",
      "Epoch 88/100\n",
      "4233/4233 [==============================] - 9s 2ms/step - loss: 0.0338 - acc: 0.9896 - val_loss: 0.1735 - val_acc: 0.9512\n",
      "\n",
      "Epoch 00088: val_acc did not improve from 0.96178\n",
      "Epoch 89/100\n",
      "4233/4233 [==============================] - 10s 2ms/step - loss: 0.0378 - acc: 0.9880 - val_loss: 0.1733 - val_acc: 0.9512\n",
      "\n",
      "Epoch 00089: val_acc did not improve from 0.96178\n",
      "Epoch 90/100\n",
      "4233/4233 [==============================] - 9s 2ms/step - loss: 0.0305 - acc: 0.9906 - val_loss: 0.1723 - val_acc: 0.9512\n",
      "\n",
      "Epoch 00090: val_acc did not improve from 0.96178\n",
      "Epoch 91/100\n",
      "4233/4233 [==============================] - 9s 2ms/step - loss: 0.0365 - acc: 0.9887 - val_loss: 0.1727 - val_acc: 0.9533\n",
      "\n",
      "Epoch 00091: val_acc did not improve from 0.96178\n",
      "Epoch 92/100\n",
      "4233/4233 [==============================] - 9s 2ms/step - loss: 0.0354 - acc: 0.9891 - val_loss: 0.1736 - val_acc: 0.9533\n",
      "\n",
      "Epoch 00092: val_acc did not improve from 0.96178\n",
      "Epoch 93/100\n",
      "4233/4233 [==============================] - 9s 2ms/step - loss: 0.0382 - acc: 0.9884 - val_loss: 0.1729 - val_acc: 0.9512\n",
      "\n",
      "Epoch 00093: val_acc did not improve from 0.96178\n",
      "Epoch 94/100\n",
      "4233/4233 [==============================] - 9s 2ms/step - loss: 0.0313 - acc: 0.9901 - val_loss: 0.1725 - val_acc: 0.9533\n",
      "\n",
      "Epoch 00094: val_acc did not improve from 0.96178\n",
      "Epoch 95/100\n",
      "4233/4233 [==============================] - 9s 2ms/step - loss: 0.0351 - acc: 0.9882 - val_loss: 0.1717 - val_acc: 0.9533\n",
      "\n",
      "Epoch 00095: val_acc did not improve from 0.96178\n",
      "Epoch 96/100\n",
      "4233/4233 [==============================] - 10s 2ms/step - loss: 0.0404 - acc: 0.9858 - val_loss: 0.1712 - val_acc: 0.9533\n",
      "\n",
      "Epoch 00096: val_acc did not improve from 0.96178\n",
      "Epoch 97/100\n",
      "4233/4233 [==============================] - 9s 2ms/step - loss: 0.0336 - acc: 0.9891 - val_loss: 0.1700 - val_acc: 0.9554\n",
      "\n",
      "Epoch 00097: val_acc did not improve from 0.96178\n",
      "Epoch 98/100\n",
      "4233/4233 [==============================] - 9s 2ms/step - loss: 0.0320 - acc: 0.9889 - val_loss: 0.1703 - val_acc: 0.9512\n",
      "\n",
      "Epoch 00098: val_acc did not improve from 0.96178\n",
      "Epoch 99/100\n",
      "4233/4233 [==============================] - 9s 2ms/step - loss: 0.0387 - acc: 0.9880 - val_loss: 0.1707 - val_acc: 0.9512\n",
      "\n",
      "Epoch 00099: val_acc did not improve from 0.96178\n",
      "Epoch 100/100\n",
      "4233/4233 [==============================] - 9s 2ms/step - loss: 0.0371 - acc: 0.9882 - val_loss: 0.1709 - val_acc: 0.9512\n",
      "\n",
      "Epoch 00100: val_acc did not improve from 0.96178\n"
     ]
    }
   ],
   "source": [
    "\n",
    "merged_model.compile(optimizer='adam',loss='categorical_crossentropy',metrics=['accuracy'])\n",
    "#plot_model(merged_model,'merged_model_initial.jpg',show_shapes=True)\n",
    "lr_reduce=kcallbacks.ReduceLROnPlateau(monitor='val_loss',factor=0.5,patience=6,verbose=1,min_lr=0.00001)\n",
    "save_model=kcallbacks.ModelCheckpoint(filepath=MODEL_SAVE_PATH,monitor='val_acc',verbose=1,save_best_only=True)\n",
    "callback_list=[save_model,lr_reduce]\n",
    "history=merged_model.fit(x=[X_gabor_train,X_mfcc_train],y=y_tone_train,batch_size=BATCH_SIZE,epochs=EPOCHS,validation_data=([X_gabor_val,X_mfcc_val],y_tone_val),\n",
    "                  callbacks=callback_list)"
   ]
  },
  {
   "cell_type": "markdown",
   "metadata": {},
   "source": [
    "## plot_curve"
   ]
  },
  {
   "cell_type": "code",
   "execution_count": 37,
   "metadata": {},
   "outputs": [
    {
     "data": {
      "image/png": "[encoded data removed]",
      "text/plain": [
       "<Figure size 1080x360 with 2 Axes>"
      ]
     },
     "metadata": {},
     "output_type": "display_data"
    },
    {
     "data": {
      "image/png": "[encoded data removed]",
      "text/plain": [
       "<Figure size 1080x360 with 2 Axes>"
      ]
     },
     "metadata": {},
     "output_type": "display_data"
    }
   ],
   "source": [
    "from help import plot_curve,plot_curve_with_smooth\n",
    "%matplotlib inline \n",
    "plot_curve(history)\n",
    "plot_curve_with_smooth(history)"
   ]
  },
  {
   "cell_type": "markdown",
   "metadata": {},
   "source": [
    "## confusion_metrix"
   ]
  },
  {
   "cell_type": "code",
   "execution_count": 40,
   "metadata": {},
   "outputs": [
    {
     "data": {
      "image/png": "[encoded data removed]",
      "text/plain": [
       "<Figure size 864x576 with 2 Axes>"
      ]
     },
     "metadata": {
      "needs_background": "light"
     },
     "output_type": "display_data"
    }
   ],
   "source": [
    "from sklearn.metrics import confusion_matrix\n",
    "import matplotlib.pyplot as plt\n",
    "%matplotlib inline\n",
    "y_pred=merged_model.predict([X_gabor_val,X_mfcc_val])\n",
    "y_pred=np.argmax(y_pred,axis=-1).ravel()\n",
    "y_true=np.argmax(y_tone_val,axis=-1).ravel()\n",
    "con_matrix=confusion_matrix(y_true=y_true,y_pred=y_pred)\n",
    "#target_names=[alphabet_set[i] for i in range(4)]\n",
    "def plot_confusion_matrix(confusion_mat):\n",
    "    plt.figure(figsize=(12,8))\n",
    "    plt.imshow(confusion_mat)\n",
    "    plt.title('Confusion Matrix')\n",
    "    plt.colorbar()\n",
    "    labels = [1,2,3,4]\n",
    "    tick_marks = np.arange(len(labels))\n",
    "    plt.xticks(tick_marks, labels)\n",
    "    plt.yticks(tick_marks, labels)\n",
    "    plt.ylabel('True Label')\n",
    "    plt.xlabel('Predicted Label')\n",
    "    plt.grid(False)\n",
    "    plt.show() \n",
    "plot_confusion_matrix(con_matrix)"
   ]
  },
  {
   "cell_type": "markdown",
   "metadata": {},
   "source": [
    "## classfication_report"
   ]
  },
  {
   "cell_type": "code",
   "execution_count": 44,
   "metadata": {},
   "outputs": [
    {
     "name": "stdout",
     "output_type": "stream",
     "text": [
      "              precision    recall  f1-score   support\n",
      "\n",
      "           1     0.9545    0.9545    0.9545       132\n",
      "           2     0.9612    0.9429    0.9519       105\n",
      "           3     0.9450    0.9364    0.9406       110\n",
      "           4     0.9449    0.9677    0.9562       124\n",
      "\n",
      "   micro avg     0.9512    0.9512    0.9512       471\n",
      "   macro avg     0.9514    0.9504    0.9508       471\n",
      "weighted avg     0.9512    0.9512    0.9511       471\n",
      "\n"
     ]
    }
   ],
   "source": [
    "from sklearn.metrics import classification_report\n",
    "\n",
    "target_names = ['1', '2', '3','4']\n",
    "print(classification_report(y_true,y_pred,digits=4,labels=[0,1,2,3],target_names=target_names))"
   ]
  },
  {
   "cell_type": "markdown",
   "metadata": {},
   "source": [
    "# predict test"
   ]
  },
  {
   "cell_type": "code",
   "execution_count": 14,
   "metadata": {
    "collapsed": true
   },
   "outputs": [],
   "source": [
    "merged_model.load_weights(MODEL_SAVE_PATH)\n"
   ]
  },
  {
   "cell_type": "code",
   "execution_count": 16,
   "metadata": {
    "collapsed": true
   },
   "outputs": [],
   "source": [
    "alphabet_set = {0:'1',1:'2',2:'3',3:'4'}"
   ]
  },
  {
   "cell_type": "code",
   "execution_count": 18,
   "metadata": {},
   "outputs": [
    {
     "name": "stdout",
     "output_type": "stream",
     "text": [
      "(1, 35, 7)\n",
      "Predict Label:1\n"
     ]
    }
   ],
   "source": [
    "ID = 'person10_time1_group2_zhong_1'\n",
    "temp = np.load('./gabor/'+ID+'.npy')\n",
    "m,n = temp.shape\n",
    "            #print(m)\n",
    "if m <=35:\n",
    "    left = 36 - m\n",
    "    temp =np.append(temp,(np.zeros([left,n])),axis=0)\n",
    "test1 =[]\n",
    "test1.append(temp[:35,])\n",
    "test1 = np.array(test1)\n",
    "\n",
    "\n",
    "test2 = np.load('./mfcc_data/'+ID+'.npy')\n",
    "test2 = test2.reshape(1,50,57)\n",
    "\n",
    "\n",
    "pred=merged_model.predict([test1,test2])\n",
    "\n",
    "pred=np.argmax(pred,axis=-1)[0]\n",
    "\n",
    "text=[alphabet_set[i] for i in pred]\n",
    "text=[i for i in text if i!='0']\n",
    "text=''.join(text)\n",
    "print('Predict Label:%s'%(text))"
   ]
  },
  {
   "cell_type": "code",
   "execution_count": 19,
   "metadata": {},
   "outputs": [
    {
     "name": "stdout",
     "output_type": "stream",
     "text": [
      "(1, 35, 7)\n",
      "Predict Label:4\n"
     ]
    }
   ],
   "source": [
    "ID = 'person6_time1_group1_ge_4'\n",
    "temp = np.load('./gabor/'+ID+'.npy')\n",
    "m,n = temp.shape\n",
    "            #print(m)\n",
    "if m <=35:\n",
    "    left = 36 - m\n",
    "    temp =np.append(temp,(np.zeros([left,n])),axis=0)\n",
    "test1 =[]\n",
    "test1.append(temp[:35,])\n",
    "test1 = np.array(test1)\n",
    "\n",
    "test2 = np.load('./mfcc_data/'+ID+'.npy')\n",
    "test2 = test2.reshape(1,50,57)\n",
    "\n",
    "\n",
    "pred=merged_model.predict([test1,test2])\n",
    "\n",
    "pred=np.argmax(pred,axis=-1)[0]\n",
    "\n",
    "text=[alphabet_set[i] for i in pred]\n",
    "text=[i for i in text if i!='0']\n",
    "text=''.join(text)\n",
    "print('Predict Label:%s'%(text))"
   ]
  },
  {
   "cell_type": "code",
   "execution_count": null,
   "metadata": {
    "collapsed": true
   },
   "outputs": [],
   "source": []
  }
 ],
 "metadata": {
  "kernelspec": {
   "display_name": "Python 3",
   "language": "python",
   "name": "python3"
  },
  "language_info": {
   "codemirror_mode": {
    "name": "ipython",
    "version": 3
   },
   "file_extension": ".py",
   "mimetype": "text/x-python",
   "name": "python",
   "nbconvert_exporter": "python",
   "pygments_lexer": "ipython3",
   "version": "3.6.7"
  },
  "toc": {
   "base_numbering": 1,
   "nav_menu": {},
   "number_sections": true,
   "sideBar": true,
   "skip_h1_title": false,
   "title_cell": "Table of Contents",
   "title_sidebar": "Contents",
   "toc_cell": false,
   "toc_position": {
    "height": "calc(100% - 180px)",
    "left": "10px",
    "top": "150px",
    "width": "250px"
   },
   "toc_section_display": true,
   "toc_window_display": true
  }
 },
 "nbformat": 4,
 "nbformat_minor": 2
}
