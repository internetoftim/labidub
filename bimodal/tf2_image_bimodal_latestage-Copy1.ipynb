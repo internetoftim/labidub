{
 "cells": [
  {
   "cell_type": "markdown",
   "metadata": {
    "colab_type": "text",
    "id": "ScitaPqhKtuW"
   },
   "source": [
    "##### Copyright 2019 The TensorFlow Hub Authors.\n",
    "\n",
    "Licensed under the Apache License, Version 2.0 (the \"License\");"
   ]
  },
  {
   "cell_type": "code",
   "execution_count": 1,
   "metadata": {
    "colab": {},
    "colab_type": "code",
    "id": "jvztxQ6VsK2k"
   },
   "outputs": [],
   "source": [
    "# Copyright 2019 The TensorFlow Hub Authors. All Rights Reserved.\n",
    "#\n",
    "# Licensed under the Apache License, Version 2.0 (the \"License\");\n",
    "# you may not use this file except in compliance with the License.\n",
    "# You may obtain a copy of the License at\n",
    "#\n",
    "#     http://www.apache.org/licenses/LICENSE-2.0\n",
    "#\n",
    "# Unless required by applicable law or agreed to in writing, software\n",
    "# distributed under the License is distributed on an \"AS IS\" BASIS,\n",
    "# WITHOUT WARRANTIES OR CONDITIONS OF ANY KIND, either express or implied.\n",
    "# See the License for the specific language governing permissions and\n",
    "# limitations under the License.\n",
    "# =============================================================================="
   ]
  },
  {
   "cell_type": "markdown",
   "metadata": {
    "colab_type": "text",
    "id": "oYM61xrTsP5d"
   },
   "source": [
    "# TF Hub for TF2: Image Module Retraining (preview)\n",
    "\n",
    "<table align=\"left\">\n",
    "<td align=\"center\">\n",
    "  <a target=\"_blank\"  href=\"https://colab.research.google.com/github/tensorflow/hub/blob/master/examples/colab/tf2_image_retraining.ipynb\">\n",
    "    <img src=\"https://www.tensorflow.org/images/colab_logo_32px.png\" /><br>Run in Google Colab\n",
    "  </a>\n",
    "</td>\n",
    "<td align=\"center\">\n",
    "  <a target=\"_blank\"  href=\"https://github.com/tensorflow/hub/blob/master/examples/colab/tf2_image_retraining.ipynb\">\n",
    "    <img width=32px src=\"https://www.tensorflow.org/images/GitHub-Mark-32px.png\" /><br>View source on GitHub</a>\n",
    "</td>\n",
    "</table>"
   ]
  },
  {
   "cell_type": "markdown",
   "metadata": {
    "colab_type": "text",
    "id": "L1otmJgmbahf"
   },
   "source": [
    "This Colab demonstrates the use of TF2 SavedModels found on TensorFlow Hub with Keras. It uses a pre-trained image feature vector module for classifying five species of flowers, including fine-tuning of the module."
   ]
  },
  {
   "cell_type": "markdown",
   "metadata": {
    "colab_type": "text",
    "id": "bL54LWCHt5q5"
   },
   "source": [
    "## Set up TensorFlow 2 and other libraries"
   ]
  },
  {
   "cell_type": "code",
   "execution_count": 1,
   "metadata": {
    "colab": {},
    "colab_type": "code",
    "id": "txdrFJrJvgQS"
   },
   "outputs": [],
   "source": [
    "try:\n",
    "  # %tensorflow_version only exists in Colab.\n",
    "  %tensorflow_version 2.x\n",
    "except Exception:\n",
    "    pass"
   ]
  },
  {
   "cell_type": "code",
   "execution_count": 2,
   "metadata": {
    "colab": {},
    "colab_type": "code",
    "id": "dlauq-4FWGZM"
   },
   "outputs": [
    {
     "name": "stderr",
     "output_type": "stream",
     "text": [
      "Using TensorFlow backend.\n"
     ]
    },
    {
     "name": "stdout",
     "output_type": "stream",
     "text": [
      "TF version: 2.0.0\n",
      "Hub version: 0.6.0\n",
      "GPU is available\n"
     ]
    }
   ],
   "source": [
    "import itertools\n",
    "import os\n",
    "import re\n",
    "import matplotlib.pylab as plt\n",
    "import numpy as np\n",
    "\n",
    "import tensorflow as tf\n",
    "import tensorflow_hub as hub\n",
    "import pathlib\n",
    "\n",
    "import pandas as pd\n",
    "\n",
    "import keras\n",
    "from keras.utils import plot_model,to_categorical\n",
    "from keras.layers import Dense,LSTM,Bidirectional,TimeDistributed,Conv1D,MaxPool1D,Concatenate,Dropout,BatchNormalization,Add\n",
    "from keras import Model,Input\n",
    "from keras.layers import Reshape,Flatten\n",
    "from sklearn.model_selection import train_test_split\n",
    "import keras.backend as K\n",
    "import keras.callbacks as kcallbacks\n",
    "from sklearn.preprocessing import LabelEncoder\n",
    "import string\n",
    "from keras.optimizers import SGD\n",
    "import warnings\n",
    "# from lsuv_init import LSUVinit\n",
    "warnings.filterwarnings('ignore')\n",
    "\n",
    "print(\"TF version:\", tf.__version__)\n",
    "print(\"Hub version:\", hub.__version__)\n",
    "print(\"GPU is\", \"available\" if tf.test.is_gpu_available() else \"NOT AVAILABLE\")\n"
   ]
  },
  {
   "cell_type": "markdown",
   "metadata": {
    "colab_type": "text",
    "id": "mmaHHH7Pvmth"
   },
   "source": [
    "## Select the Hub/TF2 module to use\n",
    "\n",
    "Hub modules for TF 1.x won't work here, please use one of the selections provided."
   ]
  },
  {
   "cell_type": "code",
   "execution_count": 3,
   "metadata": {
    "colab": {},
    "colab_type": "code",
    "id": "FlsEcKVeuCnf"
   },
   "outputs": [
    {
     "name": "stdout",
     "output_type": "stream",
     "text": [
      "Using https://tfhub.dev/google/tf2-preview/inception_v3/feature_vector/4 with input size (299, 299)\n"
     ]
    }
   ],
   "source": [
    "module_selection = (\"inception_v3\", 299) #@param [\"(\\\"mobilenet_v2\\\", 224)\", \"(\\\"inception_v3\\\", 299)\"] {type:\"raw\", allow-input: true}\n",
    "handle_base, pixels = module_selection\n",
    "MODULE_HANDLE =\"https://tfhub.dev/google/tf2-preview/{}/feature_vector/4\".format(handle_base)\n",
    "IMAGE_SIZE = (pixels, pixels)\n",
    "print(\"Using {} with input size {}\".format(MODULE_HANDLE, IMAGE_SIZE))\n",
    "\n",
    "BATCH_SIZE = 32 #@param {type:\"integer\"}"
   ]
  },
  {
   "cell_type": "markdown",
   "metadata": {
    "colab_type": "text",
    "id": "yTY8qzyYv3vl"
   },
   "source": [
    "## Set up the dataset\n",
    "\n",
    "Inputs are suitably resized for the selected module. Dataset augmentation (i.e., random distortions of an image each time it is read) improves training, esp. when fine-tuning."
   ]
  },
  {
   "cell_type": "code",
   "execution_count": 4,
   "metadata": {},
   "outputs": [],
   "source": [
    "data_dir = pathlib.Path('../dataset/Dataset_Img299')\n",
    "data_dir=str(data_dir)"
   ]
  },
  {
   "cell_type": "code",
   "execution_count": 8,
   "metadata": {},
   "outputs": [
    {
     "name": "stdout",
     "output_type": "stream",
     "text": [
      "Found 25199 images belonging to 2 classes.\n"
     ]
    }
   ],
   "source": [
    "datagen_kwargs = dict(rescale=1./255, validation_split=.20)\n",
    "dataflow_kwargs = dict(target_size=IMAGE_SIZE, batch_size=BATCH_SIZE,\n",
    "                   interpolation=\"bilinear\",seed=9001)\n",
    "datagen_kwargs = dict(rescale=1./255, validation_split=.20)\n",
    "dataflow_kwargs = dict(target_size=IMAGE_SIZE, batch_size=BATCH_SIZE,\n",
    "                   interpolation=\"bilinear\",seed=9001)\n",
    "test_datagen = tf.keras.preprocessing.image.ImageDataGenerator(\n",
    "    **datagen_kwargs)\n",
    "test_generator = test_datagen.flow_from_directory(\n",
    "    data_dir, subset=\"validation\", shuffle=False, **dataflow_kwargs)"
   ]
  },
  {
   "cell_type": "code",
   "execution_count": 9,
   "metadata": {},
   "outputs": [
    {
     "name": "stdout",
     "output_type": "stream",
     "text": [
      "Found 100801 images belonging to 2 classes.\n"
     ]
    }
   ],
   "source": [
    "train_generator = test_datagen.flow_from_directory(\n",
    "    data_dir, subset=\"training\", shuffle=False, **dataflow_kwargs)"
   ]
  },
  {
   "cell_type": "code",
   "execution_count": 7,
   "metadata": {},
   "outputs": [
    {
     "data": {
      "text/plain": [
       "'../dataset/Dataset_Img299'"
      ]
     },
     "execution_count": 7,
     "metadata": {},
     "output_type": "execute_result"
    }
   ],
   "source": [
    "data_dir"
   ]
  },
  {
   "cell_type": "code",
   "execution_count": 33,
   "metadata": {
    "colab": {},
    "colab_type": "code",
    "id": "umB5tswsfTEQ"
   },
   "outputs": [
    {
     "name": "stdout",
     "output_type": "stream",
     "text": [
      "Found 20148 images belonging to 51 classes.\n",
      "Found 80656 images belonging to 51 classes.\n"
     ]
    }
   ],
   "source": [
    "# data_dir = \"../dataset/Dataset_Img299/train\"\n",
    "# datagen_kwargs = dict(rescale=1./255, validation_split=.20)\n",
    "# dataflow_kwargs = dict(target_size=IMAGE_SIZE, batch_size=BATCH_SIZE,\n",
    "#                    interpolation=\"bilinear\"\n",
    "#                       )\n",
    "\n",
    "# valid_datagen = tf.keras.preprocessing.image.ImageDataGenerator(\n",
    "#     **datagen_kwargs)\n",
    "# valid_generator = valid_datagen.flow_from_directory(\n",
    "#     data_dir, subset=\"validation\", shuffle=False,seed=9001, **dataflow_kwargs)\n",
    "\n",
    "# do_data_augmentation = True #@param {type:\"boolean\"}\n",
    "# if do_data_augmentation:\n",
    "#     train_datagen = tf.keras.preprocessing.image.ImageDataGenerator(\n",
    "#       rotation_range=40,\n",
    "#       horizontal_flip=False,\n",
    "#       width_shift_range=0.2, height_shift_range=0.2,\n",
    "#       shear_range=0.2, zoom_range=0.2,\n",
    "#       **datagen_kwargs)\n",
    "# else:\n",
    "#     train_datagen = valid_datagen\n",
    "# train_generator = train_datagen.flow_from_directory(\n",
    "#     data_dir, subset=\"training\", shuffle=True, **dataflow_kwargs)\n",
    "\n",
    "data_dir = \"../dataset/Dataset_Img299/train\"\n",
    "datagen_kwargs = dict(rescale=1./255, validation_split=.20)\n",
    "dataflow_kwargs = dict(target_size=IMAGE_SIZE, batch_size=BATCH_SIZE,\n",
    "                   interpolation=\"bilinear\",save_to_dir='../dataset/img_aug'\n",
    "                      )\n",
    "\n",
    "valid_datagen = tf.keras.preprocessing.image.ImageDataGenerator(\n",
    "    **datagen_kwargs)\n",
    "valid_generator = valid_datagen.flow_from_directory(\n",
    "    data_dir, subset=\"validation\", shuffle=True,seed=9001, **dataflow_kwargs)\n",
    "\n",
    "do_data_augmentation = False #@param {type:\"boolean\"}\n",
    "if do_data_augmentation:\n",
    "    train_datagen = tf.keras.preprocessing.image.ImageDataGenerator(\n",
    "      rotation_range=5,\n",
    "      horizontal_flip=False,\n",
    "      width_shift_range=0.1, height_shift_range=0.1,\n",
    "      shear_range=0.1, zoom_range=0.1,\n",
    "      **datagen_kwargs)\n",
    "else:\n",
    "    train_datagen = valid_datagen\n",
    "train_generator = train_datagen.flow_from_directory(\n",
    "    data_dir, subset=\"training\", shuffle=True, **dataflow_kwargs)"
   ]
  },
  {
   "cell_type": "markdown",
   "metadata": {},
   "source": [
    "### Audio Input"
   ]
  },
  {
   "cell_type": "code",
   "execution_count": 34,
   "metadata": {},
   "outputs": [
    {
     "name": "stdout",
     "output_type": "stream",
     "text": [
      "Found 20148 images belonging to 51 classes.\n",
      "Found 80656 images belonging to 51 classes.\n"
     ]
    }
   ],
   "source": [
    "data_dir_audio = \"../dataset/Dataset_neg10db/train\"\n",
    "datagen_kwargs = dict(rescale=1./255, validation_split=.20)\n",
    "dataflow_kwargs = dict(target_size=IMAGE_SIZE, batch_size=BATCH_SIZE,\n",
    "                   interpolation=\"bilinear\",color_mode='grayscale',save_to_dir='../dataset/aud_aug')\n",
    "\n",
    "valid_datagen = tf.keras.preprocessing.image.ImageDataGenerator(\n",
    "    **datagen_kwargs)\n",
    "valid_generator_audio = valid_datagen.flow_from_directory(\n",
    "    data_dir_audio, subset=\"validation\", seed=9001, shuffle=True, **dataflow_kwargs)\n",
    "\n",
    "do_data_augmentation = False #@param {type:\"boolean\"}\n",
    "if do_data_augmentation:\n",
    "    train_datagen_audio = tf.keras.preprocessing.image.ImageDataGenerator(\n",
    "      rotation_range=40,\n",
    "      horizontal_flip=False,\n",
    "      width_shift_range=0.2, height_shift_range=0.2,\n",
    "      shear_range=0.2, zoom_range=0.2,\n",
    "      **datagen_kwargs)\n",
    "else:\n",
    "    train_datagen_audio = valid_datagen\n",
    "train_generator_audio = train_datagen_audio.flow_from_directory(\n",
    "    data_dir_audio, subset=\"training\", shuffle=True, **dataflow_kwargs)"
   ]
  },
  {
   "cell_type": "markdown",
   "metadata": {},
   "source": [
    "## Combining the inputs"
   ]
  },
  {
   "cell_type": "code",
   "execution_count": 27,
   "metadata": {},
   "outputs": [],
   "source": [
    "def combine_generator(gen1, gen2):  \n",
    "    while True:\n",
    "\n",
    "        xy = gen1.next() #or next(train_generator)\n",
    "        xy1 = gen2.next() #or next(train_generator1)\n",
    "        yield (xy[0],xy1[0])    \n",
    "#     while True:\n",
    "#         yield(gen1.next(), gen2.next())    \n",
    "class JoinedGenerator(keras.utils.Sequence):\n",
    "    def __init__(self, generator1, generator2):\n",
    "        self.generator1 = generator1\n",
    "        self.generator2 = generator2 \n",
    "        self.samples = generator1.samples\n",
    "        self.batch_size = generator1.batch_size\n",
    "\n",
    "    def __len__(self):\n",
    "        return len(self.generator1)\n",
    "\n",
    "    def __getitem__(self, i):\n",
    "        x1, y1 = self.generator1[i]\n",
    "        x2, y2 = self.generator2[i]\n",
    "        return [x1, x2], [y1, y2]\n",
    "\n",
    "    def on_epoch_end(self):\n",
    "        self.generator1.on_epoch_end()\n",
    "        self.generator2.on_epoch_end()\n",
    "    "
   ]
  },
  {
   "cell_type": "code",
   "execution_count": 35,
   "metadata": {},
   "outputs": [
    {
     "ename": "NameError",
     "evalue": "name 'combine_generator' is not defined",
     "output_type": "error",
     "traceback": [
      "\u001b[0;31m---------------------------------------------------------------------------\u001b[0m",
      "\u001b[0;31mNameError\u001b[0m                                 Traceback (most recent call last)",
      "\u001b[0;32m<ipython-input-35-bc070a9858a5>\u001b[0m in \u001b[0;36m<module>\u001b[0;34m\u001b[0m\n\u001b[0;32m----> 1\u001b[0;31m \u001b[0mcombinedGenerator\u001b[0m \u001b[0;34m=\u001b[0m \u001b[0mcombine_generator\u001b[0m\u001b[0;34m(\u001b[0m\u001b[0mtrain_generator\u001b[0m\u001b[0;34m,\u001b[0m \u001b[0mtrain_generator_audio\u001b[0m\u001b[0;34m)\u001b[0m\u001b[0;34m\u001b[0m\u001b[0m\n\u001b[0m\u001b[1;32m      2\u001b[0m \u001b[0mcombined_validator\u001b[0m \u001b[0;34m=\u001b[0m \u001b[0mcombine_generator\u001b[0m\u001b[0;34m(\u001b[0m\u001b[0mvalid_generator\u001b[0m\u001b[0;34m,\u001b[0m \u001b[0mvalid_generator_audio\u001b[0m\u001b[0;34m)\u001b[0m\u001b[0;34m\u001b[0m\u001b[0m\n\u001b[1;32m      3\u001b[0m \u001b[0mtraining_generator\u001b[0m \u001b[0;34m=\u001b[0m \u001b[0mJoinedGenerator\u001b[0m\u001b[0;34m(\u001b[0m\u001b[0mtrain_generator\u001b[0m\u001b[0;34m,\u001b[0m \u001b[0mtrain_generator_audio\u001b[0m\u001b[0;34m)\u001b[0m\u001b[0;34m\u001b[0m\u001b[0m\n\u001b[1;32m      4\u001b[0m \u001b[0mval_generator\u001b[0m \u001b[0;34m=\u001b[0m \u001b[0mJoinedGenerator\u001b[0m\u001b[0;34m(\u001b[0m\u001b[0mvalid_generator\u001b[0m\u001b[0;34m,\u001b[0m \u001b[0mvalid_generator_audio\u001b[0m\u001b[0;34m)\u001b[0m\u001b[0;34m\u001b[0m\u001b[0m\n",
      "\u001b[0;31mNameError\u001b[0m: name 'combine_generator' is not defined"
     ]
    }
   ],
   "source": [
    "combinedGenerator = combine_generator(train_generator, train_generator_audio)\n",
    "combined_validator = combine_generator(valid_generator, valid_generator_audio)\n",
    "training_generator = JoinedGenerator(train_generator, train_generator_audio)\n",
    "val_generator = JoinedGenerator(valid_generator, valid_generator_audio)\n"
   ]
  },
  {
   "cell_type": "code",
   "execution_count": null,
   "metadata": {},
   "outputs": [],
   "source": [
    "def generate_generator_multiple_fromgen(genX1,genX2):\n",
    "    while True:\n",
    "            X1i = genX1.next()\n",
    "            X2i = genX2.next()\n",
    "            yield [X1i[0], X2i[0]], X2i[1]  #Yield both images and their mutual label\n",
    "training_generator = generate_generator_multiple_fromgen(train_generator,train_generator_audio)\n",
    "val_generator = generate_generator_multiple_fromgen(valid_generator,valid_generator_audio) "
   ]
  },
  {
   "cell_type": "markdown",
   "metadata": {
    "colab_type": "text",
    "id": "FS_gVStowW3G"
   },
   "source": [
    "\n",
    "## Defining the model\n",
    "\n",
    "All it takes is to put a linear classifier on top of the `feature_extractor_layer` with the Hub module.\n",
    "\n",
    "For speed, we start out with a non-trainable `feature_extractor_layer`, but you can also enable fine-tuning for greater accuracy."
   ]
  },
  {
   "cell_type": "code",
   "execution_count": 36,
   "metadata": {
    "colab": {},
    "colab_type": "code",
    "id": "RaJW3XrPyFiF"
   },
   "outputs": [],
   "source": [
    "do_fine_tuning = True #@param {type:\"boolean\"}"
   ]
  },
  {
   "cell_type": "code",
   "execution_count": 37,
   "metadata": {
    "colab": {},
    "colab_type": "code",
    "id": "50FYNIb1dmJH"
   },
   "outputs": [],
   "source": [
    "# print(\"Building model with\", MODULE_HANDLE)\n",
    "# model = tf.keras.Sequential([\n",
    "#     hub.KerasLayer(MODULE_HANDLE, trainable=do_fine_tuning),\n",
    "#     tf.keras.layers.Dropout(rate=0.2),\n",
    "#     tf.keras.layers.Dense(train_generator.num_classes, activation='softmax',\n",
    "#                           kernel_regularizer=tf.keras.regularizers.l2(0.0001))\n",
    "# ])\n",
    "# model.build((None,)+IMAGE_SIZE+(3,))\n",
    "# model.summary()"
   ]
  },
  {
   "cell_type": "code",
   "execution_count": 38,
   "metadata": {},
   "outputs": [],
   "source": [
    "# NUM_CLASSES=4\n",
    "BATCH_SIZE=BATCH_SIZE\n",
    "EPOCHS=100"
   ]
  },
  {
   "cell_type": "code",
   "execution_count": 39,
   "metadata": {},
   "outputs": [
    {
     "name": "stdout",
     "output_type": "stream",
     "text": [
      "Model: \"model_2\"\n",
      "__________________________________________________________________________________________________\n",
      "Layer (type)                    Output Shape         Param #     Connected to                     \n",
      "==================================================================================================\n",
      "input_3 (InputLayer)            (None, 299, 299, 3)  0                                            \n",
      "__________________________________________________________________________________________________\n",
      "input_4 (InputLayer)            (None, 299, 299, 1)  0                                            \n",
      "__________________________________________________________________________________________________\n",
      "conv2d_5 (Conv2D)               (None, 296, 296, 32) 1568        input_3[0][0]                    \n",
      "__________________________________________________________________________________________________\n",
      "conv2d_7 (Conv2D)               (None, 296, 296, 32) 544         input_4[0][0]                    \n",
      "__________________________________________________________________________________________________\n",
      "max_pooling2d_5 (MaxPooling2D)  (None, 148, 148, 32) 0           conv2d_5[0][0]                   \n",
      "__________________________________________________________________________________________________\n",
      "max_pooling2d_7 (MaxPooling2D)  (None, 148, 148, 32) 0           conv2d_7[0][0]                   \n",
      "__________________________________________________________________________________________________\n",
      "conv2d_6 (Conv2D)               (None, 145, 145, 16) 8208        max_pooling2d_5[0][0]            \n",
      "__________________________________________________________________________________________________\n",
      "conv2d_8 (Conv2D)               (None, 145, 145, 16) 8208        max_pooling2d_7[0][0]            \n",
      "__________________________________________________________________________________________________\n",
      "max_pooling2d_6 (MaxPooling2D)  (None, 72, 72, 16)   0           conv2d_6[0][0]                   \n",
      "__________________________________________________________________________________________________\n",
      "max_pooling2d_8 (MaxPooling2D)  (None, 72, 72, 16)   0           conv2d_8[0][0]                   \n",
      "__________________________________________________________________________________________________\n",
      "flatten_3 (Flatten)             (None, 82944)        0           max_pooling2d_6[0][0]            \n",
      "__________________________________________________________________________________________________\n",
      "flatten_4 (Flatten)             (None, 82944)        0           max_pooling2d_8[0][0]            \n",
      "__________________________________________________________________________________________________\n",
      "concatenate_2 (Concatenate)     (None, 165888)       0           flatten_3[0][0]                  \n",
      "                                                                 flatten_4[0][0]                  \n",
      "__________________________________________________________________________________________________\n",
      "dropout_3 (Dropout)             (None, 165888)       0           concatenate_2[0][0]              \n",
      "__________________________________________________________________________________________________\n",
      "dense_3 (Dense)                 (None, 51)           8460339     dropout_3[0][0]                  \n",
      "__________________________________________________________________________________________________\n",
      "dropout_4 (Dropout)             (None, 51)           0           dense_3[0][0]                    \n",
      "__________________________________________________________________________________________________\n",
      "dense_4 (Dense)                 (None, 51)           2652        dropout_4[0][0]                  \n",
      "==================================================================================================\n",
      "Total params: 8,481,519\n",
      "Trainable params: 8,481,519\n",
      "Non-trainable params: 0\n",
      "__________________________________________________________________________________________________\n",
      "None\n"
     ]
    },
    {
     "data": {
      "image/png": "[encoded data removed]",
      "text/plain": [
       "<IPython.core.display.Image object>"
      ]
     },
     "execution_count": 39,
     "metadata": {},
     "output_type": "execute_result"
    }
   ],
   "source": [
    "# Multiple Inputs\n",
    "from keras.utils import plot_model\n",
    "from keras.models import Model\n",
    "from keras.layers import Input\n",
    "from keras.layers import Dense\n",
    "from keras.layers import Flatten\n",
    "from keras.layers.convolutional import Conv2D\n",
    "from keras.layers.pooling import MaxPooling2D\n",
    "from keras.layers.merge import concatenate\n",
    "# first input model\n",
    "visible1 = Input(shape=(299,299,3))\n",
    "conv11 = Conv2D(32, kernel_size=4, activation='relu')(visible1)\n",
    "pool11 = MaxPooling2D(pool_size=(2, 2))(conv11)\n",
    "conv12 = Conv2D(16, kernel_size=4, activation='relu')(pool11)\n",
    "pool12 = MaxPooling2D(pool_size=(2, 2))(conv12)\n",
    "flat1 = Flatten()(pool12)\n",
    "# second input model\n",
    "visible2 = Input(shape=(299,299,1))\n",
    "conv21 = Conv2D(32, kernel_size=4, activation='relu')(visible2)\n",
    "pool21 = MaxPooling2D(pool_size=(2, 2))(conv21)\n",
    "conv22 = Conv2D(16, kernel_size=4, activation='relu')(pool21)\n",
    "pool22 = MaxPooling2D(pool_size=(2, 2))(conv22)\n",
    "flat2 = Flatten()(pool22)\n",
    "# merge input models\n",
    "merge = concatenate([flat1, flat2])\n",
    "# interpretation model\n",
    "dropout1 = Dropout(rate=0.2)(merge)\n",
    "\n",
    "# hidden1 = Dense(10, activation='relu')(merge)\n",
    "hidden1 = Dense(51, activation='relu')(dropout1)\n",
    "\n",
    "dropout2 = Dropout(rate=0.2)(hidden1)\n",
    "#     tf.keras.layers.Dropout(rate=0.2),\n",
    "#     tf.keras.layers.Dense(train_generator.num_classes, activation='softmax',\n",
    "#                           kernel_regularizer=tf.keras.regularizers.l2(0.0001))\n",
    "# output = Dense(1, activation='sigmoid')(hidden2)\n",
    "output = Dense(51, activation='softmax',\n",
    "                          kernel_regularizer=tf.keras.regularizers.l2(0.0001))(dropout2)\n",
    "\n",
    "model = Model(inputs=[visible1, visible2], outputs=output)\n",
    "# summarize layers\n",
    "print(model.summary())\n",
    "# plot graph\n",
    "plot_model(model, to_file='multiple_inputs.png')"
   ]
  },
  {
   "cell_type": "code",
   "execution_count": 40,
   "metadata": {},
   "outputs": [
    {
     "name": "stdout",
     "output_type": "stream",
     "text": [
      "Model: \"model_2\"\n",
      "__________________________________________________________________________________________________\n",
      "Layer (type)                    Output Shape         Param #     Connected to                     \n",
      "==================================================================================================\n",
      "input_3 (InputLayer)            (None, 299, 299, 3)  0                                            \n",
      "__________________________________________________________________________________________________\n",
      "input_4 (InputLayer)            (None, 299, 299, 1)  0                                            \n",
      "__________________________________________________________________________________________________\n",
      "conv2d_5 (Conv2D)               (None, 296, 296, 32) 1568        input_3[0][0]                    \n",
      "__________________________________________________________________________________________________\n",
      "conv2d_7 (Conv2D)               (None, 296, 296, 32) 544         input_4[0][0]                    \n",
      "__________________________________________________________________________________________________\n",
      "max_pooling2d_5 (MaxPooling2D)  (None, 148, 148, 32) 0           conv2d_5[0][0]                   \n",
      "__________________________________________________________________________________________________\n",
      "max_pooling2d_7 (MaxPooling2D)  (None, 148, 148, 32) 0           conv2d_7[0][0]                   \n",
      "__________________________________________________________________________________________________\n",
      "conv2d_6 (Conv2D)               (None, 145, 145, 16) 8208        max_pooling2d_5[0][0]            \n",
      "__________________________________________________________________________________________________\n",
      "conv2d_8 (Conv2D)               (None, 145, 145, 16) 8208        max_pooling2d_7[0][0]            \n",
      "__________________________________________________________________________________________________\n",
      "max_pooling2d_6 (MaxPooling2D)  (None, 72, 72, 16)   0           conv2d_6[0][0]                   \n",
      "__________________________________________________________________________________________________\n",
      "max_pooling2d_8 (MaxPooling2D)  (None, 72, 72, 16)   0           conv2d_8[0][0]                   \n",
      "__________________________________________________________________________________________________\n",
      "flatten_3 (Flatten)             (None, 82944)        0           max_pooling2d_6[0][0]            \n",
      "__________________________________________________________________________________________________\n",
      "flatten_4 (Flatten)             (None, 82944)        0           max_pooling2d_8[0][0]            \n",
      "__________________________________________________________________________________________________\n",
      "concatenate_2 (Concatenate)     (None, 165888)       0           flatten_3[0][0]                  \n",
      "                                                                 flatten_4[0][0]                  \n",
      "__________________________________________________________________________________________________\n",
      "dropout_3 (Dropout)             (None, 165888)       0           concatenate_2[0][0]              \n",
      "__________________________________________________________________________________________________\n",
      "dense_3 (Dense)                 (None, 51)           8460339     dropout_3[0][0]                  \n",
      "__________________________________________________________________________________________________\n",
      "dropout_4 (Dropout)             (None, 51)           0           dense_3[0][0]                    \n",
      "__________________________________________________________________________________________________\n",
      "dense_4 (Dense)                 (None, 51)           2652        dropout_4[0][0]                  \n",
      "==================================================================================================\n",
      "Total params: 8,481,519\n",
      "Trainable params: 8,481,519\n",
      "Non-trainable params: 0\n",
      "__________________________________________________________________________________________________\n"
     ]
    }
   ],
   "source": [
    "model.build((None,)+IMAGE_SIZE+(3,))\n",
    "model.summary()"
   ]
  },
  {
   "cell_type": "code",
   "execution_count": 61,
   "metadata": {},
   "outputs": [],
   "source": [
    "# from keras.utils.training_utils import multi_gpu_model\n",
    "# model = multi_gpu_model(model, gpus=2)\n",
    "from sklearn.utils import compute_class_weight\n",
    "class_weights=compute_class_weight(class_weight='balanced',\n",
    "                                  classes=np.unique(train_generator.classes),\n",
    "                                  y=train_generator.classes)\n",
    "class_weight_dict = dict(enumerate(class_weights))\n",
    "# classWeight = compute_class_weight('balanced', outputLabels, outputs) \n",
    "# classWeight = dict(enumerate(classWeight))\n",
    "# model.fit(X_train, y_train, batch_size = batch_size, \n",
    "#           nb_epoch = nb_epochs, show_accuracy = True, \n",
    "#           verbose = 2, validation_data = (X_test, y_test), class_weight=classWeight)"
   ]
  },
  {
   "cell_type": "markdown",
   "metadata": {
    "colab_type": "text",
    "id": "u2e5WupIw2N2"
   },
   "source": [
    "## Training the model"
   ]
  },
  {
   "cell_type": "code",
   "execution_count": 69,
   "metadata": {
    "colab": {},
    "colab_type": "code",
    "id": "9f3yBUvkd_VJ"
   },
   "outputs": [],
   "source": [
    "# model.compile(\n",
    "#   optimizer=tf.keras.optimizers.SGD(lr=0.005, momentum=0.9), \n",
    "model.compile(\n",
    "optimizer=tf.keras.optimizers.Adam(learning_rate=0.001, beta_1=0.9, beta_2=0.999, amsgrad=True),\n",
    "  loss=tf.keras.losses.CategoricalCrossentropy(),\n",
    "#     loss=tf.keras.losses.SparseCategoricalCrossentropy(),\n",
    "  metrics=['accuracy'])"
   ]
  },
  {
   "cell_type": "code",
   "execution_count": 70,
   "metadata": {
    "colab": {},
    "colab_type": "code",
    "id": "w_YKX2Qnfg6x"
   },
   "outputs": [],
   "source": [
    "steps_per_epoch = train_generator.samples // train_generator.batch_size\n",
    "validation_steps = valid_generator.samples // valid_generator.batch_size\n",
    "\n",
    "# steps_per_epoch = training_generator.samples // training_generator.batch_size\n",
    "# validation_steps = val_generator.samples // val_generator.batch_size\n",
    "\n",
    "# steps_per_epoch = 100801 // 32\n",
    "# validation_steps = 25199 // 32\n",
    "# validation_steps = test_imgen.samples // test_imgen.batch_size"
   ]
  },
  {
   "cell_type": "code",
   "execution_count": 71,
   "metadata": {},
   "outputs": [
    {
     "name": "stdout",
     "output_type": "stream",
     "text": [
      "2520\n",
      "629\n"
     ]
    }
   ],
   "source": [
    "print(steps_per_epoch)\n",
    "print(validation_steps)\n"
   ]
  },
  {
   "cell_type": "code",
   "execution_count": 72,
   "metadata": {
    "colab": {},
    "colab_type": "code",
    "id": "w_YKX2Qnfg6x"
   },
   "outputs": [],
   "source": [
    "epochs = 100\n",
    "temp_hist = []"
   ]
  },
  {
   "cell_type": "code",
   "execution_count": null,
   "metadata": {},
   "outputs": [],
   "source": []
  },
  {
   "cell_type": "code",
   "execution_count": null,
   "metadata": {
    "colab": {},
    "colab_type": "code",
    "id": "w_YKX2Qnfg6x"
   },
   "outputs": [
    {
     "name": "stdout",
     "output_type": "stream",
     "text": [
      "Epoch 1/1\n",
      "2520/2520 [==============================] - 3080s 1s/step - loss: 3.4523 - accuracy: 0.1125 - val_loss: 3.0922 - val_accuracy: 0.0402\n",
      "Epoch 1/1\n",
      "2520/2520 [==============================] - 3052s 1s/step - loss: 2.3157 - accuracy: 0.2652 - val_loss: 4.1276 - val_accuracy: 0.0556\n",
      "Epoch 1/1\n",
      "2520/2520 [==============================] - 3049s 1s/step - loss: 1.4664 - accuracy: 0.4229 - val_loss: 6.7765 - val_accuracy: 0.0648\n",
      "Epoch 1/1\n",
      "2520/2520 [==============================] - 3048s 1s/step - loss: 1.0063 - accuracy: 0.5554 - val_loss: 8.0277 - val_accuracy: 0.0934\n",
      "Epoch 1/1\n",
      "2520/2520 [==============================] - 3077s 1s/step - loss: 0.7977 - accuracy: 0.6292 - val_loss: 15.6276 - val_accuracy: 0.1260\n",
      "Epoch 1/1\n",
      "1472/2520 [================>.............] - ETA: 19:07 - loss: 0.6857 - accuracy: 0.6739"
     ]
    }
   ],
   "source": [
    "# hist = model.fit_generator(training_generator,\n",
    "# epochs=1, steps_per_epoch=steps_per_epoch,\n",
    "# validation_data=val_generator,\n",
    "# validation_steps=validation_steps,verbose=1,workers=4).history  \n",
    "for ep in range(1,epochs):\n",
    "    hist = model.fit_generator(\n",
    "    training_generator,\n",
    "    epochs=1, steps_per_epoch=steps_per_epoch,\n",
    "    validation_data=val_generator,\n",
    "    validation_steps=validation_steps,verbose=1,\n",
    "    workers=4,use_multiprocessing=True,\n",
    "    class_weight=class_weight_dict).history  \n",
    "#     temp_hist.append(hist,ignore_index=True)\n",
    "    temp_hist.append(hist) #if temp_hist is list\n",
    "    \n",
    "#     print(hist)\n",
    "    saved_model_path = \"./bimodal_late_adam_nosmooth_amsgrad_ep\" + str(ep)\n",
    "#     tf.saved_model.save(model, saved_model_path)\n",
    "    model.save(saved_model_path +\".h5\")\n",
    "\n",
    "    hist_df = pd.DataFrame(temp_hist)  #if temp_hist is list\n",
    "    hist_df.to_csv('train_bimodal_late_adam_nosmooth_amsgrad_log.csv')     #if temp_hist is list\n",
    "#     temp_hist.to_csv('train_log.csv')     \n"
   ]
  },
  {
   "cell_type": "code",
   "execution_count": 26,
   "metadata": {},
   "outputs": [],
   "source": [
    "model.save(saved_model_path +\".h5\")\n",
    "\n",
    "# hist_df = pd.DataFrame(temp_hist)  #if temp_hist is list\n",
    "# hist_df.to_csv('train_bimodal_late_adam_log.csv')     #if temp_hist is list"
   ]
  },
  {
   "cell_type": "code",
   "execution_count": 29,
   "metadata": {
    "colab": {},
    "colab_type": "code",
    "id": "w_YKX2Qnfg6x"
   },
   "outputs": [
    {
     "name": "stdout",
     "output_type": "stream",
     "text": [
      "INFO:tensorflow:Assets written to: ./saved_lip_null_ep_9/assets\n"
     ]
    },
    {
     "name": "stderr",
     "output_type": "stream",
     "text": [
      "INFO:tensorflow:Assets written to: ./saved_lip_null_ep_9/assets\n"
     ]
    }
   ],
   "source": [
    "saved_model_path = \"./saved_lip_null_ep_\" + str(ep)\n",
    "tf.saved_model.save(model, saved_model_path)"
   ]
  },
  {
   "cell_type": "code",
   "execution_count": 28,
   "metadata": {
    "colab": {},
    "colab_type": "code",
    "id": "w_YKX2Qnfg6x"
   },
   "outputs": [
    {
     "name": "stdout",
     "output_type": "stream",
     "text": [
      "[{'loss': [2.316262753337687], 'val_loss': [2.3719793514530685], 'accuracy': [0.5353865], 'val_accuracy': [0.52523845]}, {'loss': [1.819408319894935], 'val_loss': [2.455325429503982], 'accuracy': [0.6993451], 'val_accuracy': [0.5309022]}, {'loss': [1.6879657605120673], 'val_loss': [2.310744246731502], 'accuracy': [0.74445575], 'val_accuracy': [0.57944155]}, {'loss': [1.6099599338661326], 'val_loss': [2.4728358858909063], 'accuracy': [0.7702421], 'val_accuracy': [0.5187301]}, {'loss': [1.5588393566224708], 'val_loss': [2.624276320202741], 'accuracy': [0.78682524], 'val_accuracy': [0.49880764]}, {'loss': [1.5191592816488921], 'val_loss': [2.472897128005096], 'accuracy': [0.79950136], 'val_accuracy': [0.53686404]}, {'loss': [1.4837063854236077], 'val_loss': [2.3960891182168678], 'accuracy': [0.8112473], 'val_accuracy': [0.57675874]}, {'loss': [1.4569287674841982], 'val_loss': [2.4842185424507517], 'accuracy': [0.8193714], 'val_accuracy': [0.5288653]}, {'loss': [1.4350209747379936], 'val_loss': [2.434778626469247], 'accuracy': [0.8265157], 'val_accuracy': [0.56274843]}, {'loss': [1.4133494795965613], 'val_loss': [2.7797186754655763], 'accuracy': [0.83410645], 'val_accuracy': [0.50158983]}]\n"
     ]
    }
   ],
   "source": [
    "print(temp_hist)"
   ]
  },
  {
   "cell_type": "code",
   "execution_count": 30,
   "metadata": {
    "colab": {},
    "colab_type": "code",
    "id": "CYOw0fTO1W4x"
   },
   "outputs": [
    {
     "data": {
      "text/plain": [
       "[<matplotlib.lines.Line2D at 0x7f2a46e12ba8>]"
      ]
     },
     "execution_count": 30,
     "metadata": {},
     "output_type": "execute_result"
    },
    {
     "data": {
      "image/png": "[encoded data removed]",
      "text/plain": [
       "<Figure size 432x288 with 1 Axes>"
      ]
     },
     "metadata": {
      "needs_background": "light"
     },
     "output_type": "display_data"
    },
    {
     "data": {
      "image/png": "[encoded data removed]",
      "text/plain": [
       "<Figure size 432x288 with 1 Axes>"
      ]
     },
     "metadata": {
      "needs_background": "light"
     },
     "output_type": "display_data"
    }
   ],
   "source": [
    "plt.figure()\n",
    "plt.ylabel(\"Loss (training and validation)\")\n",
    "plt.xlabel(\"Training Steps\")\n",
    "plt.ylim([0,2])\n",
    "plt.plot(hist[\"loss\"])\n",
    "plt.plot(hist[\"val_loss\"])\n",
    "\n",
    "plt.figure()\n",
    "plt.ylabel(\"Accuracy (training and validation)\")\n",
    "plt.xlabel(\"Training Steps\")\n",
    "plt.ylim([0,1])\n",
    "plt.plot(hist[\"accuracy\"])\n",
    "plt.plot(hist[\"val_accuracy\"])"
   ]
  },
  {
   "cell_type": "code",
   "execution_count": 38,
   "metadata": {},
   "outputs": [
    {
     "data": {
      "text/plain": [
       "{'accuracy': [0.82985216, 0.84089106, 0.8508385],\n",
       " 'loss': [1.4290987213208197, 1.3962311056261618, 1.3634767802042203],\n",
       " 'val_accuracy': [0.50039744, 0.53502584, 0.5633446],\n",
       " 'val_loss': [2.695763185501857, 2.6466522813790934, 2.444194936695463]}"
      ]
     },
     "execution_count": 38,
     "metadata": {},
     "output_type": "execute_result"
    }
   ],
   "source": [
    "hist"
   ]
  },
  {
   "cell_type": "markdown",
   "metadata": {
    "colab_type": "text",
    "id": "YCsAsQM1IRvA"
   },
   "source": [
    "Finally, the trained model can be saved for deployment to TF Serving or TF Lite (on mobile) as follows."
   ]
  },
  {
   "cell_type": "code",
   "execution_count": 42,
   "metadata": {
    "colab": {},
    "colab_type": "code",
    "id": "LGvTi69oIc2d"
   },
   "outputs": [
    {
     "name": "stdout",
     "output_type": "stream",
     "text": [
      "WARNING:tensorflow:From /usr/local/lib/python3.5/dist-packages/tensorflow_core/python/ops/resource_variable_ops.py:1781: calling BaseResourceVariable.__init__ (from tensorflow.python.ops.resource_variable_ops) with constraint is deprecated and will be removed in a future version.\n",
      "Instructions for updating:\n",
      "If using Keras pass *_constraint arguments to layers.\n"
     ]
    },
    {
     "name": "stderr",
     "output_type": "stream",
     "text": [
      "WARNING:tensorflow:From /usr/local/lib/python3.5/dist-packages/tensorflow_core/python/ops/resource_variable_ops.py:1781: calling BaseResourceVariable.__init__ (from tensorflow.python.ops.resource_variable_ops) with constraint is deprecated and will be removed in a future version.\n",
      "Instructions for updating:\n",
      "If using Keras pass *_constraint arguments to layers.\n"
     ]
    },
    {
     "name": "stdout",
     "output_type": "stream",
     "text": [
      "INFO:tensorflow:Assets written to: ./saved_lip_fill/assets\n"
     ]
    },
    {
     "name": "stderr",
     "output_type": "stream",
     "text": [
      "INFO:tensorflow:Assets written to: ./saved_lip_fill/assets\n"
     ]
    }
   ],
   "source": [
    "saved_model_path = \"./saved_lip_null\"\n",
    "tf.saved_model.save(model, saved_model_path)"
   ]
  },
  {
   "cell_type": "code",
   "execution_count": null,
   "metadata": {},
   "outputs": [],
   "source": [
    "pred"
   ]
  },
  {
   "cell_type": "code",
   "execution_count": null,
   "metadata": {},
   "outputs": [
    {
     "name": "stdout",
     "output_type": "stream",
     "text": [
      " 5935/25196 [======>.......................] - ETA: 1:00:28"
     ]
    }
   ],
   "source": [
    "# model.evaluate_generator(generator=valid_generator,\n",
    "# steps=STEP_SIZE_VALID)\n",
    "\n",
    "# STEP_SIZE_TEST=valid_generator.n//valid_generator.batch_size\n",
    "# valid_generator.reset()\n",
    "# pred=model.predict_generator(valid_generator,\n",
    "# steps=STEP_SIZE_TEST,\n",
    "# verbose=1)\n",
    "\n",
    "# predicted_class_indices=np.argmax(pred,axis=1)\n",
    "\n",
    "# labels = (train_generator.class_indices)\n",
    "# labels = dict((v,k) for k,v in labels.items())\n",
    "# predictions = [labels[k] for k in predicted_class_indices]\n",
    "\n",
    "\n",
    "filenames = valid_generator.filenames\n",
    "nb_samples = len(filenames)\n",
    "\n",
    "# # filenames = test_generator.filenames\n",
    "# # nb_samples = len(filenames)\n",
    "\n",
    "predict = model.predict_generator(valid_generator,steps = nb_samples,\n",
    "verbose=1)\n",
    "predicted_class_indices=np.argmax(predict,axis=1)\n",
    "\n",
    "# model.predict_generator()"
   ]
  },
  {
   "cell_type": "code",
   "execution_count": 27,
   "metadata": {},
   "outputs": [
    {
     "data": {
      "text/plain": [
       "25199"
      ]
     },
     "execution_count": 27,
     "metadata": {},
     "output_type": "execute_result"
    }
   ],
   "source": [
    "len(test_generator.filenames)"
   ]
  },
  {
   "cell_type": "code",
   "execution_count": 31,
   "metadata": {},
   "outputs": [
    {
     "name": "stdout",
     "output_type": "stream",
     "text": [
      "Found 25196 images belonging to 51 classes.\n",
      "Found 25196 images belonging to 51 classes.\n"
     ]
    }
   ],
   "source": [
    "test_dir = 'Dataset_Null/test'\n",
    "# !ls\n",
    "\n",
    "testgen_kwargs = dict(rescale=1./255, validation_split=.20)\n",
    "testflow_kwargs = dict(target_size=IMAGE_SIZE, batch_size=BATCH_SIZE,\n",
    "                   interpolation=\"bilinear\")\n",
    "test_gen = tf.keras.preprocessing.image.ImageDataGenerator(\n",
    "    **testgen_kwargs)\n",
    "\n",
    "test_generator = test_gen.flow_from_directory(\n",
    "    test_dir, subset=None, shuffle=False, **testflow_kwargs)\n",
    "\n",
    "TEST_BATCH_SIZE = len(test_generator.filenames)\n",
    "\n",
    "testflow_kwargs = dict(target_size=IMAGE_SIZE, batch_size=BATCH_SIZE,\n",
    "                   interpolation=\"bilinear\")\n",
    "\n",
    "test_generator = test_gen.flow_from_directory(\n",
    "    test_dir, subset=None, shuffle=False, **testflow_kwargs)\n"
   ]
  },
  {
   "cell_type": "code",
   "execution_count": 32,
   "metadata": {},
   "outputs": [
    {
     "name": "stdout",
     "output_type": "stream",
     "text": [
      "788/787 [==============================] - 226s 286ms/step\n"
     ]
    }
   ],
   "source": [
    "\n",
    "filenames = test_generator.filenames\n",
    "nb_samples = len(filenames)\n",
    "\n",
    "predict = model.predict_generator(test_generator,steps = nb_samples/BATCH_SIZE, verbose=True)\n",
    "\n",
    "# filenames = valid_generator.filenames\n",
    "# nb_samples = len(filenames)\n",
    "# predict = model.predict_generator(valid_generator,steps = nb_samples,\n",
    "# verbose=1)\n",
    "# predicted_class_indices=np.argmax(predict,axis=1)\n",
    "\n",
    "# labels = (train_generator.class_indices)\n",
    "# labels = dict((v,k) for k,v in labels.items())\n",
    "# predictions = [labels[k] for k in predicted_class_indices]\n",
    "\n",
    "# filenames=valid_generator.filenames\n",
    "# results=pd.DataFrame({\"Filename\":filenames,\n",
    "#                       \"Predictions\":predictions})\n",
    "# results.to_csv(\"results.csv\",index=False)"
   ]
  },
  {
   "cell_type": "code",
   "execution_count": 33,
   "metadata": {},
   "outputs": [],
   "source": [
    "predicted_class_indices=np.argmax(predict,axis=1)\n",
    "\n",
    "labels = (train_generator.class_indices)"
   ]
  },
  {
   "cell_type": "code",
   "execution_count": 34,
   "metadata": {},
   "outputs": [],
   "source": [
    "labels = dict((v,k) for k,v in labels.items())"
   ]
  },
  {
   "cell_type": "code",
   "execution_count": 216,
   "metadata": {},
   "outputs": [],
   "source": [
    "# predictions = [labels[k] for k in predicted_class_indices]\n",
    "# results=pd.DataFrame({\"Filename\":filenames,\n",
    "#                       \"Predictions\":predictions})\n",
    "# results.to_csv(\"results.csv\",index=False)\n",
    "# label_df = pd.DataFrame.from_dict(labels, orient='index',columns=['str_label'])\n",
    "# label_df.index.name='index'\n",
    "labels[51]='Missing'  \n",
    "def word_to_int(str_label):\n",
    "    try:\n",
    "        return int(label_df[label_df['str_label']==str_label].index.values[0])\n",
    "    except:\n",
    "        return None"
   ]
  },
  {
   "cell_type": "code",
   "execution_count": 35,
   "metadata": {},
   "outputs": [],
   "source": [
    "predictions = [labels.get(k) for k in predicted_class_indices]\n",
    "results=pd.DataFrame({\"Filename\":filenames,\n",
    "                      \"Predictions\":predictions})\n",
    "results.to_csv(\"results_pred_null.csv\",index=False)\n"
   ]
  },
  {
   "cell_type": "code",
   "execution_count": 36,
   "metadata": {},
   "outputs": [],
   "source": [
    "results['label'] = results.apply(lambda x: x['Filename'].split('_')[2].split('.')[0], axis=1)\n",
    "results.to_csv(\"results_pred_null2.csv\",index=False)\n",
    "\n",
    "# results['n_label'] = results.apply(lambda x: word_to_int(x['label']), axis=1)\n",
    "# results[results['Predictions'].isna()] = 'Missing'\n"
   ]
  },
  {
   "cell_type": "code",
   "execution_count": 199,
   "metadata": {},
   "outputs": [],
   "source": [
    "results['n_prediction'] = predicted_class_indices"
   ]
  },
  {
   "cell_type": "code",
   "execution_count": 254,
   "metadata": {},
   "outputs": [
    {
     "data": {
      "text/plain": [
       "Series([], Name: Filename, dtype: object)"
      ]
     },
     "execution_count": 254,
     "metadata": {},
     "output_type": "execute_result"
    }
   ],
   "source": [
    "results[results['n_label'].isnull()]['Filename']"
   ]
  },
  {
   "cell_type": "code",
   "execution_count": 253,
   "metadata": {},
   "outputs": [],
   "source": [
    "results = results.drop(results.index[1218])"
   ]
  },
  {
   "cell_type": "code",
   "execution_count": 16,
   "metadata": {},
   "outputs": [],
   "source": [
    "# results.to_csv(\"\"results_pred2\".csv\",index=False)\n",
    "results = pd.read_csv(\"results_pred_Null.csv\")"
   ]
  },
  {
   "cell_type": "code",
   "execution_count": 18,
   "metadata": {},
   "outputs": [
    {
     "data": {
      "text/html": [
       "<div>\n",
       "<style scoped>\n",
       "    .dataframe tbody tr th:only-of-type {\n",
       "        vertical-align: middle;\n",
       "    }\n",
       "\n",
       "    .dataframe tbody tr th {\n",
       "        vertical-align: top;\n",
       "    }\n",
       "\n",
       "    .dataframe thead th {\n",
       "        text-align: right;\n",
       "    }\n",
       "</style>\n",
       "<table border=\"1\" class=\"dataframe\">\n",
       "  <thead>\n",
       "    <tr style=\"text-align: right;\">\n",
       "      <th></th>\n",
       "      <th>Filename</th>\n",
       "      <th>Predictions</th>\n",
       "      <th>label</th>\n",
       "      <th>n_label</th>\n",
       "      <th>n_prediction</th>\n",
       "    </tr>\n",
       "  </thead>\n",
       "  <tbody>\n",
       "    <tr>\n",
       "      <td>0</td>\n",
       "      <td>a/s10_lbaa2n_a.jpg</td>\n",
       "      <td>e</td>\n",
       "      <td>a</td>\n",
       "      <td>0.0</td>\n",
       "      <td>9</td>\n",
       "    </tr>\n",
       "    <tr>\n",
       "      <td>1</td>\n",
       "      <td>a/s10_lbaa3s_a.jpg</td>\n",
       "      <td>l</td>\n",
       "      <td>a</td>\n",
       "      <td>0.0</td>\n",
       "      <td>21</td>\n",
       "    </tr>\n",
       "    <tr>\n",
       "      <td>2</td>\n",
       "      <td>a/s10_lbaa4p_a.jpg</td>\n",
       "      <td>e</td>\n",
       "      <td>a</td>\n",
       "      <td>0.0</td>\n",
       "      <td>9</td>\n",
       "    </tr>\n",
       "    <tr>\n",
       "      <td>3</td>\n",
       "      <td>a/s10_lbaa5a_a.jpg</td>\n",
       "      <td>white</td>\n",
       "      <td>a</td>\n",
       "      <td>0.0</td>\n",
       "      <td>45</td>\n",
       "    </tr>\n",
       "    <tr>\n",
       "      <td>4</td>\n",
       "      <td>a/s10_lbba6n_a.jpg</td>\n",
       "      <td>j</td>\n",
       "      <td>a</td>\n",
       "      <td>0.0</td>\n",
       "      <td>19</td>\n",
       "    </tr>\n",
       "    <tr>\n",
       "      <td>...</td>\n",
       "      <td>...</td>\n",
       "      <td>...</td>\n",
       "      <td>...</td>\n",
       "      <td>...</td>\n",
       "      <td>...</td>\n",
       "    </tr>\n",
       "    <tr>\n",
       "      <td>25191</td>\n",
       "      <td>zero/s16_briezs_zero.jpg</td>\n",
       "      <td>Missing</td>\n",
       "      <td>zero</td>\n",
       "      <td>50.0</td>\n",
       "      <td>51</td>\n",
       "    </tr>\n",
       "    <tr>\n",
       "      <td>25192</td>\n",
       "      <td>zero/s16_brirza_zero.jpg</td>\n",
       "      <td>Missing</td>\n",
       "      <td>zero</td>\n",
       "      <td>50.0</td>\n",
       "      <td>51</td>\n",
       "    </tr>\n",
       "    <tr>\n",
       "      <td>25193</td>\n",
       "      <td>zero/s16_brwszs_zero.jpg</td>\n",
       "      <td>soon</td>\n",
       "      <td>zero</td>\n",
       "      <td>50.0</td>\n",
       "      <td>39</td>\n",
       "    </tr>\n",
       "    <tr>\n",
       "      <td>25194</td>\n",
       "      <td>zero/s16_bwafzs_zero.jpg</td>\n",
       "      <td>Missing</td>\n",
       "      <td>zero</td>\n",
       "      <td>50.0</td>\n",
       "      <td>51</td>\n",
       "    </tr>\n",
       "    <tr>\n",
       "      <td>25195</td>\n",
       "      <td>zero/s16_bwasza_zero.jpg</td>\n",
       "      <td>q</td>\n",
       "      <td>zero</td>\n",
       "      <td>50.0</td>\n",
       "      <td>32</td>\n",
       "    </tr>\n",
       "  </tbody>\n",
       "</table>\n",
       "<p>25196 rows × 5 columns</p>\n",
       "</div>"
      ],
      "text/plain": [
       "                       Filename Predictions label  n_label  n_prediction\n",
       "0            a/s10_lbaa2n_a.jpg           e     a      0.0             9\n",
       "1            a/s10_lbaa3s_a.jpg           l     a      0.0            21\n",
       "2            a/s10_lbaa4p_a.jpg           e     a      0.0             9\n",
       "3            a/s10_lbaa5a_a.jpg       white     a      0.0            45\n",
       "4            a/s10_lbba6n_a.jpg           j     a      0.0            19\n",
       "...                         ...         ...   ...      ...           ...\n",
       "25191  zero/s16_briezs_zero.jpg     Missing  zero     50.0            51\n",
       "25192  zero/s16_brirza_zero.jpg     Missing  zero     50.0            51\n",
       "25193  zero/s16_brwszs_zero.jpg        soon  zero     50.0            39\n",
       "25194  zero/s16_bwafzs_zero.jpg     Missing  zero     50.0            51\n",
       "25195  zero/s16_bwasza_zero.jpg           q  zero     50.0            32\n",
       "\n",
       "[25196 rows x 5 columns]"
      ]
     },
     "execution_count": 18,
     "metadata": {},
     "output_type": "execute_result"
    }
   ],
   "source": [
    "results"
   ]
  },
  {
   "cell_type": "code",
   "execution_count": 89,
   "metadata": {},
   "outputs": [],
   "source": [
    "new_list = [str(labels.get(k)) for k in predicted_class_indices]\n"
   ]
  },
  {
   "cell_type": "code",
   "execution_count": 38,
   "metadata": {},
   "outputs": [
    {
     "name": "stderr",
     "output_type": "stream",
     "text": [
      "/usr/local/lib/python3.5/site-packages/sklearn/ensemble/weight_boosting.py:29: DeprecationWarning: numpy.core.umath_tests is an internal NumPy module and should not be imported. It will be removed in a future NumPy release.\n",
      "  from numpy.core.umath_tests import inner1d\n"
     ]
    }
   ],
   "source": [
    "import sklearn\n",
    "from sklearn import metrics\n",
    "from sklearn.model_selection import cross_val_score, train_test_split\n",
    "from sklearn.ensemble import RandomForestClassifier\n",
    "from sklearn.preprocessing import MinMaxScaler\n",
    "from scipy.stats import chi2_contingency\n",
    "from sklearn.metrics import classification_report,mean_squared_error\n",
    "import seaborn as sns; sns.set()\n"
   ]
  },
  {
   "cell_type": "code",
   "execution_count": 138,
   "metadata": {},
   "outputs": [],
   "source": [
    "  \n",
    "\n",
    "# label_df = pd.DataFrame.from_dict(labels, orient='index',columns=['str_label'])\n",
    "# label_df.index.name='index'\n",
    "# word_to_int = dict((c,i) for i,c in enumerate(word_map))\n",
    "#     #print(word_to_int)\n",
    "#     int_to_word = dict((i,c) for i,c in enumerate(word_map))\n",
    "#     #print(target[1])\n",
    "#     #print(word_to_int[target[1]])\n",
    "#     interger_encoded = [word_to_int[word] for word in label]\n",
    "    \n",
    "#     onehot_encoded = list()\n",
    "#     for value in interger_encoded:\n",
    "#         letter = [0 for _ in range(len(word_map))]\n",
    "#         letter[value] = 1\n",
    "#         onehot_encoded.append(letter)\n",
    "#     result = np.asarray(onehot_encoded,dtype = np.int32)"
   ]
  },
  {
   "cell_type": "code",
   "execution_count": 94,
   "metadata": {},
   "outputs": [],
   "source": []
  },
  {
   "cell_type": "code",
   "execution_count": 208,
   "metadata": {},
   "outputs": [
    {
     "data": {
      "text/plain": [
       "0         0\n",
       "1         0\n",
       "2         0\n",
       "3         0\n",
       "4         0\n",
       "         ..\n",
       "25192    50\n",
       "25193    50\n",
       "25194    50\n",
       "25195    50\n",
       "25196    50\n",
       "Name: n_label, Length: 25197, dtype: object"
      ]
     },
     "execution_count": 208,
     "metadata": {},
     "output_type": "execute_result"
    }
   ],
   "source": [
    "# predicted_class_indices\n",
    "results.n_label\n",
    "# word_map = ['bin','lay','place','set',\n",
    "#            'blue','red','green','white',\n",
    "#            'at','in','with','by',\n",
    "#            'a','b','c','d','e','f','g','h','i','j','k','l','m','n','o','p','q','r','s','t','u','v','x','y','z',\n",
    "#            'zero','one','two','three','four','five','six','seven','eight','nine',\n",
    "#            'again','now','soon','please']\n",
    "# word_to_int = dict((c,i) for i,c in enumerate(word_map))\n",
    "# #print(word_to_int)\n",
    "# int_to_word = dict((i,c) for i,c in enumerate(word_map))\n",
    "# #print(target[1])\n",
    "# #print(word_to_int[target[1]])\n",
    "# interger_encoded = [word_to_int[word] for word in label]"
   ]
  },
  {
   "cell_type": "code",
   "execution_count": 24,
   "metadata": {},
   "outputs": [
    {
     "name": "stdout",
     "output_type": "stream",
     "text": [
      "\n",
      "Classification Report:\n",
      "              precision    recall  f1-score   support\n",
      "\n",
      "        0.0       0.45      0.24      0.31       168\n",
      "        1.0       0.88      0.65      0.75      1050\n",
      "        2.0       0.50      0.29      0.36      1049\n",
      "        3.0       0.55      0.25      0.34       168\n",
      "        4.0       0.76      0.72      0.74      1056\n",
      "        5.0       0.44      0.92      0.60      1050\n",
      "        6.0       0.76      0.75      0.76      1048\n",
      "        7.0       0.22      0.04      0.06       168\n",
      "        8.0       0.17      0.01      0.01       168\n",
      "        9.0       0.21      0.11      0.15       168\n",
      "       10.0       0.26      0.16      0.20       420\n",
      "       11.0       0.82      0.52      0.64       168\n",
      "       12.0       0.88      0.61      0.72       420\n",
      "       13.0       0.58      0.90      0.70       420\n",
      "       14.0       0.16      0.32      0.21       168\n",
      "       15.0       0.42      0.53      0.47      1050\n",
      "       16.0       0.34      0.60      0.44       168\n",
      "       17.0       0.00      0.00      0.00       168\n",
      "       18.0       0.03      0.00      0.01      1051\n",
      "       19.0       0.00      0.00      0.00       168\n",
      "       20.0       0.00      0.00      0.00       168\n",
      "       21.0       0.00      0.00      0.00       168\n",
      "       22.0       0.00      0.00      0.00      1073\n",
      "       23.0       0.01      0.03      0.01       168\n",
      "       24.0       0.02      0.01      0.01       168\n",
      "       25.0       0.00      0.00      0.00       420\n",
      "       26.0       0.08      0.04      0.06      1050\n",
      "       27.0       0.00      0.01      0.00       168\n",
      "       28.0       0.02      0.03      0.02       420\n",
      "       29.0       0.01      0.03      0.01       168\n",
      "       30.0       0.19      0.02      0.03      1048\n",
      "       31.0       0.15      0.10      0.12      1050\n",
      "       32.0       0.00      0.00      0.00       168\n",
      "       33.0       0.01      0.02      0.01       168\n",
      "       34.0       0.01      0.00      0.00      1050\n",
      "       35.0       0.00      0.03      0.01       168\n",
      "       36.0       0.00      0.00      0.00      1021\n",
      "       37.0       0.02      0.01      0.01       420\n",
      "       38.0       0.00      0.00      0.00       420\n",
      "       39.0       0.05      0.01      0.01      1050\n",
      "       40.0       0.00      0.01      0.00       168\n",
      "       41.0       0.00      0.00      0.00       420\n",
      "       42.0       0.00      0.00      0.00       420\n",
      "       43.0       0.02      0.08      0.03       168\n",
      "       44.0       0.00      0.01      0.00       168\n",
      "       45.0       0.00      0.00      0.00      1050\n",
      "       46.0       0.00      0.00      0.00      1050\n",
      "       47.0       0.00      0.01      0.00       168\n",
      "       48.0       0.00      0.00      0.00       168\n",
      "       49.0       0.00      0.00      0.00       168\n",
      "       50.0       0.00      0.00      0.00       420\n",
      "       51.0       0.00      0.00      0.00         0\n",
      "\n",
      "avg / total       0.23      0.21      0.21     25196\n",
      "\n"
     ]
    },
    {
     "name": "stderr",
     "output_type": "stream",
     "text": [
      "/usr/local/lib/python3.5/site-packages/sklearn/metrics/classification.py:1135: UndefinedMetricWarning: Precision and F-score are ill-defined and being set to 0.0 in labels with no predicted samples.\n",
      "  'precision', 'predicted', average, warn_for)\n",
      "/usr/local/lib/python3.5/site-packages/sklearn/metrics/classification.py:1137: UndefinedMetricWarning: Recall and F-score are ill-defined and being set to 0.0 in labels with no true samples.\n",
      "  'recall', 'true', average, warn_for)\n"
     ]
    }
   ],
   "source": [
    "# from sklearn.metrics import confusion_matrix,multilabel_confusion_matrix\n",
    "from sklearn.metrics import classification_report\n",
    "# con_mat = tf.math.confusion_matrix(\n",
    "#     labels=results.n_label,\n",
    "#     predictions=results.n_prediction)\n",
    "    \n",
    "#     num_classes=None,\n",
    "#     weights=None,\n",
    "#     dtype=tf.dtypes.string,\n",
    "#     name=None\n",
    "# )\n",
    "# con_mat_norm = np.around(con_mat.astype('float') / con_mat.sum(axis=1)[:, np.newaxis], decimals=2)\n",
    " \n",
    "# con_mat_df = pd.DataFrame(con_mat_norm,\n",
    "#                      index = classes, \n",
    "#                      columns = classes)\n",
    "conf_matrix = confusion_matrix(y_true=results.n_label, y_pred=results.n_prediction)\n",
    "print('\\nClassification Report:\\n', classification_report(y_true=results.n_label, y_pred=results.n_prediction, labels=))\n",
    "# x_axis_labels = ['GB','US'] # labels for x-axis\n",
    "# y_axis_labels = ['GB','US'] # labels for y-axis\n",
    "\n",
    "# ax = sns.heatmap(conf_matrix,annot=True,fmt=\"d\",cmap=\"YlGnBu\")\n",
    "#                  , \n",
    "#                  xticklabels=x_axis_labels, yticklabels=y_axis_labels)"
   ]
  },
  {
   "cell_type": "code",
   "execution_count": 40,
   "metadata": {},
   "outputs": [
    {
     "name": "stdout",
     "output_type": "stream",
     "text": [
      "\n",
      "Classification Report:\n",
      "              precision    recall  f1-score   support\n",
      "\n",
      "          a       0.40      0.25      0.31       168\n",
      "      again       0.80      0.49      0.60      1050\n",
      "         at       0.42      0.33      0.37      1049\n",
      "          b       0.42      0.11      0.18       168\n",
      "        bin       0.46      0.79      0.58      1056\n",
      "       blue       0.70      0.66      0.68      1050\n",
      "         by       0.56      0.90      0.69      1048\n",
      "          c       0.31      0.02      0.04       168\n",
      "          d       0.33      0.06      0.10       168\n",
      "          e       0.39      0.07      0.12       168\n",
      "      eight       0.34      0.08      0.13       420\n",
      "          f       0.66      0.60      0.63       168\n",
      "       five       0.56      0.63      0.59       420\n",
      "       four       0.57      0.78      0.66       420\n",
      "          g       0.14      0.23      0.18       168\n",
      "      green       0.45      0.84      0.58      1050\n",
      "          h       0.36      0.52      0.42       168\n",
      "          i       0.24      0.33      0.28       168\n",
      "         in       0.66      0.25      0.36      1051\n",
      "          j       0.32      0.30      0.31       168\n",
      "          k       0.36      0.36      0.36       168\n",
      "          l       0.67      0.28      0.39       168\n",
      "        lay       0.85      0.48      0.61      1073\n",
      "          m       0.91      0.73      0.81       168\n",
      "          n       0.13      0.32      0.18       168\n",
      "       nine       0.24      0.40      0.30       420\n",
      "        now       0.75      0.47      0.58      1050\n",
      "          o       0.12      0.59      0.20       168\n",
      "        one       0.22      0.67      0.34       420\n",
      "          p       0.24      0.04      0.06       168\n",
      "      place       0.90      0.48      0.63      1048\n",
      "     please       0.98      0.59      0.74      1050\n",
      "          q       0.53      0.22      0.31       168\n",
      "          r       0.09      0.84      0.17       168\n",
      "        red       0.60      0.55      0.57      1050\n",
      "          s       0.68      0.09      0.16       168\n",
      "        set       0.80      0.26      0.39      1021\n",
      "      seven       0.89      0.44      0.59       420\n",
      "        six       0.92      0.29      0.44       420\n",
      "       soon       0.77      0.77      0.77      1050\n",
      "          t       0.10      0.04      0.05       168\n",
      "      three       0.52      0.69      0.59       420\n",
      "        two       0.33      0.23      0.27       420\n",
      "          u       0.21      0.48      0.29       168\n",
      "          v       0.31      0.49      0.38       168\n",
      "      white       0.82      0.38      0.52      1050\n",
      "       with       0.61      0.90      0.73      1050\n",
      "          x       0.52      0.19      0.28       168\n",
      "          y       0.39      0.18      0.24       168\n",
      "          z       0.52      0.18      0.27       168\n",
      "       zero       0.81      0.61      0.70       420\n",
      "\n",
      "avg / total       0.62      0.51      0.51     25196\n",
      "\n"
     ]
    }
   ],
   "source": [
    "from sklearn.metrics import classification_report, confusion_matrix\n",
    "\n",
    "conf_matrix = confusion_matrix(y_true=results.label, y_pred=results.Predictions)\n",
    "print('\\nClassification Report:\\n', classification_report(y_true=results.label, y_pred=results.Predictions))\n"
   ]
  },
  {
   "cell_type": "code",
   "execution_count": 41,
   "metadata": {},
   "outputs": [],
   "source": [
    "import seaborn as sns"
   ]
  },
  {
   "cell_type": "code",
   "execution_count": 40,
   "metadata": {},
   "outputs": [
    {
     "data": {
      "text/plain": [
       "array(['e', 'l', 'white', 'j', 'a', 'x', 'two', 'at', 'one', 'v', 'again',\n",
       "       'now', 'by', 'r', 'in', 'eight', 'bin', 'nine', 's', 'm', 'green',\n",
       "       'five', 'o', 't', 'n', 'soon', 'blue', 'four', 'd', 'g', 'three',\n",
       "       'with', 'p', 'u', 'Missing', 'h', 'q', 'seven', 'please', 'y',\n",
       "       'set', 'lay', 'red', 'b', 'place', 'c', 'zero', 'six', 'f', 'k',\n",
       "       'z'], dtype=object)"
      ]
     },
     "execution_count": 40,
     "metadata": {},
     "output_type": "execute_result"
    }
   ],
   "source": [
    "results.Predictions.unique()"
   ]
  },
  {
   "cell_type": "code",
   "execution_count": 44,
   "metadata": {},
   "outputs": [
    {
     "data": {
      "image/png": "[encoded data removed]",
      "text/plain": [
       "<Figure size 432x288 with 2 Axes>"
      ]
     },
     "metadata": {
      "needs_background": "light"
     },
     "output_type": "display_data"
    }
   ],
   "source": [
    "ax = sns.heatmap(conf_matrix,annot=False,fmt=\"d\",cmap=\"YlGnBu\"\n",
    "                 , xticklabels='auto', yticklabels='auto')\n",
    "#                  xticklabels=x_axis_labels, yticklabels=y_axis_labels)"
   ]
  },
  {
   "cell_type": "code",
   "execution_count": 44,
   "metadata": {},
   "outputs": [
    {
     "data": {
      "image/png": "[encoded data removed]",
      "text/plain": [
       "<Figure size 1440x1080 with 2 Axes>"
      ]
     },
     "metadata": {},
     "output_type": "display_data"
    }
   ],
   "source": [
    "plt.subplots(figsize=(20,15))\n",
    "\n",
    "cm = conf_matrix.astype('float') / conf_matrix.sum(axis=1)[:, np.newaxis]\n",
    "ax = sns.heatmap(cm,annot=False,fmt=\"d\",cmap=plt.cm.Blues,annot_kws={\"size\": 16},\n",
    "                xticklabels=results.label.unique(),yticklabels=results.label.unique())"
   ]
  },
  {
   "cell_type": "code",
   "execution_count": 25,
   "metadata": {},
   "outputs": [
    {
     "ename": "NameError",
     "evalue": "name 'labels' is not defined",
     "output_type": "error",
     "traceback": [
      "\u001b[0;31m---------------------------------------------------------------------------\u001b[0m",
      "\u001b[0;31mNameError\u001b[0m                                 Traceback (most recent call last)",
      "\u001b[0;32m<ipython-input-25-0a1df294b701>\u001b[0m in \u001b[0;36m<module>\u001b[0;34m\u001b[0m\n\u001b[0;32m----> 1\u001b[0;31m \u001b[0mlabels\u001b[0m\u001b[0;34m\u001b[0m\u001b[0m\n\u001b[0m",
      "\u001b[0;31mNameError\u001b[0m: name 'labels' is not defined"
     ]
    }
   ],
   "source": [
    "labels"
   ]
  },
  {
   "cell_type": "code",
   "execution_count": 46,
   "metadata": {},
   "outputs": [
    {
     "data": {
      "text/plain": [
       "20148"
      ]
     },
     "execution_count": 46,
     "metadata": {},
     "output_type": "execute_result"
    }
   ],
   "source": [
    "filenames = valid_generator.filenames\n",
    "nb_samples = len(filenames)\n",
    "nb_samples"
   ]
  },
  {
   "cell_type": "code",
   "execution_count": 49,
   "metadata": {},
   "outputs": [
    {
     "data": {
      "text/plain": [
       "644364"
      ]
     },
     "execution_count": 49,
     "metadata": {},
     "output_type": "execute_result"
    }
   ],
   "source": [
    "len(predictions)\n"
   ]
  },
  {
   "cell_type": "markdown",
   "metadata": {},
   "source": [
    "## Load Saved Model"
   ]
  },
  {
   "cell_type": "code",
   "execution_count": 14,
   "metadata": {},
   "outputs": [],
   "source": [
    "# saved_model_path = \"./saved_lip_fill\"\n",
    "saved_model_path = \"./saved_lip_null_ep_9\""
   ]
  },
  {
   "cell_type": "code",
   "execution_count": 15,
   "metadata": {},
   "outputs": [],
   "source": [
    "model = tf.keras.models.load_model(saved_model_path)\n",
    "\n",
    "# model = tf.saved_model.load(\n",
    "#     export_dir=saved_model_path,\n",
    "#     tags=None\n",
    "# )\n",
    "\n",
    "# model, saved_model_path"
   ]
  },
  {
   "cell_type": "markdown",
   "metadata": {
    "colab_type": "text",
    "id": "QzW4oNRjILaq"
   },
   "source": [
    "## Optional: Deployment to TensorFlow Lite\n",
    "\n",
    "[TensorFlow Lite](https://www.tensorflow.org/lite) lets you deploy TensorFlow models to mobile and IoT devices. The code below shows how to convert the trained model to TF Lite and apply post-training tools from the [TensorFlow Model Optimization Toolkit](https://www.tensorflow.org/model_optimization). Finally, it runs it in the TF Lite Interpreter to examine the resulting quality\n",
    "\n",
    "  * Converting without optimization provides the same results as before (up to roundoff error).\n",
    "  * Converting with optimization without any data quantizes the model weights to 8 bits, but inference still uses floating-point computation for the neural network activations. This reduces model size almost by a factor of 4 and improves CPU latency on mobile devices.\n",
    "  * On top, computation of the neural network activations can be quantized to 8-bit integers as well if a small reference dataset is provided to calibrate the quantization range. On a mobile device, this accelerates inference further and makes it possible to run on accelerators like EdgeTPU."
   ]
  },
  {
   "cell_type": "code",
   "execution_count": null,
   "metadata": {},
   "outputs": [],
   "source": []
  },
  {
   "cell_type": "code",
   "execution_count": null,
   "metadata": {
    "colab": {},
    "colab_type": "code",
    "id": "Va1Vo92fSyV6"
   },
   "outputs": [],
   "source": [
    "#@title Optimization settings\n",
    "optimize_lite_model = False  #@param {type:\"boolean\"}\n",
    "#@markdown Setting a value greater than zero enables quantization of neural network activations. A few dozen is already a useful amount.\n",
    "num_calibration_examples = 60  #@param {type:\"slider\", min:0, max:1000, step:1}\n",
    "representative_dataset = None\n",
    "if optimize_lite_model and num_calibration_examples:\n",
    "  # Use a bounded number of training examples without labels for calibration.\n",
    "  # TFLiteConverter expects a list of input tensors, each with batch size 1.\n",
    "  representative_dataset = lambda: itertools.islice(\n",
    "      ([image[None, ...]] for batch, _ in train_generator for image in batch),\n",
    "      num_calibration_examples)\n",
    "\n",
    "converter = tf.lite.TFLiteConverter.from_saved_model(saved_model_path)\n",
    "if optimize_lite_model:\n",
    "  converter.optimizations = [tf.lite.Optimize.DEFAULT]\n",
    "  if representative_dataset:  # This is optional, see above.\n",
    "    converter.representative_dataset = representative_dataset\n",
    "lite_model_content = converter.convert()\n",
    "\n",
    "with open(\"/tmp/lite_flowers_model\", \"wb\") as f:\n",
    "  f.write(lite_model_content)\n",
    "print(\"Wrote %sTFLite model of %d bytes.\" %\n",
    "      (\"optimized \" if optimize_lite_model else \"\", len(lite_model_content)))"
   ]
  },
  {
   "cell_type": "code",
   "execution_count": null,
   "metadata": {
    "colab": {},
    "colab_type": "code",
    "id": "_wqEmD0xIqeG"
   },
   "outputs": [],
   "source": [
    "interpreter = tf.lite.Interpreter(model_content=lite_model_content)\n",
    "# This little helper wraps the TF Lite interpreter as a numpy-to-numpy function.\n",
    "def lite_model(images):\n",
    "  interpreter.allocate_tensors()\n",
    "  interpreter.set_tensor(interpreter.get_input_details()[0]['index'], images)\n",
    "  interpreter.invoke()\n",
    "  return interpreter.get_tensor(interpreter.get_output_details()[0]['index'])"
   ]
  },
  {
   "cell_type": "code",
   "execution_count": null,
   "metadata": {
    "colab": {},
    "colab_type": "code",
    "id": "JMMK-fZrKrk8"
   },
   "outputs": [],
   "source": [
    "#@markdown For rapid experimentation, start with a moderate number of examples.\n",
    "num_eval_examples = 50  #@param {type:\"slider\", min:0, max:700}\n",
    "eval_dataset = ((image, label)  # TFLite expects batch size 1.\n",
    "                for batch in train_generator\n",
    "                for (image, label) in zip(*batch))\n",
    "count = 0\n",
    "count_lite_tf_agree = 0\n",
    "count_lite_correct = 0\n",
    "for image, label in eval_dataset:\n",
    "  probs_lite = lite_model(image[None, ...])[0]\n",
    "  probs_tf = model(image[None, ...]).numpy()[0]\n",
    "  y_lite = np.argmax(probs_lite)\n",
    "  y_tf = np.argmax(probs_tf)\n",
    "  y_true = np.argmax(label)\n",
    "  count +=1\n",
    "  if y_lite == y_tf: count_lite_tf_agree += 1\n",
    "  if y_lite == y_true: count_lite_correct += 1\n",
    "  if count >= num_eval_examples: break\n",
    "print(\"TF Lite model agrees with original model on %d of %d examples (%g%%).\" %\n",
    "      (count_lite_tf_agree, count, 100.0 * count_lite_tf_agree / count))\n",
    "print(\"TF Lite model is accurate on %d of %d examples (%g%%).\" %\n",
    "      (count_lite_correct, count, 100.0 * count_lite_correct / count))"
   ]
  },
  {
   "cell_type": "markdown",
   "metadata": {},
   "source": [
    "## MUltiple Inputs"
   ]
  },
  {
   "cell_type": "code",
   "execution_count": 6,
   "metadata": {},
   "outputs": [],
   "source": [
    "# from tf.keras.preprocessing.image import ImageDataGenerator\n",
    "input_imgen = tf.keras.preprocessing.image.ImageDataGenerator(rescale = 1./255, \n",
    "                                   shear_range = 0.2, \n",
    "                                   zoom_range = 0.2,\n",
    "                                   rotation_range=5.,\n",
    "                                   horizontal_flip = False)\n",
    "\n",
    "test_imgen = tf.keras.preprocessing.image.ImageDataGenerator(rescale = 1./255)"
   ]
  },
  {
   "cell_type": "code",
   "execution_count": 7,
   "metadata": {},
   "outputs": [],
   "source": [
    "\n",
    "\n",
    "\n",
    "def generate_generator_multiple(generator,dir1, dir2, batch_size, img_height,img_width):\n",
    "    genX1 = generator.flow_from_directory(dir1,\n",
    "                                          target_size = (img_height,img_width),\n",
    "                                          class_mode = 'categorical',\n",
    "                                          batch_size = batch_size,\n",
    "                                          shuffle=False, \n",
    "                                          seed=7)\n",
    "    \n",
    "    genX2 = generator.flow_from_directory(dir2,\n",
    "                                          target_size = (img_height,img_width),\n",
    "                                          class_mode = 'categorical',\n",
    "                                          batch_size = batch_size,\n",
    "                                          shuffle=False, \n",
    "                                          seed=7)\n",
    "    while True:\n",
    "            X1i = genX1.next()\n",
    "            X2i = genX2.next()\n",
    "            yield [X1i[0], X2i[0]], X2i[1]  #Yield both images and their mutual label\n",
    "            "
   ]
  },
  {
   "cell_type": "code",
   "execution_count": 41,
   "metadata": {},
   "outputs": [],
   "source": [
    "def generate_generator_multiple_fromgen(genX1,genX2):\n",
    "    while True:\n",
    "            X1i = genX1.next()\n",
    "            X2i = genX2.next()\n",
    "            yield [X1i[0], X2i[0]], X2i[1]  #Yield both images and their mutual label\n",
    "input_traingen = generate_generator_multiple_fromgen(train_generator,train_generator_audio)\n",
    "val_traingen = generate_generator_multiple_fromgen(valid_generator,valid_generator_audio)            "
   ]
  },
  {
   "cell_type": "code",
   "execution_count": null,
   "metadata": {},
   "outputs": [],
   "source": []
  },
  {
   "cell_type": "code",
   "execution_count": 28,
   "metadata": {},
   "outputs": [],
   "source": [
    "train_dir_1 = \"../dataset/Dataset_Img299/train\"\n",
    "train_dir_2 = \"../dataset/Dataset_neg20db/train\""
   ]
  },
  {
   "cell_type": "code",
   "execution_count": 29,
   "metadata": {},
   "outputs": [],
   "source": [
    "img_height=299"
   ]
  },
  {
   "cell_type": "code",
   "execution_count": 30,
   "metadata": {},
   "outputs": [],
   "source": [
    "# inputgenerator=generate_generator_multiple(generator=input_imgen,\n",
    "#                                            dir1=train_dir_1,\n",
    "#                                            dir2=train_dir_2,\n",
    "#                                            batch_size=BATCH_SIZE,\n",
    "#                                            img_height=img_height,\n",
    "#                                            img_width=img_height)       \n",
    "input_traingen = generate_generator_multiple_fromgen(train_generator,train_generator_audio)\n",
    "val_traingen = generate_generator_multiple_fromgen(valid_generator,valid_generator_audio)\n",
    "# testgenerator=generate_generator_multiple(test_imgen,\n",
    "#                                           dir1=train_dir_1,\n",
    "#                                           dir2=train_dir_2,\n",
    "#                                           batch_size=batch_size,\n",
    "#                                           img_height=img_height,\n",
    "#                                           img_width=img_height)    "
   ]
  },
  {
   "cell_type": "code",
   "execution_count": 31,
   "metadata": {},
   "outputs": [],
   "source": [
    "test_dir_1 = \"../dataset/Dataset_Img299/test\"\n",
    "test_dir_2 = \"../dataset/Dataset_neg20db/test\"\n",
    "\n",
    "testgenerator=generate_generator_multiple(test_imgen,\n",
    "                                          dir1=test_dir_1,\n",
    "                                          dir2=test_dir_2,\n",
    "                                          batch_size=BATCH_SIZE,\n",
    "                                          img_height=img_height,\n",
    "                                          img_width=img_height)              "
   ]
  },
  {
   "cell_type": "code",
   "execution_count": 32,
   "metadata": {},
   "outputs": [
    {
     "name": "stdout",
     "output_type": "stream",
     "text": [
      "Epoch 1/1\n",
      "Found 25196 images belonging to 51 classes.\n",
      "Epoch 1/1\n",
      "Found 25196 images belonging to 51 classes.\n",
      "Found 25196 images belonging to 51 classes.\n",
      "Found 25196 images belonging to 51 classes.\n",
      "Found 25201 images belonging to 51 classes.\n",
      "Found 25201 images belonging to 51 classes.\n",
      "Found 25201 images belonging to 51 classes.\n",
      "Found 25201 images belonging to 51 classes.\n",
      "Found 100804 images belonging to 51 classes.\n",
      "Found 100804 images belonging to 51 classes.\n",
      "Found 100804 images belonging to 51 classes.\n",
      "Epoch 1/1\n",
      "Found 100804 images belonging to 51 classes.\n",
      "Found 100804 images belonging to 51 classes.\n",
      "Found 100804 images belonging to 51 classes.\n",
      "Found 100804 images belonging to 51 classes.\n",
      "Found 100804 images belonging to 51 classes.\n",
      "3150/3150 [==============================] - 3336s 1s/step - loss: 1.1921e-07 - accuracy: 0.0196 - val_loss: 1.1921e-07 - val_accuracy: 0.0196\n"
     ]
    }
   ],
   "source": [
    "\n",
    "# history=model.fit_generator(inputgenerator,\n",
    "#                         steps_per_epoch=trainsetsize/batch_size,\n",
    "#                         epochs = epochs,\n",
    "#                         validation_data = testgenerator,\n",
    "#                         validation_steps = testsetsize/batch_size,\n",
    "#                         use_multiprocessing=True,\n",
    "#                         shuffle=False)\n",
    "    \n",
    "hist = model.fit_generator(inputgenerator,\n",
    "epochs=1, steps_per_epoch=steps_per_epoch,\n",
    "validation_data=testgenerator,\n",
    "validation_steps=validation_steps,\n",
    "use_multiprocessing=True,\n",
    "verbose=1,workers=4).history  \n",
    "#   temp_hist.append(hist,ignore_index=True)\n",
    "# temp_hist.append(hist) #if temp_hist is list\n",
    "\n",
    "#   print(hist)\n",
    "# saved_model_path = \"./bimodal_late_ep\" + str(ep)\n",
    "# tf.saved_model.save(model, saved_model_path)\n",
    "# hist_df = pd.DataFrame(temp_hist)  #if temp_hist is list\n",
    "# hist_df.to_csv('train_bimodal_early_log.csv')     #if temp_hist is list\n",
    "#   temp_hist.to_csv('train_log.csv')     \n",
    "    \n",
    "    "
   ]
  },
  {
   "cell_type": "code",
   "execution_count": null,
   "metadata": {},
   "outputs": [],
   "source": []
  }
 ],
 "metadata": {
  "accelerator": "GPU",
  "colab": {
   "collapsed_sections": [
    "ScitaPqhKtuW"
   ],
   "last_runtime": {
    "build_target": "",
    "kind": "local"
   },
   "name": "TF Hub for TF2: Image Module Retraining (preview)",
   "provenance": [],
   "version": "0.3.2"
  },
  "kernelspec": {
   "display_name": "Python 3",
   "language": "python",
   "name": "python3"
  },
  "language_info": {
   "codemirror_mode": {
    "name": "ipython",
    "version": 3
   },
   "file_extension": ".py",
   "mimetype": "text/x-python",
   "name": "python",
   "nbconvert_exporter": "python",
   "pygments_lexer": "ipython3",
   "version": "3.5.3"
  }
 },
 "nbformat": 4,
 "nbformat_minor": 4
}
