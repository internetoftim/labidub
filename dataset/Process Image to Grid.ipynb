{
 "cells": [
  {
   "cell_type": "code",
   "execution_count": 7,
   "metadata": {},
   "outputs": [],
   "source": [
    "import os\n",
    "from PIL import Image\n",
    "import numpy as np\n",
    "import pandas as pd\n",
    "from pathlib import Path\n",
    "from pathlib import PureWindowsPath\n",
    "import re\n",
    "import random\n",
    "\n",
    "import cv2\n",
    "import numpy as np\n",
    "import matplotlib.pyplot as plt\n",
    "\n",
    "import pathlib"
   ]
  },
  {
   "cell_type": "markdown",
   "metadata": {},
   "source": [
    "Install Prerequisites"
   ]
  },
  {
   "cell_type": "code",
   "execution_count": 2,
   "metadata": {},
   "outputs": [
    {
     "name": "stdout",
     "output_type": "stream",
     "text": [
      "Requirement already satisfied: keras in /usr/local/lib/python2.7/dist-packages\n",
      "Requirement already satisfied: keras-applications>=1.0.6 in /usr/local/lib/python2.7/dist-packages (from keras)\n",
      "Requirement already satisfied: h5py in /usr/local/lib/python2.7/dist-packages (from keras)\n",
      "Requirement already satisfied: pyyaml in /usr/local/lib/python2.7/dist-packages (from keras)\n",
      "Requirement already satisfied: scipy>=0.14 in /usr/local/lib/python2.7/site-packages (from keras)\n",
      "Requirement already satisfied: numpy>=1.9.1 in /usr/local/lib/python2.7/site-packages (from keras)\n",
      "Requirement already satisfied: keras-preprocessing>=1.0.5 in /usr/local/lib/python2.7/dist-packages (from keras)\n",
      "Requirement already satisfied: six>=1.9.0 in /usr/local/lib/python2.7/dist-packages (from keras)\n",
      "Requirement already satisfied: intel-numpy in /usr/local/lib/python2.7/dist-packages (from scipy>=0.14->keras)\n",
      "Requirement already satisfied: mkl-random in /usr/local/lib/python2.7/dist-packages (from numpy>=1.9.1->keras)\n",
      "Requirement already satisfied: mkl-fft in /usr/local/lib/python2.7/dist-packages (from numpy>=1.9.1->keras)\n",
      "Requirement already satisfied: mkl in /usr/local/lib/python2.7/dist-packages (from numpy>=1.9.1->keras)\n",
      "Requirement already satisfied: tbb4py in /usr/local/lib/python2.7/dist-packages (from numpy>=1.9.1->keras)\n",
      "Requirement already satisfied: icc-rt in /usr/local/lib/python2.7/dist-packages (from numpy>=1.9.1->keras)\n",
      "Requirement already satisfied: intel-openmp in /usr/local/lib/python2.7/dist-packages (from mkl->numpy>=1.9.1->keras)\n",
      "Requirement already satisfied: tbb==2019.* in /usr/local/lib/python2.7/dist-packages (from tbb4py->numpy>=1.9.1->keras)\n",
      "Collecting tensorflow\n",
      "  Downloading https://files.pythonhosted.org/packages/d3/59/d88fe8c58ffb66aca21d03c0e290cd68327cc133591130c674985e98a482/tensorflow-1.14.0-cp27-cp27mu-manylinux1_x86_64.whl (109.2MB)\n",
      "\u001b[K    100% |████████████████████████████████| 109.2MB 12kB/s  eta 0:00:011\n",
      "\u001b[?25hRequirement already satisfied: keras-applications>=1.0.6 in /usr/local/lib/python2.7/dist-packages (from tensorflow)\n",
      "Requirement already satisfied: mock>=2.0.0 in /usr/local/lib/python2.7/dist-packages (from tensorflow)\n",
      "Requirement already satisfied: grpcio>=1.8.6 in /usr/local/lib/python2.7/dist-packages (from tensorflow)\n",
      "Requirement already satisfied: termcolor>=1.1.0 in /usr/local/lib/python2.7/dist-packages (from tensorflow)\n",
      "Collecting tensorboard<1.15.0,>=1.14.0 (from tensorflow)\n",
      "  Downloading https://files.pythonhosted.org/packages/f4/37/e6a7af1c92c5b68fb427f853b06164b56ea92126bcfd87784334ec5e4d42/tensorboard-1.14.0-py2-none-any.whl (3.1MB)\n",
      "\u001b[K    100% |████████████████████████████████| 3.2MB 442kB/s  eta 0:00:01\n",
      "\u001b[?25hRequirement already satisfied: backports.weakref>=1.0rc1 in /usr/local/lib/python2.7/dist-packages (from tensorflow)\n",
      "Requirement already satisfied: google-pasta>=0.1.6 in /usr/local/lib/python2.7/dist-packages (from tensorflow)\n",
      "Requirement already satisfied: enum34>=1.1.6 in /usr/lib/python2.7/dist-packages (from tensorflow)\n",
      "Collecting tensorflow-estimator<1.15.0rc0,>=1.14.0rc0 (from tensorflow)\n",
      "  Downloading https://files.pythonhosted.org/packages/3c/d5/21860a5b11caf0678fbc8319341b0ae21a07156911132e0e71bffed0510d/tensorflow_estimator-1.14.0-py2.py3-none-any.whl (488kB)\n",
      "\u001b[K    100% |████████████████████████████████| 491kB 3.1MB/s  eta 0:00:01\n",
      "\u001b[?25hRequirement already satisfied: numpy<2.0,>=1.14.5 in /usr/local/lib/python2.7/site-packages (from tensorflow)\n",
      "Requirement already satisfied: wheel in /usr/lib/python2.7/dist-packages (from tensorflow)\n",
      "Requirement already satisfied: astor>=0.6.0 in /usr/local/lib/python2.7/dist-packages (from tensorflow)\n",
      "Requirement already satisfied: six>=1.10.0 in /usr/local/lib/python2.7/dist-packages (from tensorflow)\n",
      "Requirement already satisfied: gast>=0.2.0 in /usr/local/lib/python2.7/dist-packages (from tensorflow)\n",
      "Requirement already satisfied: keras-preprocessing>=1.0.5 in /usr/local/lib/python2.7/dist-packages (from tensorflow)\n",
      "Requirement already satisfied: protobuf>=3.6.1 in /usr/local/lib/python2.7/dist-packages (from tensorflow)\n",
      "Requirement already satisfied: wrapt>=1.11.1 in /usr/local/lib/python2.7/dist-packages (from tensorflow)\n",
      "Requirement already satisfied: absl-py>=0.7.0 in /usr/local/lib/python2.7/dist-packages (from tensorflow)\n",
      "Requirement already satisfied: h5py in /usr/local/lib/python2.7/dist-packages (from keras-applications>=1.0.6->tensorflow)\n",
      "Requirement already satisfied: funcsigs>=1; python_version < \"3.3\" in /usr/local/lib/python2.7/dist-packages (from mock>=2.0.0->tensorflow)\n",
      "Requirement already satisfied: pbr>=0.11 in /usr/local/lib/python2.7/dist-packages (from mock>=2.0.0->tensorflow)\n",
      "Requirement already satisfied: futures>=2.2.0; python_version < \"3.2\" in /usr/local/lib/python2.7/dist-packages (from grpcio>=1.8.6->tensorflow)\n",
      "Requirement already satisfied: werkzeug>=0.11.15 in /usr/local/lib/python2.7/dist-packages (from tensorboard<1.15.0,>=1.14.0->tensorflow)\n",
      "Requirement already satisfied: setuptools>=41.0.0 in /usr/local/lib/python2.7/dist-packages (from tensorboard<1.15.0,>=1.14.0->tensorflow)\n",
      "Requirement already satisfied: markdown>=2.6.8 in /usr/local/lib/python2.7/dist-packages (from tensorboard<1.15.0,>=1.14.0->tensorflow)\n",
      "Requirement already satisfied: mkl-random in /usr/local/lib/python2.7/dist-packages (from numpy<2.0,>=1.14.5->tensorflow)\n",
      "Requirement already satisfied: mkl-fft in /usr/local/lib/python2.7/dist-packages (from numpy<2.0,>=1.14.5->tensorflow)\n",
      "Requirement already satisfied: mkl in /usr/local/lib/python2.7/dist-packages (from numpy<2.0,>=1.14.5->tensorflow)\n",
      "Requirement already satisfied: tbb4py in /usr/local/lib/python2.7/dist-packages (from numpy<2.0,>=1.14.5->tensorflow)\n",
      "Requirement already satisfied: icc-rt in /usr/local/lib/python2.7/dist-packages (from numpy<2.0,>=1.14.5->tensorflow)\n",
      "Requirement already satisfied: intel-numpy in /usr/local/lib/python2.7/dist-packages (from mkl-random->numpy<2.0,>=1.14.5->tensorflow)\n",
      "Requirement already satisfied: intel-openmp in /usr/local/lib/python2.7/dist-packages (from mkl->numpy<2.0,>=1.14.5->tensorflow)\n",
      "Requirement already satisfied: tbb==2019.* in /usr/local/lib/python2.7/dist-packages (from tbb4py->numpy<2.0,>=1.14.5->tensorflow)\n",
      "Installing collected packages: tensorboard, tensorflow-estimator, tensorflow\n",
      "Successfully installed tensorboard-1.14.0 tensorflow-1.14.0 tensorflow-estimator-1.14.0\n"
     ]
    }
   ],
   "source": [
    "!pip install keras\n",
    "!pip install tensorflow"
   ]
  },
  {
   "cell_type": "markdown",
   "metadata": {},
   "source": [
    "Download Dataset"
   ]
  },
  {
   "cell_type": "code",
   "execution_count": 5,
   "metadata": {},
   "outputs": [],
   "source": [
    "!unzip -q /home/jupyter/labidub/Mouth_Images_50_100.zip"
   ]
  },
  {
   "cell_type": "markdown",
   "metadata": {},
   "source": [
    "Write Dataset Paths from Raw"
   ]
  },
  {
   "cell_type": "code",
   "execution_count": 2,
   "metadata": {},
   "outputs": [],
   "source": [
    "root_dir = Path(\"Mouth_Images_50_100\")"
   ]
  },
  {
   "cell_type": "code",
   "execution_count": 3,
   "metadata": {},
   "outputs": [],
   "source": [
    "data_df = pd.DataFrame(columns=['img_fname','speaker','index','sent_pattern',\\\n",
    "                                  'word','postfix'])\n",
    "speaker_df = os.listdir(\"Mouth_Images_50_100\")\n",
    "\n",
    "for speaker_root in speaker_df:\n",
    "    print(speaker_root)\n",
    "    speaker_images = os.listdir(str(root_dir/speaker_root))\n",
    "    speaker_img_df = pd.DataFrame(speaker_images,columns=[\"img_fname\"])\n",
    "    speaker_img_df[\"speaker\"] = speaker_root\n",
    "    speaker_img_df['index'] = speaker_img_df.apply(lambda x:\\\n",
    "                                x[\"img_fname\"].split(\"_\")[0],axis=1)\n",
    "    speaker_img_df['sent_pattern'] = speaker_img_df.apply(lambda x:\\\n",
    "                                x[\"img_fname\"].split(\"_\")[1],axis=1)\n",
    "    speaker_img_df['word'] = speaker_img_df.apply(lambda x:\\\n",
    "                                x[\"img_fname\"].split(\"_\")[2],axis=1)\n",
    "    speaker_img_df['postfix'] = speaker_img_df.apply(lambda x:\\\n",
    "                                x[\"img_fname\"].split(\"_\")[3],axis=1)\n",
    "    speaker_img_df['path'] = speaker_img_df.apply(lambda x:\\\n",
    "                            str(Path(\"Mouth_Images_50_100\")/speaker_root/x[\"img_fname\"]),axis=1)\n",
    "    data_df = data_df.append(speaker_img_df)"
   ]
  },
  {
   "cell_type": "code",
   "execution_count": 96,
   "metadata": {},
   "outputs": [
    {
     "name": "stdout",
     "output_type": "stream",
     "text": [
      "\u001b[0m\u001b[01;34mMouth_Images_50_100\u001b[0m/  speakers.txt\n",
      "README.md             \u001b[01;32mTCN+LSTM-3Channels-All_words.ipynb\u001b[0m*\n"
     ]
    }
   ],
   "source": [
    "ls"
   ]
  },
  {
   "cell_type": "code",
   "execution_count": 109,
   "metadata": {},
   "outputs": [
    {
     "data": {
      "text/html": [
       "<div>\n",
       "<style scoped>\n",
       "    .dataframe tbody tr th:only-of-type {\n",
       "        vertical-align: middle;\n",
       "    }\n",
       "\n",
       "    .dataframe tbody tr th {\n",
       "        vertical-align: top;\n",
       "    }\n",
       "\n",
       "    .dataframe thead th {\n",
       "        text-align: right;\n",
       "    }\n",
       "</style>\n",
       "<table border=\"1\" class=\"dataframe\">\n",
       "  <thead>\n",
       "    <tr style=\"text-align: right;\">\n",
       "      <th></th>\n",
       "      <th>img_fname</th>\n",
       "      <th>index</th>\n",
       "      <th>path</th>\n",
       "      <th>postfix</th>\n",
       "      <th>sent_pattern</th>\n",
       "      <th>speaker</th>\n",
       "      <th>word</th>\n",
       "    </tr>\n",
       "  </thead>\n",
       "  <tbody>\n",
       "    <tr>\n",
       "      <th>0</th>\n",
       "      <td>31040_swbm4p_m_4.jpg</td>\n",
       "      <td>31040</td>\n",
       "      <td>Mouth_Images_50_100/s27/31040_swbm4p_m_4.jpg</td>\n",
       "      <td>4.jpg</td>\n",
       "      <td>swbm4p</td>\n",
       "      <td>s27</td>\n",
       "      <td>m</td>\n",
       "    </tr>\n",
       "    <tr>\n",
       "      <th>1</th>\n",
       "      <td>25535_pbis4p_s_4.jpg</td>\n",
       "      <td>25535</td>\n",
       "      <td>Mouth_Images_50_100/s27/25535_pbis4p_s_4.jpg</td>\n",
       "      <td>4.jpg</td>\n",
       "      <td>pbis4p</td>\n",
       "      <td>s27</td>\n",
       "      <td>s</td>\n",
       "    </tr>\n",
       "    <tr>\n",
       "      <th>2</th>\n",
       "      <td>29676_pwbh7a_white_2.jpg</td>\n",
       "      <td>29676</td>\n",
       "      <td>Mouth_Images_50_100/s27/29676_pwbh7a_white_2.jpg</td>\n",
       "      <td>2.jpg</td>\n",
       "      <td>pwbh7a</td>\n",
       "      <td>s27</td>\n",
       "      <td>white</td>\n",
       "    </tr>\n",
       "    <tr>\n",
       "      <th>3</th>\n",
       "      <td>36454_lbwczp_please_6.jpg</td>\n",
       "      <td>36454</td>\n",
       "      <td>Mouth_Images_50_100/s27/36454_lbwczp_please_6.jpg</td>\n",
       "      <td>6.jpg</td>\n",
       "      <td>lbwczp</td>\n",
       "      <td>s27</td>\n",
       "      <td>please</td>\n",
       "    </tr>\n",
       "    <tr>\n",
       "      <th>4</th>\n",
       "      <td>25090_bgar4p_please_6.jpg</td>\n",
       "      <td>25090</td>\n",
       "      <td>Mouth_Images_50_100/s27/25090_bgar4p_please_6.jpg</td>\n",
       "      <td>6.jpg</td>\n",
       "      <td>bgar4p</td>\n",
       "      <td>s27</td>\n",
       "      <td>please</td>\n",
       "    </tr>\n",
       "  </tbody>\n",
       "</table>\n",
       "</div>"
      ],
      "text/plain": [
       "                   img_fname  index  \\\n",
       "0       31040_swbm4p_m_4.jpg  31040   \n",
       "1       25535_pbis4p_s_4.jpg  25535   \n",
       "2   29676_pwbh7a_white_2.jpg  29676   \n",
       "3  36454_lbwczp_please_6.jpg  36454   \n",
       "4  25090_bgar4p_please_6.jpg  25090   \n",
       "\n",
       "                                                path postfix sent_pattern  \\\n",
       "0       Mouth_Images_50_100/s27/31040_swbm4p_m_4.jpg   4.jpg       swbm4p   \n",
       "1       Mouth_Images_50_100/s27/25535_pbis4p_s_4.jpg   4.jpg       pbis4p   \n",
       "2   Mouth_Images_50_100/s27/29676_pwbh7a_white_2.jpg   2.jpg       pwbh7a   \n",
       "3  Mouth_Images_50_100/s27/36454_lbwczp_please_6.jpg   6.jpg       lbwczp   \n",
       "4  Mouth_Images_50_100/s27/25090_bgar4p_please_6.jpg   6.jpg       bgar4p   \n",
       "\n",
       "  speaker    word  \n",
       "0     s27       m  \n",
       "1     s27       s  \n",
       "2     s27   white  \n",
       "3     s27  please  \n",
       "4     s27  please  "
      ]
     },
     "execution_count": 109,
     "metadata": {},
     "output_type": "execute_result"
    }
   ],
   "source": [
    "data_df.head()"
   ]
  },
  {
   "cell_type": "code",
   "execution_count": 200,
   "metadata": {},
   "outputs": [],
   "source": [
    "data_df.to_csv(\"dataset.csv\")"
   ]
  },
  {
   "cell_type": "code",
   "execution_count": 166,
   "metadata": {},
   "outputs": [],
   "source": [
    "word_df = data_df.groupby(['speaker','sent_pattern','word'],as_index=False)\\\n",
    "['speaker','sent_pattern','word']"
   ]
  },
  {
   "cell_type": "code",
   "execution_count": 203,
   "metadata": {},
   "outputs": [],
   "source": [
    "random.seed(9001)\n",
    "new_df = word_df.apply(lambda x: random.randint(0,4))"
   ]
  },
  {
   "cell_type": "code",
   "execution_count": 201,
   "metadata": {},
   "outputs": [],
   "source": [
    "new_df.to_csv(\"dataset_fold.csv\",header='speaker,sent_pattern,kfold')"
   ]
  },
  {
   "cell_type": "code",
   "execution_count": 225,
   "metadata": {},
   "outputs": [],
   "source": [
    "new_df.head()"
   ]
  },
  {
   "cell_type": "markdown",
   "metadata": {},
   "source": [
    "Read Dataset Pathfiles from CSV"
   ]
  },
  {
   "cell_type": "code",
   "execution_count": 4,
   "metadata": {},
   "outputs": [],
   "source": [
    "new_df = pd.read_csv(\"dataset_fold.csv\",names=['speaker','sent_pattern','word','kfold'],header=0)"
   ]
  },
  {
   "cell_type": "code",
   "execution_count": 8,
   "metadata": {},
   "outputs": [
    {
     "data": {
      "text/html": [
       "<div>\n",
       "<style scoped>\n",
       "    .dataframe tbody tr th:only-of-type {\n",
       "        vertical-align: middle;\n",
       "    }\n",
       "\n",
       "    .dataframe tbody tr th {\n",
       "        vertical-align: top;\n",
       "    }\n",
       "\n",
       "    .dataframe thead th {\n",
       "        text-align: right;\n",
       "    }\n",
       "</style>\n",
       "<table border=\"1\" class=\"dataframe\">\n",
       "  <thead>\n",
       "    <tr style=\"text-align: right;\">\n",
       "      <th></th>\n",
       "      <th>speaker</th>\n",
       "      <th>sent_pattern</th>\n",
       "      <th>word</th>\n",
       "      <th>kfold</th>\n",
       "    </tr>\n",
       "  </thead>\n",
       "  <tbody>\n",
       "    <tr>\n",
       "      <th>0</th>\n",
       "      <td>s10</td>\n",
       "      <td>bbab8n</td>\n",
       "      <td>at</td>\n",
       "      <td>2</td>\n",
       "    </tr>\n",
       "    <tr>\n",
       "      <th>1</th>\n",
       "      <td>s10</td>\n",
       "      <td>bbab8n</td>\n",
       "      <td>b</td>\n",
       "      <td>2</td>\n",
       "    </tr>\n",
       "  </tbody>\n",
       "</table>\n",
       "</div>"
      ],
      "text/plain": [
       "  speaker sent_pattern word  kfold\n",
       "0     s10       bbab8n   at      2\n",
       "1     s10       bbab8n    b      2"
      ]
     },
     "execution_count": 8,
     "metadata": {},
     "output_type": "execute_result"
    }
   ],
   "source": [
    "new_df.head(2)"
   ]
  },
  {
   "cell_type": "code",
   "execution_count": 10,
   "metadata": {},
   "outputs": [],
   "source": [
    "data_df = pd.read_csv(\"dataset.csv\",names=['img_fname','index','path','postfix',\\\n",
    "                                          'sent_pattern','speaker','word'],header=0)"
   ]
  },
  {
   "cell_type": "code",
   "execution_count": 11,
   "metadata": {},
   "outputs": [
    {
     "data": {
      "text/html": [
       "<div>\n",
       "<style scoped>\n",
       "    .dataframe tbody tr th:only-of-type {\n",
       "        vertical-align: middle;\n",
       "    }\n",
       "\n",
       "    .dataframe tbody tr th {\n",
       "        vertical-align: top;\n",
       "    }\n",
       "\n",
       "    .dataframe thead th {\n",
       "        text-align: right;\n",
       "    }\n",
       "</style>\n",
       "<table border=\"1\" class=\"dataframe\">\n",
       "  <thead>\n",
       "    <tr style=\"text-align: right;\">\n",
       "      <th></th>\n",
       "      <th>img_fname</th>\n",
       "      <th>index</th>\n",
       "      <th>path</th>\n",
       "      <th>postfix</th>\n",
       "      <th>sent_pattern</th>\n",
       "      <th>speaker</th>\n",
       "      <th>word</th>\n",
       "    </tr>\n",
       "  </thead>\n",
       "  <tbody>\n",
       "    <tr>\n",
       "      <th>0</th>\n",
       "      <td>31040_swbm4p_m_4.jpg</td>\n",
       "      <td>31040</td>\n",
       "      <td>Mouth_Images_50_100/s27/31040_swbm4p_m_4.jpg</td>\n",
       "      <td>4.jpg</td>\n",
       "      <td>swbm4p</td>\n",
       "      <td>s27</td>\n",
       "      <td>m</td>\n",
       "    </tr>\n",
       "    <tr>\n",
       "      <th>1</th>\n",
       "      <td>25535_pbis4p_s_4.jpg</td>\n",
       "      <td>25535</td>\n",
       "      <td>Mouth_Images_50_100/s27/25535_pbis4p_s_4.jpg</td>\n",
       "      <td>4.jpg</td>\n",
       "      <td>pbis4p</td>\n",
       "      <td>s27</td>\n",
       "      <td>s</td>\n",
       "    </tr>\n",
       "  </tbody>\n",
       "</table>\n",
       "</div>"
      ],
      "text/plain": [
       "              img_fname  index                                          path  \\\n",
       "0  31040_swbm4p_m_4.jpg  31040  Mouth_Images_50_100/s27/31040_swbm4p_m_4.jpg   \n",
       "1  25535_pbis4p_s_4.jpg  25535  Mouth_Images_50_100/s27/25535_pbis4p_s_4.jpg   \n",
       "\n",
       "  postfix sent_pattern speaker word  \n",
       "0   4.jpg       swbm4p     s27    m  \n",
       "1   4.jpg       pbis4p     s27    s  "
      ]
     },
     "execution_count": 11,
     "metadata": {},
     "output_type": "execute_result"
    }
   ],
   "source": [
    "data_df.head(2)"
   ]
  },
  {
   "cell_type": "markdown",
   "metadata": {},
   "source": [
    "### Concatenate Images into Grid"
   ]
  },
  {
   "cell_type": "code",
   "execution_count": 109,
   "metadata": {},
   "outputs": [],
   "source": [
    "new_df['merged_idx']= new_df.apply(lambda x:\\\n",
    "                                x[\"speaker\"] + \"_\" + x['sent_pattern'] + \"_\" + x[\"word\"],axis=1)"
   ]
  },
  {
   "cell_type": "code",
   "execution_count": 203,
   "metadata": {},
   "outputs": [],
   "source": [
    "new_df.index.name = 'idx'\n",
    "new_df.to_csv(\"dataset_fold_indexed.csv\",header='speaker,sent_pattern,kfold,merged_idx')"
   ]
  },
  {
   "cell_type": "code",
   "execution_count": 42,
   "metadata": {},
   "outputs": [
    {
     "data": {
      "text/html": [
       "<div>\n",
       "<style scoped>\n",
       "    .dataframe tbody tr th:only-of-type {\n",
       "        vertical-align: middle;\n",
       "    }\n",
       "\n",
       "    .dataframe tbody tr th {\n",
       "        vertical-align: top;\n",
       "    }\n",
       "\n",
       "    .dataframe thead th {\n",
       "        text-align: right;\n",
       "    }\n",
       "</style>\n",
       "<table border=\"1\" class=\"dataframe\">\n",
       "  <thead>\n",
       "    <tr style=\"text-align: right;\">\n",
       "      <th></th>\n",
       "      <th>speaker</th>\n",
       "      <th>sent_pattern</th>\n",
       "      <th>word</th>\n",
       "      <th>kfold</th>\n",
       "    </tr>\n",
       "  </thead>\n",
       "  <tbody>\n",
       "    <tr>\n",
       "      <th>84000</th>\n",
       "      <td>s27</td>\n",
       "      <td>bbac6n</td>\n",
       "      <td>at</td>\n",
       "      <td>0</td>\n",
       "    </tr>\n",
       "    <tr>\n",
       "      <th>84001</th>\n",
       "      <td>s27</td>\n",
       "      <td>bbac6n</td>\n",
       "      <td>bin</td>\n",
       "      <td>0</td>\n",
       "    </tr>\n",
       "    <tr>\n",
       "      <th>84002</th>\n",
       "      <td>s27</td>\n",
       "      <td>bbac6n</td>\n",
       "      <td>blue</td>\n",
       "      <td>0</td>\n",
       "    </tr>\n",
       "    <tr>\n",
       "      <th>84003</th>\n",
       "      <td>s27</td>\n",
       "      <td>bbac6n</td>\n",
       "      <td>c</td>\n",
       "      <td>1</td>\n",
       "    </tr>\n",
       "    <tr>\n",
       "      <th>84004</th>\n",
       "      <td>s27</td>\n",
       "      <td>bbac6n</td>\n",
       "      <td>now</td>\n",
       "      <td>2</td>\n",
       "    </tr>\n",
       "  </tbody>\n",
       "</table>\n",
       "</div>"
      ],
      "text/plain": [
       "      speaker sent_pattern  word  kfold\n",
       "84000     s27       bbac6n    at      0\n",
       "84001     s27       bbac6n   bin      0\n",
       "84002     s27       bbac6n  blue      0\n",
       "84003     s27       bbac6n     c      1\n",
       "84004     s27       bbac6n   now      2"
      ]
     },
     "execution_count": 42,
     "metadata": {},
     "output_type": "execute_result"
    }
   ],
   "source": [
    "temp_df = new_df[new_df['speaker']=='s27']\n",
    "temp_df.head(5)"
   ]
  },
  {
   "cell_type": "code",
   "execution_count": 68,
   "metadata": {},
   "outputs": [
    {
     "name": "stderr",
     "output_type": "stream",
     "text": [
      "/usr/local/lib/python3.5/dist-packages/ipykernel_launcher.py:2: SettingWithCopyWarning: \n",
      "A value is trying to be set on a copy of a slice from a DataFrame.\n",
      "Try using .loc[row_indexer,col_indexer] = value instead\n",
      "\n",
      "See the caveats in the documentation: http://pandas.pydata.org/pandas-docs/stable/indexing.html#indexing-view-versus-copy\n",
      "  \n"
     ]
    }
   ],
   "source": [
    "temp_df['merged_idx']= temp_df.apply(lambda x:\\\n",
    "                                x[\"speaker\"] + \"_\" + x['sent_pattern'] + \"_\" + x[\"word\"],axis=1)"
   ]
  },
  {
   "cell_type": "code",
   "execution_count": 202,
   "metadata": {},
   "outputs": [],
   "source": [
    "data_df.index.name = 'idx'\n",
    "data_df.to_csv(\"dataset_indexed.csv\")"
   ]
  },
  {
   "cell_type": "code",
   "execution_count": 69,
   "metadata": {},
   "outputs": [
    {
     "data": {
      "text/html": [
       "<div>\n",
       "<style scoped>\n",
       "    .dataframe tbody tr th:only-of-type {\n",
       "        vertical-align: middle;\n",
       "    }\n",
       "\n",
       "    .dataframe tbody tr th {\n",
       "        vertical-align: top;\n",
       "    }\n",
       "\n",
       "    .dataframe thead th {\n",
       "        text-align: right;\n",
       "    }\n",
       "</style>\n",
       "<table border=\"1\" class=\"dataframe\">\n",
       "  <thead>\n",
       "    <tr style=\"text-align: right;\">\n",
       "      <th></th>\n",
       "      <th>speaker</th>\n",
       "      <th>sent_pattern</th>\n",
       "      <th>word</th>\n",
       "      <th>kfold</th>\n",
       "      <th>merged_idx</th>\n",
       "    </tr>\n",
       "  </thead>\n",
       "  <tbody>\n",
       "    <tr>\n",
       "      <th>84000</th>\n",
       "      <td>s27</td>\n",
       "      <td>bbac6n</td>\n",
       "      <td>at</td>\n",
       "      <td>0</td>\n",
       "      <td>s27_bbac6n_at</td>\n",
       "    </tr>\n",
       "    <tr>\n",
       "      <th>84001</th>\n",
       "      <td>s27</td>\n",
       "      <td>bbac6n</td>\n",
       "      <td>bin</td>\n",
       "      <td>0</td>\n",
       "      <td>s27_bbac6n_bin</td>\n",
       "    </tr>\n",
       "    <tr>\n",
       "      <th>84002</th>\n",
       "      <td>s27</td>\n",
       "      <td>bbac6n</td>\n",
       "      <td>blue</td>\n",
       "      <td>0</td>\n",
       "      <td>s27_bbac6n_blue</td>\n",
       "    </tr>\n",
       "    <tr>\n",
       "      <th>84003</th>\n",
       "      <td>s27</td>\n",
       "      <td>bbac6n</td>\n",
       "      <td>c</td>\n",
       "      <td>1</td>\n",
       "      <td>s27_bbac6n_c</td>\n",
       "    </tr>\n",
       "    <tr>\n",
       "      <th>84004</th>\n",
       "      <td>s27</td>\n",
       "      <td>bbac6n</td>\n",
       "      <td>now</td>\n",
       "      <td>2</td>\n",
       "      <td>s27_bbac6n_now</td>\n",
       "    </tr>\n",
       "  </tbody>\n",
       "</table>\n",
       "</div>"
      ],
      "text/plain": [
       "      speaker sent_pattern  word  kfold       merged_idx\n",
       "84000     s27       bbac6n    at      0    s27_bbac6n_at\n",
       "84001     s27       bbac6n   bin      0   s27_bbac6n_bin\n",
       "84002     s27       bbac6n  blue      0  s27_bbac6n_blue\n",
       "84003     s27       bbac6n     c      1     s27_bbac6n_c\n",
       "84004     s27       bbac6n   now      2   s27_bbac6n_now"
      ]
     },
     "execution_count": 69,
     "metadata": {},
     "output_type": "execute_result"
    }
   ],
   "source": [
    "temp_df.head()"
   ]
  },
  {
   "cell_type": "code",
   "execution_count": 70,
   "metadata": {},
   "outputs": [
    {
     "data": {
      "text/html": [
       "<div>\n",
       "<style scoped>\n",
       "    .dataframe tbody tr th:only-of-type {\n",
       "        vertical-align: middle;\n",
       "    }\n",
       "\n",
       "    .dataframe tbody tr th {\n",
       "        vertical-align: top;\n",
       "    }\n",
       "\n",
       "    .dataframe thead th {\n",
       "        text-align: right;\n",
       "    }\n",
       "</style>\n",
       "<table border=\"1\" class=\"dataframe\">\n",
       "  <thead>\n",
       "    <tr style=\"text-align: right;\">\n",
       "      <th></th>\n",
       "      <th>img_fname</th>\n",
       "      <th>index</th>\n",
       "      <th>path</th>\n",
       "      <th>postfix</th>\n",
       "      <th>sent_pattern</th>\n",
       "      <th>speaker</th>\n",
       "      <th>word</th>\n",
       "    </tr>\n",
       "  </thead>\n",
       "  <tbody>\n",
       "    <tr>\n",
       "      <th>0</th>\n",
       "      <td>31040_swbm4p_m_4.jpg</td>\n",
       "      <td>31040</td>\n",
       "      <td>Mouth_Images_50_100/s27/31040_swbm4p_m_4.jpg</td>\n",
       "      <td>4.jpg</td>\n",
       "      <td>swbm4p</td>\n",
       "      <td>s27</td>\n",
       "      <td>m</td>\n",
       "    </tr>\n",
       "    <tr>\n",
       "      <th>1</th>\n",
       "      <td>25535_pbis4p_s_4.jpg</td>\n",
       "      <td>25535</td>\n",
       "      <td>Mouth_Images_50_100/s27/25535_pbis4p_s_4.jpg</td>\n",
       "      <td>4.jpg</td>\n",
       "      <td>pbis4p</td>\n",
       "      <td>s27</td>\n",
       "      <td>s</td>\n",
       "    </tr>\n",
       "  </tbody>\n",
       "</table>\n",
       "</div>"
      ],
      "text/plain": [
       "              img_fname  index                                          path  \\\n",
       "0  31040_swbm4p_m_4.jpg  31040  Mouth_Images_50_100/s27/31040_swbm4p_m_4.jpg   \n",
       "1  25535_pbis4p_s_4.jpg  25535  Mouth_Images_50_100/s27/25535_pbis4p_s_4.jpg   \n",
       "\n",
       "  postfix sent_pattern speaker word  \n",
       "0   4.jpg       swbm4p     s27    m  \n",
       "1   4.jpg       pbis4p     s27    s  "
      ]
     },
     "execution_count": 70,
     "metadata": {},
     "output_type": "execute_result"
    }
   ],
   "source": [
    "temp_data_df = data_df.head(10)\n",
    "temp_data_df.head(2)"
   ]
  },
  {
   "cell_type": "code",
   "execution_count": 72,
   "metadata": {},
   "outputs": [
    {
     "name": "stderr",
     "output_type": "stream",
     "text": [
      "/usr/local/lib/python3.5/dist-packages/ipykernel_launcher.py:2: SettingWithCopyWarning: \n",
      "A value is trying to be set on a copy of a slice from a DataFrame.\n",
      "Try using .loc[row_indexer,col_indexer] = value instead\n",
      "\n",
      "See the caveats in the documentation: http://pandas.pydata.org/pandas-docs/stable/indexing.html#indexing-view-versus-copy\n",
      "  \n"
     ]
    }
   ],
   "source": [
    "temp_data_df['merged_idx']= temp_data_df.apply(lambda x:\\\n",
    "                                x[\"speaker\"] + \"_\" + x['sent_pattern'] + \"_\" + x[\"word\"],axis=1)"
   ]
  },
  {
   "cell_type": "code",
   "execution_count": 73,
   "metadata": {},
   "outputs": [
    {
     "data": {
      "text/html": [
       "<div>\n",
       "<style scoped>\n",
       "    .dataframe tbody tr th:only-of-type {\n",
       "        vertical-align: middle;\n",
       "    }\n",
       "\n",
       "    .dataframe tbody tr th {\n",
       "        vertical-align: top;\n",
       "    }\n",
       "\n",
       "    .dataframe thead th {\n",
       "        text-align: right;\n",
       "    }\n",
       "</style>\n",
       "<table border=\"1\" class=\"dataframe\">\n",
       "  <thead>\n",
       "    <tr style=\"text-align: right;\">\n",
       "      <th></th>\n",
       "      <th>img_fname</th>\n",
       "      <th>index</th>\n",
       "      <th>path</th>\n",
       "      <th>postfix</th>\n",
       "      <th>sent_pattern</th>\n",
       "      <th>speaker</th>\n",
       "      <th>word</th>\n",
       "      <th>merged_idx</th>\n",
       "    </tr>\n",
       "  </thead>\n",
       "  <tbody>\n",
       "    <tr>\n",
       "      <th>0</th>\n",
       "      <td>31040_swbm4p_m_4.jpg</td>\n",
       "      <td>31040</td>\n",
       "      <td>Mouth_Images_50_100/s27/31040_swbm4p_m_4.jpg</td>\n",
       "      <td>4.jpg</td>\n",
       "      <td>swbm4p</td>\n",
       "      <td>s27</td>\n",
       "      <td>m</td>\n",
       "      <td>s27_swbm4p_m</td>\n",
       "    </tr>\n",
       "    <tr>\n",
       "      <th>1</th>\n",
       "      <td>25535_pbis4p_s_4.jpg</td>\n",
       "      <td>25535</td>\n",
       "      <td>Mouth_Images_50_100/s27/25535_pbis4p_s_4.jpg</td>\n",
       "      <td>4.jpg</td>\n",
       "      <td>pbis4p</td>\n",
       "      <td>s27</td>\n",
       "      <td>s</td>\n",
       "      <td>s27_pbis4p_s</td>\n",
       "    </tr>\n",
       "    <tr>\n",
       "      <th>2</th>\n",
       "      <td>29676_pwbh7a_white_2.jpg</td>\n",
       "      <td>29676</td>\n",
       "      <td>Mouth_Images_50_100/s27/29676_pwbh7a_white_2.jpg</td>\n",
       "      <td>2.jpg</td>\n",
       "      <td>pwbh7a</td>\n",
       "      <td>s27</td>\n",
       "      <td>white</td>\n",
       "      <td>s27_pwbh7a_white</td>\n",
       "    </tr>\n",
       "    <tr>\n",
       "      <th>3</th>\n",
       "      <td>36454_lbwczp_please_6.jpg</td>\n",
       "      <td>36454</td>\n",
       "      <td>Mouth_Images_50_100/s27/36454_lbwczp_please_6.jpg</td>\n",
       "      <td>6.jpg</td>\n",
       "      <td>lbwczp</td>\n",
       "      <td>s27</td>\n",
       "      <td>please</td>\n",
       "      <td>s27_lbwczp_please</td>\n",
       "    </tr>\n",
       "    <tr>\n",
       "      <th>4</th>\n",
       "      <td>25090_bgar4p_please_6.jpg</td>\n",
       "      <td>25090</td>\n",
       "      <td>Mouth_Images_50_100/s27/25090_bgar4p_please_6.jpg</td>\n",
       "      <td>6.jpg</td>\n",
       "      <td>bgar4p</td>\n",
       "      <td>s27</td>\n",
       "      <td>please</td>\n",
       "      <td>s27_bgar4p_please</td>\n",
       "    </tr>\n",
       "  </tbody>\n",
       "</table>\n",
       "</div>"
      ],
      "text/plain": [
       "                   img_fname  index  \\\n",
       "0       31040_swbm4p_m_4.jpg  31040   \n",
       "1       25535_pbis4p_s_4.jpg  25535   \n",
       "2   29676_pwbh7a_white_2.jpg  29676   \n",
       "3  36454_lbwczp_please_6.jpg  36454   \n",
       "4  25090_bgar4p_please_6.jpg  25090   \n",
       "\n",
       "                                                path postfix sent_pattern  \\\n",
       "0       Mouth_Images_50_100/s27/31040_swbm4p_m_4.jpg   4.jpg       swbm4p   \n",
       "1       Mouth_Images_50_100/s27/25535_pbis4p_s_4.jpg   4.jpg       pbis4p   \n",
       "2   Mouth_Images_50_100/s27/29676_pwbh7a_white_2.jpg   2.jpg       pwbh7a   \n",
       "3  Mouth_Images_50_100/s27/36454_lbwczp_please_6.jpg   6.jpg       lbwczp   \n",
       "4  Mouth_Images_50_100/s27/25090_bgar4p_please_6.jpg   6.jpg       bgar4p   \n",
       "\n",
       "  speaker    word         merged_idx  \n",
       "0     s27       m       s27_swbm4p_m  \n",
       "1     s27       s       s27_pbis4p_s  \n",
       "2     s27   white   s27_pwbh7a_white  \n",
       "3     s27  please  s27_lbwczp_please  \n",
       "4     s27  please  s27_bgar4p_please  "
      ]
     },
     "execution_count": 73,
     "metadata": {},
     "output_type": "execute_result"
    }
   ],
   "source": [
    "temp_data_df.head()"
   ]
  },
  {
   "cell_type": "code",
   "execution_count": 97,
   "metadata": {},
   "outputs": [],
   "source": [
    "data_df['merged_idx']= data_df.apply(lambda x:\\\n",
    "                                x[\"speaker\"] + \"_\" + x['sent_pattern'] + \"_\" + x[\"word\"],axis=1)\n"
   ]
  },
  {
   "cell_type": "code",
   "execution_count": 100,
   "metadata": {},
   "outputs": [],
   "source": [
    "temp_idx = temp_df.iloc[0]['merged_idx']\n",
    "# temp_data_df[temp_data_df.merged_idx==temp_idx]\n",
    "# print(temp_df[temp_df.merged_idx=='s27_pwbh7a_white'])\n",
    "# print(temp_idx)\n",
    "temp_images = data_df[data_df.merged_idx==temp_idx]\n",
    "for img in temp_images['path']:\n",
    "    print(img)\n"
   ]
  },
  {
   "cell_type": "code",
   "execution_count": 105,
   "metadata": {},
   "outputs": [
    {
     "data": {
      "text/html": [
       "<div>\n",
       "<style scoped>\n",
       "    .dataframe tbody tr th:only-of-type {\n",
       "        vertical-align: middle;\n",
       "    }\n",
       "\n",
       "    .dataframe tbody tr th {\n",
       "        vertical-align: top;\n",
       "    }\n",
       "\n",
       "    .dataframe thead th {\n",
       "        text-align: right;\n",
       "    }\n",
       "</style>\n",
       "<table border=\"1\" class=\"dataframe\">\n",
       "  <thead>\n",
       "    <tr style=\"text-align: right;\">\n",
       "      <th></th>\n",
       "      <th>img_fname</th>\n",
       "      <th>index</th>\n",
       "      <th>path</th>\n",
       "      <th>postfix</th>\n",
       "      <th>sent_pattern</th>\n",
       "      <th>speaker</th>\n",
       "      <th>word</th>\n",
       "      <th>merged_idx</th>\n",
       "    </tr>\n",
       "  </thead>\n",
       "  <tbody>\n",
       "    <tr>\n",
       "      <th>31669</th>\n",
       "      <td>21464_bbac6n_at_3.jpg</td>\n",
       "      <td>21464</td>\n",
       "      <td>Mouth_Images_50_100/s27/21464_bbac6n_at_3.jpg</td>\n",
       "      <td>3.jpg</td>\n",
       "      <td>bbac6n</td>\n",
       "      <td>s27</td>\n",
       "      <td>at</td>\n",
       "      <td>s27_bbac6n_at</td>\n",
       "    </tr>\n",
       "    <tr>\n",
       "      <th>36757</th>\n",
       "      <td>21463_bbac6n_at_3.jpg</td>\n",
       "      <td>21463</td>\n",
       "      <td>Mouth_Images_50_100/s27/21463_bbac6n_at_3.jpg</td>\n",
       "      <td>3.jpg</td>\n",
       "      <td>bbac6n</td>\n",
       "      <td>s27</td>\n",
       "      <td>at</td>\n",
       "      <td>s27_bbac6n_at</td>\n",
       "    </tr>\n",
       "  </tbody>\n",
       "</table>\n",
       "</div>"
      ],
      "text/plain": [
       "                   img_fname  index  \\\n",
       "31669  21464_bbac6n_at_3.jpg  21464   \n",
       "36757  21463_bbac6n_at_3.jpg  21463   \n",
       "\n",
       "                                                path postfix sent_pattern  \\\n",
       "31669  Mouth_Images_50_100/s27/21464_bbac6n_at_3.jpg   3.jpg       bbac6n   \n",
       "36757  Mouth_Images_50_100/s27/21463_bbac6n_at_3.jpg   3.jpg       bbac6n   \n",
       "\n",
       "      speaker word     merged_idx  \n",
       "31669     s27   at  s27_bbac6n_at  \n",
       "36757     s27   at  s27_bbac6n_at  "
      ]
     },
     "execution_count": 105,
     "metadata": {},
     "output_type": "execute_result"
    }
   ],
   "source": [
    "temp_images"
   ]
  },
  {
   "cell_type": "code",
   "execution_count": 176,
   "metadata": {},
   "outputs": [
    {
     "name": "stdout",
     "output_type": "stream",
     "text": [
      "Mouth_Images_50_100/s10/20520_bbab9s_soon_6.jpg\n",
      "Mouth_Images_50_100/s10/20517_bbab9s_soon_6.jpg\n",
      "Mouth_Images_50_100/s10/20524_bbab9s_soon_6.jpg\n",
      "Mouth_Images_50_100/s10/20523_bbab9s_soon_6.jpg\n",
      "Mouth_Images_50_100/s10/20522_bbab9s_soon_6.jpg\n",
      "Mouth_Images_50_100/s10/20521_bbab9s_soon_6.jpg\n",
      "Mouth_Images_50_100/s10/20518_bbab9s_soon_6.jpg\n",
      "Mouth_Images_50_100/s10/20519_bbab9s_soon_6.jpg\n"
     ]
    }
   ],
   "source": [
    "i = 0\n",
    "temp_root = new_df.iloc[11]['merged_idx']\n",
    "\n",
    "for imgpath in data_df[data_df.merged_idx==temp_root]['path']:\n",
    "    print(imgpath)"
   ]
  },
  {
   "cell_type": "code",
   "execution_count": 177,
   "metadata": {},
   "outputs": [],
   "source": [
    "temp_paths = data_df[data_df.merged_idx==temp_root]['path']\n"
   ]
  },
  {
   "cell_type": "code",
   "execution_count": 178,
   "metadata": {},
   "outputs": [
    {
     "data": {
      "text/plain": [
       "'Mouth_Images_50_100/s10/20520_bbab9s_soon_6.jpg'"
      ]
     },
     "execution_count": 178,
     "metadata": {},
     "output_type": "execute_result"
    }
   ],
   "source": [
    "temp_paths.iloc[0]"
   ]
  },
  {
   "cell_type": "code",
   "execution_count": 179,
   "metadata": {},
   "outputs": [
    {
     "data": {
      "text/plain": [
       "'Mouth_Images_50_100/s10/20519_bbab9s_soon_6.jpg'"
      ]
     },
     "execution_count": 179,
     "metadata": {},
     "output_type": "execute_result"
    }
   ],
   "source": [
    "imgpath"
   ]
  },
  {
   "cell_type": "code",
   "execution_count": 138,
   "metadata": {},
   "outputs": [
    {
     "data": {
      "text/plain": [
       "<matplotlib.image.AxesImage at 0x7f7609af90b8>"
      ]
     },
     "execution_count": 138,
     "metadata": {},
     "output_type": "execute_result"
    },
    {
     "data": {
      "image/png": "[encoded data removed]",
      "text/plain": [
       "<Figure size 432x288 with 1 Axes>"
      ]
     },
     "metadata": {
      "needs_background": "light"
     },
     "output_type": "display_data"
    }
   ],
   "source": [
    "\n",
    "im1 = cv2.imread(imgpath)\n",
    "def concat_tile(im_list_2d):\n",
    "    return cv2.vconcat([cv2.hconcat(im_list_h) for im_list_h in im_list_2d])\n",
    "\n",
    "im1_s = cv2.resize(im1, dsize=(0, 0), fx=1, fy=1)\n",
    "im_tile = concat_tile([[im1_s, im1_s, im1_s, im1_s],\n",
    "                       [im1_s, im1_s, im1_s, im1_s],\n",
    "                       [im1_s, im1_s, im1_s, im1_s]])\n",
    "# cv2.imwrite('data/dst/opencv_concat_tile.jpg', im_tile)\n",
    "plt.imshow(im_tile)\n"
   ]
  },
  {
   "cell_type": "code",
   "execution_count": 139,
   "metadata": {},
   "outputs": [],
   "source": [
    "temp_ims = [[im1_s, im1_s, im1_s, im1_s],\n",
    "                       [im1_s, im1_s, im1_s, im1_s],\n",
    "                       [im1_s, im1_s, im1_s, im1_s]]"
   ]
  },
  {
   "cell_type": "code",
   "execution_count": 147,
   "metadata": {},
   "outputs": [
    {
     "data": {
      "text/plain": [
       "4"
      ]
     },
     "execution_count": 147,
     "metadata": {},
     "output_type": "execute_result"
    }
   ],
   "source": [
    "len(temp_ims[0])"
   ]
  },
  {
   "cell_type": "code",
   "execution_count": 187,
   "metadata": {},
   "outputs": [],
   "source": [
    "temp_paths = data_df[data_df.merged_idx==temp_root]['path'].sort_values(\"index\",ascending=True)\n",
    "n_path = len(temp_paths)"
   ]
  },
  {
   "cell_type": "code",
   "execution_count": 189,
   "metadata": {},
   "outputs": [
    {
     "data": {
      "text/plain": [
       "idx\n",
       "10052    Mouth_Images_50_100/s10/20517_bbab9s_soon_6.jpg\n",
       "31609    Mouth_Images_50_100/s10/20518_bbab9s_soon_6.jpg\n",
       "32603    Mouth_Images_50_100/s10/20519_bbab9s_soon_6.jpg\n",
       "3356     Mouth_Images_50_100/s10/20520_bbab9s_soon_6.jpg\n",
       "31238    Mouth_Images_50_100/s10/20521_bbab9s_soon_6.jpg\n",
       "23679    Mouth_Images_50_100/s10/20522_bbab9s_soon_6.jpg\n",
       "21165    Mouth_Images_50_100/s10/20523_bbab9s_soon_6.jpg\n",
       "11068    Mouth_Images_50_100/s10/20524_bbab9s_soon_6.jpg\n",
       "Name: path, dtype: object"
      ]
     },
     "execution_count": 189,
     "metadata": {},
     "output_type": "execute_result"
    }
   ],
   "source": [
    "temp_paths.sort_values(\"index\",ascending=True)"
   ]
  },
  {
   "cell_type": "markdown",
   "metadata": {},
   "source": [
    "## Make Tile - Duplicate last frame til end"
   ]
  },
  {
   "cell_type": "code",
   "execution_count": 196,
   "metadata": {},
   "outputs": [
    {
     "name": "stdout",
     "output_type": "stream",
     "text": [
      "Mouth_Images_50_100/s10/20517_bbab9s_soon_6.jpg\n",
      "Mouth_Images_50_100/s10/20518_bbab9s_soon_6.jpg\n",
      "Mouth_Images_50_100/s10/20519_bbab9s_soon_6.jpg\n",
      "Mouth_Images_50_100/s10/20520_bbab9s_soon_6.jpg\n",
      "Mouth_Images_50_100/s10/20521_bbab9s_soon_6.jpg\n",
      "Mouth_Images_50_100/s10/20522_bbab9s_soon_6.jpg\n",
      "Mouth_Images_50_100/s10/20523_bbab9s_soon_6.jpg\n",
      "Mouth_Images_50_100/s10/20524_bbab9s_soon_6.jpg\n"
     ]
    },
    {
     "data": {
      "text/plain": [
       "<matplotlib.image.AxesImage at 0x7f76093f2400>"
      ]
     },
     "execution_count": 196,
     "metadata": {},
     "output_type": "execute_result"
    },
    {
     "data": {
      "image/png": "[encoded data removed]",
      "text/plain": [
       "<Figure size 432x288 with 1 Axes>"
      ]
     },
     "metadata": {
      "needs_background": "light"
     },
     "output_type": "display_data"
    }
   ],
   "source": [
    "temp_paths = data_df[data_df.merged_idx==temp_root]['path'].sort_values(\"index\",ascending=True)\n",
    "n_path = len(temp_paths)\n",
    "\n",
    "i_frame = 0 \n",
    "temp_mat = []\n",
    "for ii in range(5):\n",
    "    temp_arr = []\n",
    "    for i in range(5):\n",
    "        if i_frame<n_path:\n",
    "            print(temp_paths.iloc[i_frame])\n",
    "            im1=cv2.imread(temp_paths.iloc[i_frame])\n",
    "            i_frame+=1\n",
    "        temp_arr.append(im1)\n",
    "    temp_mat.append(temp_arr)\n",
    "im_tile = concat_tile(temp_mat)\n",
    "plt.imshow(im_tile)   "
   ]
  },
  {
   "cell_type": "markdown",
   "metadata": {},
   "source": [
    "## Make Tile - Zero silence frames"
   ]
  },
  {
   "cell_type": "code",
   "execution_count": 199,
   "metadata": {},
   "outputs": [],
   "source": [
    "temp_paths = data_df[data_df.merged_idx==temp_root]['path'].sort_values(\"index\",ascending=True)\n",
    "n_path = len(temp_paths)\n",
    "\n",
    "i_frame = 0 \n",
    "temp_mat = []\n",
    "for ii in range(5):\n",
    "    temp_arr = []\n",
    "    for i in range(5):\n",
    "        if i_frame<n_path:\n",
    "            print(temp_paths.iloc[i_frame])\n",
    "            im1=cv2.imread(temp_paths.iloc[i_frame])\n",
    "            i_frame+=1\n",
    "        elif i_frame==n_path:\n",
    "            im1 = np.zeros_like(im1) \n",
    "            i_frame+=1\n",
    "        temp_arr.append(im1)\n",
    "    temp_mat.append(temp_arr)\n",
    "im_tile = concat_tile(temp_mat)\n",
    "plt.imshow(im_tile)   "
   ]
  },
  {
   "cell_type": "code",
   "execution_count": 213,
   "metadata": {},
   "outputs": [],
   "source": [
    "dataset_dir = Path(\"Dataset\")\n",
    "os.mkdir(\"Dataset\")"
   ]
  },
  {
   "cell_type": "code",
   "execution_count": 217,
   "metadata": {},
   "outputs": [
    {
     "data": {
      "text/plain": [
       "array(['m', 's', 'white', 'please', 'bin', 'three', 'now', 'six', 'lay',\n",
       "       'place', 'one', 'red', 'l', 'by', 'blue', 'soon', 'again', 'four',\n",
       "       'green', 'nine', 'in', 'set', 'five', 'k', 'v', 'e', 'o', 'x', 'j',\n",
       "       'zero', 'z', 'g', 'b', 'eight', 'with', 'c', 't', 'two', 'at', 'p',\n",
       "       'n', 'y', 'seven', 'u', 'h', 'i', 'q', 'a', 'f', 'r', 'd'],\n",
       "      dtype=object)"
      ]
     },
     "execution_count": 217,
     "metadata": {},
     "output_type": "execute_result"
    }
   ],
   "source": [
    "data_df['word'].unique()"
   ]
  },
  {
   "cell_type": "code",
   "execution_count": 218,
   "metadata": {},
   "outputs": [
    {
     "name": "stdout",
     "output_type": "stream",
     "text": [
      "m\n",
      "s\n",
      "white\n",
      "please\n",
      "bin\n",
      "three\n",
      "now\n",
      "six\n",
      "lay\n",
      "place\n",
      "one\n",
      "red\n",
      "l\n",
      "by\n",
      "blue\n",
      "soon\n",
      "again\n",
      "four\n",
      "green\n",
      "nine\n",
      "in\n",
      "set\n",
      "five\n",
      "k\n",
      "v\n",
      "e\n",
      "o\n",
      "x\n",
      "j\n",
      "zero\n",
      "z\n",
      "g\n",
      "b\n",
      "eight\n",
      "with\n",
      "c\n",
      "t\n",
      "two\n",
      "at\n",
      "p\n",
      "n\n",
      "y\n",
      "seven\n",
      "u\n",
      "h\n",
      "i\n",
      "q\n",
      "a\n",
      "f\n",
      "r\n",
      "d\n"
     ]
    }
   ],
   "source": [
    "for x in data_df['word'].unique():\n",
    "    print(x)\n",
    "    os.mkdir(str(dataset_dir/x))"
   ]
  },
  {
   "cell_type": "code",
   "execution_count": 232,
   "metadata": {},
   "outputs": [
    {
     "data": {
      "text/plain": [
       "'soon'"
      ]
     },
     "execution_count": 232,
     "metadata": {},
     "output_type": "execute_result"
    }
   ],
   "source": [
    "# temp_root + \".jpg\"\n",
    "temp_dataset['word'].iloc[0]"
   ]
  },
  {
   "cell_type": "code",
   "execution_count": 250,
   "metadata": {},
   "outputs": [],
   "source": [
    "new_df['out_path']= new_df.apply(lambda x:\\\n",
    "                                 str(dataset_dir/x[\"word\"]/x[\"merged_idx\"])+\".jpg\",axis=1)\n"
   ]
  },
  {
   "cell_type": "code",
   "execution_count": 252,
   "metadata": {},
   "outputs": [],
   "source": [
    "new_df.to_csv(\"dataset_preproc_out.csv\")"
   ]
  },
  {
   "cell_type": "code",
   "execution_count": null,
   "metadata": {},
   "outputs": [],
   "source": [
    "# xx = 0\n",
    "for temp_root in new_df['merged_idx'].unique():\n",
    "######################debug######################\n",
    "#     if xx>4: break\n",
    "#     print(temp_root)\n",
    "#     xx+=1\n",
    "#################################################\n",
    "\n",
    "\n",
    "    temp_paths = data_df[data_df.merged_idx==temp_root]['path']\\\n",
    "                    .sort_values(\"index\",ascending=True)\n",
    "######################debug############################################\n",
    "#     temp_row = data_df[data_df.merged_idx==temp_root]\n",
    "#######################################################################\n",
    "\n",
    "    temp_word = data_df[data_df.merged_idx==temp_root]['word'].unique()[0]\n",
    "    n_path = len(temp_paths)\n",
    "\n",
    "    i_frame = 0 \n",
    "    temp_mat = []\n",
    "    for ii in range(5):\n",
    "        temp_arr = []\n",
    "        for i in range(5):\n",
    "            if i_frame<n_path:\n",
    "#                 print(temp_paths.iloc[i_frame])\n",
    "                im1=cv2.imread(temp_paths.iloc[i_frame])\n",
    "                i_frame+=1\n",
    "            elif i_frame==n_path:\n",
    "                im1 = np.zeros_like(im1) \n",
    "                i_frame+=1\n",
    "            temp_arr.append(im1)\n",
    "        temp_mat.append(temp_arr)\n",
    "    im_tile = concat_tile(temp_mat)\n",
    "#     plt.show()\n",
    "#     plt.imshow(im_tile)   \n",
    "    img_out = str(dataset_dir/temp_word/temp_root)\n",
    "#     print(img_out)\n",
    "    cv2.imwrite(img_out+\".jpg\",im_tile)"
   ]
  },
  {
   "cell_type": "code",
   "execution_count": 255,
   "metadata": {},
   "outputs": [
    {
     "name": "stdout",
     "output_type": "stream",
     "text": [
      "m\n",
      "s\n",
      "white\n",
      "please\n",
      "bin\n",
      "three\n",
      "now\n",
      "six\n",
      "lay\n",
      "place\n",
      "one\n",
      "red\n",
      "l\n",
      "by\n",
      "blue\n",
      "soon\n",
      "again\n",
      "four\n",
      "green\n",
      "nine\n",
      "in\n",
      "set\n",
      "five\n",
      "k\n",
      "v\n",
      "e\n",
      "o\n",
      "x\n",
      "j\n",
      "zero\n",
      "z\n",
      "g\n",
      "b\n",
      "eight\n",
      "with\n",
      "c\n",
      "t\n",
      "two\n",
      "at\n",
      "p\n",
      "n\n",
      "y\n",
      "seven\n",
      "u\n",
      "h\n",
      "i\n",
      "q\n",
      "a\n",
      "f\n",
      "r\n",
      "d\n"
     ]
    }
   ],
   "source": [
    "dataset_dir = Path(\"Dataset_Fill\")\n",
    "os.mkdir(\"Dataset_Fill\")\n",
    "for x in data_df['word'].unique():\n",
    "    print(x)\n",
    "    os.mkdir(str(dataset_dir/x))"
   ]
  },
  {
   "cell_type": "code",
   "execution_count": null,
   "metadata": {},
   "outputs": [],
   "source": [
    "# xx = 0\n",
    "for temp_root in new_df['merged_idx'].unique():\n",
    "######################debug######################\n",
    "#     if xx>4: break\n",
    "#     print(temp_root)\n",
    "#     xx+=1\n",
    "#################################################\n",
    "\n",
    "\n",
    "    temp_paths = data_df[data_df.merged_idx==temp_root]['path']\\\n",
    "                    .sort_values(\"index\",ascending=True)\n",
    "######################debug############################################\n",
    "#     temp_row = data_df[data_df.merged_idx==temp_root]\n",
    "#######################################################################\n",
    "\n",
    "    temp_word = data_df[data_df.merged_idx==temp_root]['word'].unique()[0]\n",
    "    n_path = len(temp_paths)\n",
    "\n",
    "    i_frame = 0 \n",
    "    temp_mat = []\n",
    "    for ii in range(5):\n",
    "        temp_arr = []\n",
    "        for i in range(5):\n",
    "            if i_frame<n_path:\n",
    "#                 print(temp_paths.iloc[i_frame])\n",
    "                im1=cv2.imread(temp_paths.iloc[i_frame])\n",
    "                i_frame+=1\n",
    "#             elif i_frame==n_path:\n",
    "#                 im1 = np.zeros_like(im1) \n",
    "#                 i_frame+=1\n",
    "            temp_arr.append(im1)\n",
    "        temp_mat.append(temp_arr)\n",
    "    im_tile = concat_tile(temp_mat)\n",
    "#     plt.show()\n",
    "#     plt.imshow(im_tile)   \n",
    "    img_out = str(dataset_dir/temp_word/temp_root)\n",
    "#     print(img_out)\n",
    "    cv2.imwrite(img_out+\".jpg\",im_tile)"
   ]
  },
  {
   "cell_type": "code",
   "execution_count": 11,
   "metadata": {},
   "outputs": [],
   "source": [
    "def load_data(path,num_word,times):\n",
    "    labels = []\n",
    "    inputs = []\n",
    "    with open(path,'r') as f:\n",
    "        lines = f.readlines()\n",
    "        count = 0\n",
    "        label_count = 0\n",
    "        target_lines = lines[times*25*num_word:times*25*num_word+num_word*25]\n",
    "        for i in target_lines:           \n",
    "            #print(i)\n",
    "            if(count>=(num_word*25)):\n",
    "                break\n",
    "            #temp = Image.open(i.strip('\\n')).convert('L')\n",
    "            temp = Image.open(i.strip('\\n'))\n",
    "            #image_t = np.array(temp)\n",
    "            image_t = np.array(temp)\n",
    "            inputs.append(image_t)\n",
    "            temp.close()\n",
    "            \n",
    "            if((label_count == 0)|(label_count == 25)):\n",
    "                label_count = 0\n",
    "                all_string = i.split('/')\n",
    "                #print(all_string[-1])\n",
    "                #print(all_string)\n",
    "                labels.append((all_string[-1]).split('_')[-2])\n",
    "                #print(labels[-1])\n",
    "            label_count += 1\n",
    "            count += 1\n",
    "            #print(all_string[-1])\n",
    "    #print(labels)\n",
    "    x = np.asarray(inputs, dtype = np.float32)\n",
    "    #x = x/255.0\n",
    "    return x,labels"
   ]
  },
  {
   "cell_type": "markdown",
   "metadata": {},
   "source": [
    "## Fuse Grid"
   ]
  },
  {
   "cell_type": "code",
   "execution_count": 3,
   "metadata": {},
   "outputs": [],
   "source": [
    "test_df = pd.read_csv(\"test_speech.csv\")"
   ]
  },
  {
   "cell_type": "code",
   "execution_count": 10,
   "metadata": {},
   "outputs": [],
   "source": [
    "data_df=pd.read_csv(\"test.sh\")"
   ]
  },
  {
   "cell_type": "code",
   "execution_count": 11,
   "metadata": {},
   "outputs": [
    {
     "data": {
      "text/html": [
       "<div>\n",
       "<style scoped>\n",
       "    .dataframe tbody tr th:only-of-type {\n",
       "        vertical-align: middle;\n",
       "    }\n",
       "\n",
       "    .dataframe tbody tr th {\n",
       "        vertical-align: top;\n",
       "    }\n",
       "\n",
       "    .dataframe thead th {\n",
       "        text-align: right;\n",
       "    }\n",
       "</style>\n",
       "<table border=\"1\" class=\"dataframe\">\n",
       "  <thead>\n",
       "    <tr style=\"text-align: right;\">\n",
       "      <th></th>\n",
       "      <th>cp m/s13_bwwm7a_m.jpg -t test/m</th>\n",
       "    </tr>\n",
       "  </thead>\n",
       "  <tbody>\n",
       "    <tr>\n",
       "      <td>0</td>\n",
       "      <td>cp m/s10_pwam7s_m.jpg -t test/m</td>\n",
       "    </tr>\n",
       "  </tbody>\n",
       "</table>\n",
       "</div>"
      ],
      "text/plain": [
       "   cp m/s13_bwwm7a_m.jpg -t test/m\n",
       "0  cp m/s10_pwam7s_m.jpg -t test/m"
      ]
     },
     "execution_count": 11,
     "metadata": {},
     "output_type": "execute_result"
    }
   ],
   "source": [
    "data_df.head(1)"
   ]
  },
  {
   "cell_type": "code",
   "execution_count": 4,
   "metadata": {},
   "outputs": [
    {
     "data": {
      "text/html": [
       "<div>\n",
       "<style scoped>\n",
       "    .dataframe tbody tr th:only-of-type {\n",
       "        vertical-align: middle;\n",
       "    }\n",
       "\n",
       "    .dataframe tbody tr th {\n",
       "        vertical-align: top;\n",
       "    }\n",
       "\n",
       "    .dataframe thead th {\n",
       "        text-align: right;\n",
       "    }\n",
       "</style>\n",
       "<table border=\"1\" class=\"dataframe\">\n",
       "  <thead>\n",
       "    <tr style=\"text-align: right;\">\n",
       "      <th></th>\n",
       "      <th>Unnamed: 0</th>\n",
       "      <th>cp</th>\n",
       "      <th>fname</th>\n",
       "      <th>t</th>\n",
       "      <th>folder</th>\n",
       "      <th>speaker</th>\n",
       "      <th>w_pattern</th>\n",
       "      <th>token</th>\n",
       "      <th>start</th>\n",
       "      <th>end</th>\n",
       "    </tr>\n",
       "  </thead>\n",
       "  <tbody>\n",
       "    <tr>\n",
       "      <td>0</td>\n",
       "      <td>0</td>\n",
       "      <td>cp</td>\n",
       "      <td>m/s13_bwwm7a_m.jpg</td>\n",
       "      <td>-t</td>\n",
       "      <td>test/m</td>\n",
       "      <td>s13</td>\n",
       "      <td>bwwm7a</td>\n",
       "      <td>m</td>\n",
       "      <td>28250</td>\n",
       "      <td>33000</td>\n",
       "    </tr>\n",
       "    <tr>\n",
       "      <td>1</td>\n",
       "      <td>1</td>\n",
       "      <td>cp</td>\n",
       "      <td>m/s10_pwam7s_m.jpg</td>\n",
       "      <td>-t</td>\n",
       "      <td>test/m</td>\n",
       "      <td>s10</td>\n",
       "      <td>pwam7s</td>\n",
       "      <td>m</td>\n",
       "      <td>34000</td>\n",
       "      <td>44000</td>\n",
       "    </tr>\n",
       "    <tr>\n",
       "      <td>2</td>\n",
       "      <td>2</td>\n",
       "      <td>cp</td>\n",
       "      <td>m/s11_bwwm9a_m.jpg</td>\n",
       "      <td>-t</td>\n",
       "      <td>test/m</td>\n",
       "      <td>s11</td>\n",
       "      <td>bwwm9a</td>\n",
       "      <td>m</td>\n",
       "      <td>30500</td>\n",
       "      <td>34750</td>\n",
       "    </tr>\n",
       "    <tr>\n",
       "      <td>3</td>\n",
       "      <td>3</td>\n",
       "      <td>cp</td>\n",
       "      <td>m/s11_sram8n_m.jpg</td>\n",
       "      <td>-t</td>\n",
       "      <td>test/m</td>\n",
       "      <td>s11</td>\n",
       "      <td>sram8n</td>\n",
       "      <td>m</td>\n",
       "      <td>22500</td>\n",
       "      <td>27250</td>\n",
       "    </tr>\n",
       "    <tr>\n",
       "      <td>4</td>\n",
       "      <td>4</td>\n",
       "      <td>cp</td>\n",
       "      <td>m/s13_bgam5a_m.jpg</td>\n",
       "      <td>-t</td>\n",
       "      <td>test/m</td>\n",
       "      <td>s13</td>\n",
       "      <td>bgam5a</td>\n",
       "      <td>m</td>\n",
       "      <td>36000</td>\n",
       "      <td>41000</td>\n",
       "    </tr>\n",
       "  </tbody>\n",
       "</table>\n",
       "</div>"
      ],
      "text/plain": [
       "   Unnamed: 0  cp               fname   t  folder speaker w_pattern token  \\\n",
       "0           0  cp  m/s13_bwwm7a_m.jpg  -t  test/m     s13    bwwm7a     m   \n",
       "1           1  cp  m/s10_pwam7s_m.jpg  -t  test/m     s10    pwam7s     m   \n",
       "2           2  cp  m/s11_bwwm9a_m.jpg  -t  test/m     s11    bwwm9a     m   \n",
       "3           3  cp  m/s11_sram8n_m.jpg  -t  test/m     s11    sram8n     m   \n",
       "4           4  cp  m/s13_bgam5a_m.jpg  -t  test/m     s13    bgam5a     m   \n",
       "\n",
       "   start    end  \n",
       "0  28250  33000  \n",
       "1  34000  44000  \n",
       "2  30500  34750  \n",
       "3  22500  27250  \n",
       "4  36000  41000  "
      ]
     },
     "execution_count": 4,
     "metadata": {},
     "output_type": "execute_result"
    }
   ],
   "source": [
    "test_df.head()"
   ]
  },
  {
   "cell_type": "code",
   "execution_count": 5,
   "metadata": {},
   "outputs": [],
   "source": [
    "temp_row = test_df.iloc[10000]"
   ]
  },
  {
   "cell_type": "code",
   "execution_count": 8,
   "metadata": {},
   "outputs": [],
   "source": [
    "t_path = pathlib.Path(\".\")"
   ]
  },
  {
   "cell_type": "code",
   "execution_count": 9,
   "metadata": {},
   "outputs": [
    {
     "data": {
      "text/plain": [
       "Unnamed: 0                       10000\n",
       "cp                                  cp\n",
       "fname         soon/s11_brwz9s_soon.jpg\n",
       "t                                   -t\n",
       "folder                       test/soon\n",
       "speaker                            s11\n",
       "w_pattern                       brwz9s\n",
       "token                             soon\n",
       "start                            54750\n",
       "end                              67000\n",
       "Name: 10000, dtype: object"
      ]
     },
     "execution_count": 9,
     "metadata": {},
     "output_type": "execute_result"
    }
   ],
   "source": [
    "temp_row"
   ]
  },
  {
   "cell_type": "code",
   "execution_count": 20,
   "metadata": {},
   "outputs": [
    {
     "name": "stdout",
     "output_type": "stream",
     "text": [
      "Dataset_Null/test/soon/s11_brwz9s_soon.jpg\n",
      "speech_mel_noisy/test/soon/s11_brwz9s_soon.jpg\n"
     ]
    },
    {
     "data": {
      "text/plain": [
       "<matplotlib.image.AxesImage at 0x7f8ca1fca6d8>"
      ]
     },
     "execution_count": 20,
     "metadata": {},
     "output_type": "execute_result"
    },
    {
     "data": {
      "image/png": "[encoded data removed]",
      "text/plain": [
       "<Figure size 432x288 with 1 Axes>"
      ]
     },
     "metadata": {
      "needs_background": "light"
     },
     "output_type": "display_data"
    }
   ],
   "source": [
    "grid_path = t_path/\"Dataset_Null\"/\"test\"/temp_row['fname']\n",
    "mel_spec = t_path/\"speech_mel_noisy\"/\"test\"/temp_row['fname']\n",
    "\n",
    "print(str(grid_path))\n",
    "print(str(mel_spec))\n",
    "im1 = cv2.imread(str(grid_path))\n",
    "plt.imshow(im1)   "
   ]
  },
  {
   "cell_type": "code",
   "execution_count": null,
   "metadata": {},
   "outputs": [],
   "source": [
    "word_path = t_path/\"speech_mel/\"/temp_row['folder']/str(temp_row['speaker'] + '_' \\\n",
    "                     + temp_row['w_pattern'] + '_' + temp_row['token'] +\".wav\")\n",
    "wav_path = t_path/\"speech_mel/\"/temp_row['folder']/str(temp_row['speaker'] + '_' \\\n",
    "                     + temp_row['w_pattern'] + '_' + temp_row['token'] +\".jpg\")"
   ]
  }
 ],
 "metadata": {
  "kernelspec": {
   "display_name": "Python 3",
   "language": "python",
   "name": "python3"
  },
  "language_info": {
   "codemirror_mode": {
    "name": "ipython",
    "version": 3
   },
   "file_extension": ".py",
   "mimetype": "text/x-python",
   "name": "python",
   "nbconvert_exporter": "python",
   "pygments_lexer": "ipython3",
   "version": "3.5.3"
  }
 },
 "nbformat": 4,
 "nbformat_minor": 4
}
