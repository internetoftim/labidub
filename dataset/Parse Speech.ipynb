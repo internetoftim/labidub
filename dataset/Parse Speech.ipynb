{
 "cells": [
  {
   "cell_type": "code",
   "execution_count": 1,
   "metadata": {
    "collapsed": true,
    "jupyter": {
     "outputs_hidden": true
    }
   },
   "outputs": [],
   "source": [
    "import pandas as pd\n",
    "import re"
   ]
  },
  {
   "cell_type": "code",
   "execution_count": 215,
   "metadata": {
    "collapsed": false,
    "jupyter": {
     "outputs_hidden": false
    }
   },
   "outputs": [],
   "source": [
    "temp = pd.read_csv(\"test.sh\",header=None,names=['cp','fname','t','folder'],sep=' ')"
   ]
  },
  {
   "cell_type": "code",
   "execution_count": 216,
   "metadata": {
    "collapsed": false,
    "jupyter": {
     "outputs_hidden": false
    }
   },
   "outputs": [
    {
     "data": {
      "text/html": [
       "<div>\n",
       "<table border=\"1\" class=\"dataframe\">\n",
       "  <thead>\n",
       "    <tr style=\"text-align: right;\">\n",
       "      <th></th>\n",
       "      <th>cp</th>\n",
       "      <th>fname</th>\n",
       "      <th>t</th>\n",
       "      <th>folder</th>\n",
       "    </tr>\n",
       "  </thead>\n",
       "  <tbody>\n",
       "    <tr>\n",
       "      <th>0</th>\n",
       "      <td>cp</td>\n",
       "      <td>m/s13_bwwm7a_m.jpg</td>\n",
       "      <td>-t</td>\n",
       "      <td>test/m</td>\n",
       "    </tr>\n",
       "    <tr>\n",
       "      <th>1</th>\n",
       "      <td>cp</td>\n",
       "      <td>m/s10_pwam7s_m.jpg</td>\n",
       "      <td>-t</td>\n",
       "      <td>test/m</td>\n",
       "    </tr>\n",
       "    <tr>\n",
       "      <th>2</th>\n",
       "      <td>cp</td>\n",
       "      <td>m/s11_bwwm9a_m.jpg</td>\n",
       "      <td>-t</td>\n",
       "      <td>test/m</td>\n",
       "    </tr>\n",
       "    <tr>\n",
       "      <th>3</th>\n",
       "      <td>cp</td>\n",
       "      <td>m/s11_sram8n_m.jpg</td>\n",
       "      <td>-t</td>\n",
       "      <td>test/m</td>\n",
       "    </tr>\n",
       "    <tr>\n",
       "      <th>4</th>\n",
       "      <td>cp</td>\n",
       "      <td>m/s13_bgam5a_m.jpg</td>\n",
       "      <td>-t</td>\n",
       "      <td>test/m</td>\n",
       "    </tr>\n",
       "  </tbody>\n",
       "</table>\n",
       "</div>"
      ],
      "text/plain": [
       "   cp               fname   t  folder\n",
       "0  cp  m/s13_bwwm7a_m.jpg  -t  test/m\n",
       "1  cp  m/s10_pwam7s_m.jpg  -t  test/m\n",
       "2  cp  m/s11_bwwm9a_m.jpg  -t  test/m\n",
       "3  cp  m/s11_sram8n_m.jpg  -t  test/m\n",
       "4  cp  m/s13_bgam5a_m.jpg  -t  test/m"
      ]
     },
     "execution_count": 216,
     "metadata": {},
     "output_type": "execute_result"
    }
   ],
   "source": [
    "temp.head()"
   ]
  },
  {
   "cell_type": "code",
   "execution_count": 217,
   "metadata": {
    "collapsed": false,
    "jupyter": {
     "outputs_hidden": false
    }
   },
   "outputs": [],
   "source": [
    "temp['speaker'] = temp.apply(lambda x: x['fname'].split('_')[0].split('/')[1],axis=1)"
   ]
  },
  {
   "cell_type": "markdown",
   "metadata": {},
   "source": [
    "temp.head()"
   ]
  },
  {
   "cell_type": "code",
   "execution_count": 218,
   "metadata": {
    "collapsed": false,
    "jupyter": {
     "outputs_hidden": false
    }
   },
   "outputs": [],
   "source": [
    "temp['w_pattern'] = temp.apply(lambda x: x['fname'].split('_')[1],axis=1)"
   ]
  },
  {
   "cell_type": "code",
   "execution_count": 219,
   "metadata": {
    "collapsed": false,
    "jupyter": {
     "outputs_hidden": false
    }
   },
   "outputs": [],
   "source": [
    "temp['token'] = temp.apply(lambda x: x['fname'].split('/')[0],axis=1)"
   ]
  },
  {
   "cell_type": "code",
   "execution_count": 220,
   "metadata": {
    "collapsed": false,
    "jupyter": {
     "outputs_hidden": false
    }
   },
   "outputs": [
    {
     "data": {
      "text/html": [
       "<div>\n",
       "<table border=\"1\" class=\"dataframe\">\n",
       "  <thead>\n",
       "    <tr style=\"text-align: right;\">\n",
       "      <th></th>\n",
       "      <th>cp</th>\n",
       "      <th>fname</th>\n",
       "      <th>t</th>\n",
       "      <th>folder</th>\n",
       "      <th>speaker</th>\n",
       "      <th>w_pattern</th>\n",
       "      <th>token</th>\n",
       "    </tr>\n",
       "  </thead>\n",
       "  <tbody>\n",
       "    <tr>\n",
       "      <th>0</th>\n",
       "      <td>cp</td>\n",
       "      <td>m/s13_bwwm7a_m.jpg</td>\n",
       "      <td>-t</td>\n",
       "      <td>test/m</td>\n",
       "      <td>s13</td>\n",
       "      <td>bwwm7a</td>\n",
       "      <td>m</td>\n",
       "    </tr>\n",
       "    <tr>\n",
       "      <th>1</th>\n",
       "      <td>cp</td>\n",
       "      <td>m/s10_pwam7s_m.jpg</td>\n",
       "      <td>-t</td>\n",
       "      <td>test/m</td>\n",
       "      <td>s10</td>\n",
       "      <td>pwam7s</td>\n",
       "      <td>m</td>\n",
       "    </tr>\n",
       "    <tr>\n",
       "      <th>2</th>\n",
       "      <td>cp</td>\n",
       "      <td>m/s11_bwwm9a_m.jpg</td>\n",
       "      <td>-t</td>\n",
       "      <td>test/m</td>\n",
       "      <td>s11</td>\n",
       "      <td>bwwm9a</td>\n",
       "      <td>m</td>\n",
       "    </tr>\n",
       "    <tr>\n",
       "      <th>3</th>\n",
       "      <td>cp</td>\n",
       "      <td>m/s11_sram8n_m.jpg</td>\n",
       "      <td>-t</td>\n",
       "      <td>test/m</td>\n",
       "      <td>s11</td>\n",
       "      <td>sram8n</td>\n",
       "      <td>m</td>\n",
       "    </tr>\n",
       "    <tr>\n",
       "      <th>4</th>\n",
       "      <td>cp</td>\n",
       "      <td>m/s13_bgam5a_m.jpg</td>\n",
       "      <td>-t</td>\n",
       "      <td>test/m</td>\n",
       "      <td>s13</td>\n",
       "      <td>bgam5a</td>\n",
       "      <td>m</td>\n",
       "    </tr>\n",
       "  </tbody>\n",
       "</table>\n",
       "</div>"
      ],
      "text/plain": [
       "   cp               fname   t  folder speaker w_pattern token\n",
       "0  cp  m/s13_bwwm7a_m.jpg  -t  test/m     s13    bwwm7a     m\n",
       "1  cp  m/s10_pwam7s_m.jpg  -t  test/m     s10    pwam7s     m\n",
       "2  cp  m/s11_bwwm9a_m.jpg  -t  test/m     s11    bwwm9a     m\n",
       "3  cp  m/s11_sram8n_m.jpg  -t  test/m     s11    sram8n     m\n",
       "4  cp  m/s13_bgam5a_m.jpg  -t  test/m     s13    bgam5a     m"
      ]
     },
     "execution_count": 220,
     "metadata": {},
     "output_type": "execute_result"
    }
   ],
   "source": [
    "temp.head()"
   ]
  },
  {
   "cell_type": "code",
   "execution_count": 207,
   "metadata": {
    "collapsed": false,
    "jupyter": {
     "outputs_hidden": false
    }
   },
   "outputs": [
    {
     "data": {
      "text/plain": [
       "25196"
      ]
     },
     "execution_count": 207,
     "metadata": {},
     "output_type": "execute_result"
    }
   ],
   "source": [
    "len(temp)"
   ]
  },
  {
   "cell_type": "code",
   "execution_count": 178,
   "metadata": {
    "collapsed": false,
    "jupyter": {
     "outputs_hidden": false
    }
   },
   "outputs": [
    {
     "name": "stdout",
     "output_type": "stream",
     "text": [
      "cp                           cp\n",
      "fname        m/s13_bwwm7a_m.jpg\n",
      "t                            -t\n",
      "folder                   test/m\n",
      "speaker                     s13\n",
      "w_pattern                bwwm7a\n",
      "token                         m\n",
      "Name: 0, dtype: object\n"
     ]
    }
   ],
   "source": [
    "t_row = temp.iloc(i)[0]\n",
    "print(t_row)\n"
   ]
  },
  {
   "cell_type": "code",
   "execution_count": 241,
   "metadata": {
    "collapsed": true,
    "jupyter": {
     "outputs_hidden": true
    }
   },
   "outputs": [],
   "source": [
    "t_pattern = \"swwp2s\"\n",
    "t_speaker = \"s12\"\n",
    "t_word = \"soon\"\n",
    "\n",
    "def parse_audio_times(t_path=path.Path(\".\"), word_meta = t_row):\n",
    "    try:\n",
    "        t_path = t_path/\"annotation\"/word_meta[\"speaker\"]/word_meta['w_pattern']+\".align\"\n",
    "        t_df_align = pd.read_csv(t_path,header=None,sep=' ',names=['start','end','word'])\n",
    "        t_out = t_df_align[t_df_align['word']==word_meta['token']]\n",
    "        return t_out\n",
    "    except:\n",
    "        return None\n",
    "    \n",
    "# def parse_audio_start(t_path=path.Path(\".\"), word_meta = t_row):\n",
    "#     try:\n",
    "#         t_path = t_path/\"annotation\"/word_meta[\"speaker\"]/word_meta['w_pattern']+\".align\"\n",
    "#         t_df_align = pd.read_csv(t_path,header=None,sep=' ',names=['start','end','word'])\n",
    "#         t_out = t_df_align[t_df_align['word']==word_meta['token']]\n",
    "#         return t_out['start']\n",
    "#     except:\n",
    "#         return None    \n",
    "    \n",
    "def parse_audio_end(t_path=path.Path(\".\"), speaker=None, pattern=None, token=None):\n",
    "    try:\n",
    "        t_path = t_path/\"annotation\"/speaker/pattern+\".align\"\n",
    "        print(t_path)\n",
    "        t_df_align = pd.read_csv(t_path,header=None,sep=' ',names=['start','end','word'])\n",
    "        t_out = t_df_align[t_df_align['word']==token]\n",
    "#         t_path = t_path/\"annotation\"/word_meta[\"speaker\"]/word_meta['w_pattern']+\".align\"\n",
    "#         t_df_align = pd.read_csv(t_path,header=None,sep=' ',names=['start','end','word'])\n",
    "#         t_out = t_df_align[t_df_align['word']==word_meta['token']]        \n",
    "        return t_out['end']\n",
    "    except:\n",
    "        return None    \n",
    "    # .values.to_dict()\n",
    "    \n",
    "\n",
    "def parse_audio_start(t_path=path.Path(\".\"), speaker=None, pattern=None, token=None):\n",
    "    try:\n",
    "        t_path = t_path/\"annotation\"/speaker/pattern+\".align\"\n",
    "        t_df_align = pd.read_csv(t_path,header=None,sep=' ',names=['start','end','word'])\n",
    "        t_out = t_df_align[t_df_align['word']==token]\n",
    "#         t_path = t_path/\"annotation\"/word_meta[\"speaker\"]/word_meta['w_pattern']+\".align\"\n",
    "#         t_df_align = pd.read_csv(t_path,header=None,sep=' ',names=['start','end','word'])\n",
    "#         t_out = t_df_align[t_df_align['word']==word_meta['token']]        \n",
    "        return t_out['start']\n",
    "    except:\n",
    "        return None    \n",
    "    # .values.to_dict()    \n",
    "\n",
    "    "
   ]
  },
  {
   "cell_type": "code",
   "execution_count": 232,
   "metadata": {
    "collapsed": false,
    "jupyter": {
     "outputs_hidden": false
    }
   },
   "outputs": [],
   "source": [
    "parse_audio_start(speaker=t_speaker,pattern=t_pattern,token=t_word)"
   ]
  },
  {
   "cell_type": "code",
   "execution_count": 240,
   "metadata": {
    "collapsed": false,
    "jupyter": {
     "outputs_hidden": false
    }
   },
   "outputs": [
    {
     "name": "stdout",
     "output_type": "stream",
     "text": [
      "   start    end   word\n",
      "0      0  13250    sil\n",
      "1  13250  18750    bin\n",
      "2  18750  24750  white\n",
      "3  24750  28250   with\n",
      "4  28250  33000      m\n",
      "   start    end   word\n",
      "2  18750  24750  white\n"
     ]
    }
   ],
   "source": [
    "t_df_align = pd.read_csv(t_path,header=None,sep=' ',names=['start','end','word'])\n",
    "print(t_df_align.head())\n",
    "_out = t_df_align[t_df_align['word']=='white']\n",
    "print(_out)"
   ]
  },
  {
   "cell_type": "code",
   "execution_count": 211,
   "metadata": {
    "collapsed": false,
    "jupyter": {
     "outputs_hidden": false
    }
   },
   "outputs": [
    {
     "data": {
      "text/html": [
       "<div>\n",
       "<table border=\"1\" class=\"dataframe\">\n",
       "  <thead>\n",
       "    <tr style=\"text-align: right;\">\n",
       "      <th></th>\n",
       "      <th>cp</th>\n",
       "      <th>fname</th>\n",
       "      <th>t</th>\n",
       "      <th>folder</th>\n",
       "      <th>speaker</th>\n",
       "      <th>w_pattern</th>\n",
       "      <th>token</th>\n",
       "    </tr>\n",
       "  </thead>\n",
       "  <tbody>\n",
       "    <tr>\n",
       "      <th>0</th>\n",
       "      <td>cp</td>\n",
       "      <td>m/s13_bwwm7a_m.jpg</td>\n",
       "      <td>-t</td>\n",
       "      <td>test/m</td>\n",
       "      <td>s13</td>\n",
       "      <td>bwwm7a</td>\n",
       "      <td>m</td>\n",
       "    </tr>\n",
       "    <tr>\n",
       "      <th>1</th>\n",
       "      <td>cp</td>\n",
       "      <td>m/s10_pwam7s_m.jpg</td>\n",
       "      <td>-t</td>\n",
       "      <td>test/m</td>\n",
       "      <td>s10</td>\n",
       "      <td>pwam7s</td>\n",
       "      <td>m</td>\n",
       "    </tr>\n",
       "    <tr>\n",
       "      <th>2</th>\n",
       "      <td>cp</td>\n",
       "      <td>m/s11_bwwm9a_m.jpg</td>\n",
       "      <td>-t</td>\n",
       "      <td>test/m</td>\n",
       "      <td>s11</td>\n",
       "      <td>bwwm9a</td>\n",
       "      <td>m</td>\n",
       "    </tr>\n",
       "    <tr>\n",
       "      <th>3</th>\n",
       "      <td>cp</td>\n",
       "      <td>m/s11_sram8n_m.jpg</td>\n",
       "      <td>-t</td>\n",
       "      <td>test/m</td>\n",
       "      <td>s11</td>\n",
       "      <td>sram8n</td>\n",
       "      <td>m</td>\n",
       "    </tr>\n",
       "    <tr>\n",
       "      <th>4</th>\n",
       "      <td>cp</td>\n",
       "      <td>m/s13_bgam5a_m.jpg</td>\n",
       "      <td>-t</td>\n",
       "      <td>test/m</td>\n",
       "      <td>s13</td>\n",
       "      <td>bgam5a</td>\n",
       "      <td>m</td>\n",
       "    </tr>\n",
       "  </tbody>\n",
       "</table>\n",
       "</div>"
      ],
      "text/plain": [
       "   cp               fname   t  folder speaker w_pattern token\n",
       "0  cp  m/s13_bwwm7a_m.jpg  -t  test/m     s13    bwwm7a     m\n",
       "1  cp  m/s10_pwam7s_m.jpg  -t  test/m     s10    pwam7s     m\n",
       "2  cp  m/s11_bwwm9a_m.jpg  -t  test/m     s11    bwwm9a     m\n",
       "3  cp  m/s11_sram8n_m.jpg  -t  test/m     s11    sram8n     m\n",
       "4  cp  m/s13_bgam5a_m.jpg  -t  test/m     s13    bgam5a     m"
      ]
     },
     "execution_count": 211,
     "metadata": {},
     "output_type": "execute_result"
    }
   ],
   "source": [
    "temp.head()"
   ]
  },
  {
   "cell_type": "code",
   "execution_count": 283,
   "metadata": {
    "collapsed": false,
    "jupyter": {
     "outputs_hidden": false
    }
   },
   "outputs": [],
   "source": [
    "t_row = temp.iloc(i)[0]"
   ]
  },
  {
   "cell_type": "code",
   "execution_count": 286,
   "metadata": {
    "collapsed": false,
    "jupyter": {
     "outputs_hidden": false
    }
   },
   "outputs": [
    {
     "data": {
      "text/plain": [
       "'m/s13_bwwm7a_m.jpg'"
      ]
     },
     "execution_count": 286,
     "metadata": {},
     "output_type": "execute_result"
    }
   ],
   "source": [
    "t_row['fname']"
   ]
  },
  {
   "cell_type": "code",
   "execution_count": 253,
   "metadata": {
    "collapsed": false,
    "jupyter": {
     "outputs_hidden": false
    }
   },
   "outputs": [],
   "source": [
    "\n",
    "ttt = parse_audio_times(word_meta=t_row)"
   ]
  },
  {
   "cell_type": "code",
   "execution_count": 285,
   "metadata": {
    "collapsed": false,
    "jupyter": {
     "outputs_hidden": false
    }
   },
   "outputs": [
    {
     "data": {
      "text/plain": [
       "4    28250\n",
       "Name: start, dtype: int64"
      ]
     },
     "execution_count": 285,
     "metadata": {},
     "output_type": "execute_result"
    }
   ],
   "source": [
    "ttt['start']"
   ]
  },
  {
   "cell_type": "code",
   "execution_count": 128,
   "metadata": {
    "collapsed": true,
    "jupyter": {
     "outputs_hidden": true
    }
   },
   "outputs": [],
   "source": [
    "import os\n",
    "import path"
   ]
  },
  {
   "cell_type": "code",
   "execution_count": 280,
   "metadata": {
    "collapsed": false,
    "jupyter": {
     "outputs_hidden": false
    }
   },
   "outputs": [
    {
     "data": {
      "text/plain": [
       "pandas.core.indexing._iLocIndexer"
      ]
     },
     "execution_count": 280,
     "metadata": {},
     "output_type": "execute_result"
    }
   ],
   "source": [
    "type(t_row)"
   ]
  },
  {
   "cell_type": "code",
   "execution_count": 197,
   "metadata": {
    "collapsed": false,
    "jupyter": {
     "outputs_hidden": false
    }
   },
   "outputs": [],
   "source": [
    "# os.listdir(t_path/\"dataset\"/\"annotation\"/t_row[\"speaker\"])\n",
    "t_path = t_path/\"annotation\"/t_row[\"speaker\"]/t_row['w_pattern']+\".align\"\n",
    "t_df_align = pd.read_csv(t_path,header=None,sep=' ',names=['start','end','word'])"
   ]
  },
  {
   "cell_type": "code",
   "execution_count": 198,
   "metadata": {
    "collapsed": false,
    "jupyter": {
     "outputs_hidden": false
    }
   },
   "outputs": [
    {
     "data": {
      "text/html": [
       "<div>\n",
       "<table border=\"1\" class=\"dataframe\">\n",
       "  <thead>\n",
       "    <tr style=\"text-align: right;\">\n",
       "      <th></th>\n",
       "      <th>start</th>\n",
       "      <th>end</th>\n",
       "      <th>word</th>\n",
       "    </tr>\n",
       "  </thead>\n",
       "  <tbody>\n",
       "    <tr>\n",
       "      <th>0</th>\n",
       "      <td>0</td>\n",
       "      <td>13250</td>\n",
       "      <td>sil</td>\n",
       "    </tr>\n",
       "    <tr>\n",
       "      <th>1</th>\n",
       "      <td>13250</td>\n",
       "      <td>18750</td>\n",
       "      <td>bin</td>\n",
       "    </tr>\n",
       "    <tr>\n",
       "      <th>2</th>\n",
       "      <td>18750</td>\n",
       "      <td>24750</td>\n",
       "      <td>white</td>\n",
       "    </tr>\n",
       "    <tr>\n",
       "      <th>3</th>\n",
       "      <td>24750</td>\n",
       "      <td>28250</td>\n",
       "      <td>with</td>\n",
       "    </tr>\n",
       "    <tr>\n",
       "      <th>4</th>\n",
       "      <td>28250</td>\n",
       "      <td>33000</td>\n",
       "      <td>m</td>\n",
       "    </tr>\n",
       "    <tr>\n",
       "      <th>5</th>\n",
       "      <td>33000</td>\n",
       "      <td>41500</td>\n",
       "      <td>seven</td>\n",
       "    </tr>\n",
       "    <tr>\n",
       "      <th>6</th>\n",
       "      <td>41500</td>\n",
       "      <td>52000</td>\n",
       "      <td>again</td>\n",
       "    </tr>\n",
       "    <tr>\n",
       "      <th>7</th>\n",
       "      <td>52000</td>\n",
       "      <td>74500</td>\n",
       "      <td>sil</td>\n",
       "    </tr>\n",
       "  </tbody>\n",
       "</table>\n",
       "</div>"
      ],
      "text/plain": [
       "   start    end   word\n",
       "0      0  13250    sil\n",
       "1  13250  18750    bin\n",
       "2  18750  24750  white\n",
       "3  24750  28250   with\n",
       "4  28250  33000      m\n",
       "5  33000  41500  seven\n",
       "6  41500  52000  again\n",
       "7  52000  74500    sil"
      ]
     },
     "execution_count": 198,
     "metadata": {},
     "output_type": "execute_result"
    }
   ],
   "source": [
    "t_df_align"
   ]
  },
  {
   "cell_type": "code",
   "execution_count": 242,
   "metadata": {
    "collapsed": false,
    "jupyter": {
     "outputs_hidden": false
    }
   },
   "outputs": [],
   "source": [
    "temp['time_end'] = temp.apply(lambda x : parse_audio_end(speaker=x['speaker'],pattern=x['w_pattern'],token=x['token']), axis =1 )"
   ]
  },
  {
   "cell_type": "code",
   "execution_count": null,
   "metadata": {
    "collapsed": false,
    "jupyter": {
     "outputs_hidden": false
    }
   },
   "outputs": [],
   "source": [
    "\n",
    "temp['time_end'] = temp.apply(lambda x : parse_audio_end(speaker=x['speaker'],pattern=x['w_pattern'],token=x['token']), axis =1 )"
   ]
  },
  {
   "cell_type": "code",
   "execution_count": 307,
   "metadata": {
    "collapsed": false,
    "jupyter": {
     "outputs_hidden": false
    }
   },
   "outputs": [
    {
     "data": {
      "text/html": [
       "<div>\n",
       "<table border=\"1\" class=\"dataframe\">\n",
       "  <thead>\n",
       "    <tr style=\"text-align: right;\">\n",
       "      <th></th>\n",
       "      <th>cp</th>\n",
       "      <th>fname</th>\n",
       "      <th>t</th>\n",
       "      <th>folder</th>\n",
       "      <th>speaker</th>\n",
       "      <th>w_pattern</th>\n",
       "      <th>token</th>\n",
       "    </tr>\n",
       "  </thead>\n",
       "  <tbody>\n",
       "    <tr>\n",
       "      <th>0</th>\n",
       "      <td>cp</td>\n",
       "      <td>m/s13_bwwm7a_m.jpg</td>\n",
       "      <td>-t</td>\n",
       "      <td>test/m</td>\n",
       "      <td>s13</td>\n",
       "      <td>bwwm7a</td>\n",
       "      <td>m</td>\n",
       "    </tr>\n",
       "    <tr>\n",
       "      <th>1</th>\n",
       "      <td>cp</td>\n",
       "      <td>m/s10_pwam7s_m.jpg</td>\n",
       "      <td>-t</td>\n",
       "      <td>test/m</td>\n",
       "      <td>s10</td>\n",
       "      <td>pwam7s</td>\n",
       "      <td>m</td>\n",
       "    </tr>\n",
       "    <tr>\n",
       "      <th>2</th>\n",
       "      <td>cp</td>\n",
       "      <td>m/s11_bwwm9a_m.jpg</td>\n",
       "      <td>-t</td>\n",
       "      <td>test/m</td>\n",
       "      <td>s11</td>\n",
       "      <td>bwwm9a</td>\n",
       "      <td>m</td>\n",
       "    </tr>\n",
       "    <tr>\n",
       "      <th>3</th>\n",
       "      <td>cp</td>\n",
       "      <td>m/s11_sram8n_m.jpg</td>\n",
       "      <td>-t</td>\n",
       "      <td>test/m</td>\n",
       "      <td>s11</td>\n",
       "      <td>sram8n</td>\n",
       "      <td>m</td>\n",
       "    </tr>\n",
       "    <tr>\n",
       "      <th>4</th>\n",
       "      <td>cp</td>\n",
       "      <td>m/s13_bgam5a_m.jpg</td>\n",
       "      <td>-t</td>\n",
       "      <td>test/m</td>\n",
       "      <td>s13</td>\n",
       "      <td>bgam5a</td>\n",
       "      <td>m</td>\n",
       "    </tr>\n",
       "  </tbody>\n",
       "</table>\n",
       "</div>"
      ],
      "text/plain": [
       "   cp               fname   t  folder speaker w_pattern token\n",
       "0  cp  m/s13_bwwm7a_m.jpg  -t  test/m     s13    bwwm7a     m\n",
       "1  cp  m/s10_pwam7s_m.jpg  -t  test/m     s10    pwam7s     m\n",
       "2  cp  m/s11_bwwm9a_m.jpg  -t  test/m     s11    bwwm9a     m\n",
       "3  cp  m/s11_sram8n_m.jpg  -t  test/m     s11    sram8n     m\n",
       "4  cp  m/s13_bgam5a_m.jpg  -t  test/m     s13    bgam5a     m"
      ]
     },
     "execution_count": 307,
     "metadata": {},
     "output_type": "execute_result"
    }
   ],
   "source": [
    "temp.head()"
   ]
  },
  {
   "cell_type": "code",
   "execution_count": 311,
   "metadata": {
    "collapsed": false,
    "jupyter": {
     "outputs_hidden": false
    }
   },
   "outputs": [
    {
     "data": {
      "text/plain": [
       "cp                           cp\n",
       "fname        m/s10_pwam7s_m.jpg\n",
       "t                            -t\n",
       "folder                   test/m\n",
       "speaker                     s10\n",
       "w_pattern                pwam7s\n",
       "token                         m\n",
       "Name: 1, dtype: object"
      ]
     },
     "execution_count": 311,
     "metadata": {},
     "output_type": "execute_result"
    }
   ],
   "source": [
    "temp.iloc(0)[1]"
   ]
  },
  {
   "cell_type": "code",
   "execution_count": 329,
   "metadata": {
    "collapsed": false,
    "jupyter": {
     "outputs_hidden": false
    }
   },
   "outputs": [],
   "source": [
    "test_with_audio = []\n",
    "for i in range (len(temp)):\n",
    "    \n",
    "    t_row = temp.iloc(0)[i]\n",
    "#     print(t_row)\n",
    "    t_out = parse_audio_times(word_meta=t_row)    \n",
    "    t_row['start'] = t_out['start'].iloc(0)[0]\n",
    "    t_row['end']= t_out['end'].iloc(0)[0]\n",
    "    test_with_audio.append(t_row.values)\n",
    "#     if i>10:\n",
    "#         break"
   ]
  },
  {
   "cell_type": "code",
   "execution_count": 303,
   "metadata": {
    "collapsed": false,
    "jupyter": {
     "outputs_hidden": false
    }
   },
   "outputs": [
    {
     "data": {
      "text/plain": [
       "28250"
      ]
     },
     "execution_count": 303,
     "metadata": {},
     "output_type": "execute_result"
    }
   ],
   "source": [
    "t_out['start'].iloc(0)[0]"
   ]
  },
  {
   "cell_type": "code",
   "execution_count": 313,
   "metadata": {
    "collapsed": true,
    "jupyter": {
     "outputs_hidden": true
    }
   },
   "outputs": [],
   "source": [
    "# test_with_audio = []"
   ]
  },
  {
   "cell_type": "code",
   "execution_count": 317,
   "metadata": {
    "collapsed": false,
    "jupyter": {
     "outputs_hidden": false
    }
   },
   "outputs": [],
   "source": [
    "test_with_audio.append(t_row.values)"
   ]
  },
  {
   "cell_type": "code",
   "execution_count": 330,
   "metadata": {
    "collapsed": false,
    "jupyter": {
     "outputs_hidden": false
    }
   },
   "outputs": [],
   "source": [
    "test_pd = pd.DataFrame(test_with_audio)"
   ]
  },
  {
   "cell_type": "code",
   "execution_count": 331,
   "metadata": {
    "collapsed": false,
    "jupyter": {
     "outputs_hidden": false
    }
   },
   "outputs": [],
   "source": [
    "test_pd.to_csv(\"test_speech.csv\",header=['cp','fname','t','folder','speaker','w_pattern','token','start','end'])"
   ]
  },
  {
   "cell_type": "code",
   "execution_count": 328,
   "metadata": {
    "collapsed": false,
    "jupyter": {
     "outputs_hidden": false
    }
   },
   "outputs": [
    {
     "name": "stdout",
     "output_type": "stream",
     "text": [
      ",cp,fname,t,folder,speaker,w_pattern,token,start,end\n",
      "0,cp,m/s13_bwwm7a_m.jpg,-t,test/m,s13,bwwm7a,m,28250,33000\n",
      "1,cp,m/s10_pwam7s_m.jpg,-t,test/m,s10,pwam7s,m,34000,44000\n",
      "2,cp,m/s11_bwwm9a_m.jpg,-t,test/m,s11,bwwm9a,m,30500,34750\n",
      "3,cp,m/s11_sram8n_m.jpg,-t,test/m,s11,sram8n,m,22500,27250\n",
      "4,cp,m/s13_bgam5a_m.jpg,-t,test/m,s13,bgam5a,m,36000,41000\n",
      "5,cp,m/s11_bgim3a_m.jpg,-t,test/m,s11,bgim3a,m,24750,29250\n",
      "6,cp,m/s11_sbam5a_m.jpg,-t,test/m,s11,sbam5a,m,23500,28500\n",
      "7,cp,m/s12_sbam2s_m.jpg,-t,test/m,s12,sbam2s,m,29500,35250\n",
      "8,cp,m/s12_bwwm8a_m.jpg,-t,test/m,s12,bwwm8a,m,32000,37250\n",
      "9,cp,m/s13_sbam3a_m.jpg,-t,test/m,s13,sbam3a,m,23750,28500\n",
      "10,cp,m/s10_pgim8n_m.jpg,-t,test/m,s10,pgim8n,m,30500,33500\n",
      "11,cp,m/s10_swwmzp_m.jpg,-t,test/m,s10,swwmzp,m,30750,34500\n",
      "12,cp,m/s10_swwmzp_m.jpg,-t,test/m,s10,swwmzp,m,30750,34500\n"
     ]
    }
   ],
   "source": [
    "!cat test_speech.csv"
   ]
  },
  {
   "cell_type": "code",
   "execution_count": null,
   "metadata": {
    "collapsed": false,
    "jupyter": {
     "outputs_hidden": false
    }
   },
   "outputs": [
    {
     "name": "stderr",
     "output_type": "stream",
     "text": [
      "/Users/lky/anaconda/lib/python2.7/site-packages/ipykernel/__main__.py:11: SettingWithCopyWarning: \n",
      "A value is trying to be set on a copy of a slice from a DataFrame\n",
      "\n",
      "See the caveats in the documentation: http://pandas.pydata.org/pandas-docs/stable/indexing.html#indexing-view-versus-copy\n",
      "/Users/lky/anaconda/lib/python2.7/site-packages/pandas/core/series.py:704: SettingWithCopyWarning: \n",
      "A value is trying to be set on a copy of a slice from a DataFrame\n",
      "\n",
      "See the caveats in the documentation: http://pandas.pydata.org/pandas-docs/stable/indexing.html#indexing-view-versus-copy\n",
      "  self.loc[key] = value\n",
      "/Users/lky/anaconda/lib/python2.7/site-packages/ipykernel/__main__.py:12: SettingWithCopyWarning: \n",
      "A value is trying to be set on a copy of a slice from a DataFrame\n",
      "\n",
      "See the caveats in the documentation: http://pandas.pydata.org/pandas-docs/stable/indexing.html#indexing-view-versus-copy\n"
     ]
    }
   ],
   "source": [
    "temp_train = pd.read_csv(\"train.sh\",header=None,names=['cp','fname','t','folder'],sep=' ')\n",
    "temp_train['speaker'] = temp_train.apply(lambda x: x['fname'].split('_')[0].split('/')[1],axis=1)\n",
    "temp_train['w_pattern'] = temp_train.apply(lambda x: x['fname'].split('_')[1],axis=1)\n",
    "temp_train['token'] = temp_train.apply(lambda x: x['fname'].split('/')[0],axis=1)\n",
    "train_with_audio = []\n",
    "for i in range (len(temp_train)):\n",
    "    \n",
    "    t_row = temp_train.iloc(0)[i]\n",
    "#     print(t_row)\n",
    "    t_out = parse_audio_times(word_meta=t_row)    \n",
    "    t_row['start'] = t_out['start'].iloc(0)[0]\n",
    "    t_row['end']= t_out['end'].iloc(0)[0]\n",
    "    train_with_audio.append(t_row.values)\n",
    "#     if i>10:\n",
    "#         break\n",
    "train_pd = pd.DataFrame(train_with_audio)\n",
    "train_pd.to_csv(\"train_speech.csv\",header=['cp','fname','t','folder','speaker','w_pattern','token','start','end'])"
   ]
  },
  {
   "cell_type": "markdown",
   "metadata": {
    "jupyter": {
     "outputs_hidden": true
    }
   },
   "source": [
    "# Parse Audio Wav Files"
   ]
  },
  {
   "cell_type": "code",
   "execution_count": 7,
   "metadata": {},
   "outputs": [],
   "source": [
    "import pandas as pd\n",
    "import pathlib \n",
    "\n",
    "import os\n",
    "\n",
    "import librosa\n",
    "import matplotlib.pyplot as plt\n",
    "import librosa.display\n",
    "import IPython.display as ipd\n",
    "import numpy as np\n",
    "import re"
   ]
  },
  {
   "cell_type": "code",
   "execution_count": 8,
   "metadata": {},
   "outputs": [],
   "source": [
    "test_df = pd.read_csv(\"test_speech.csv\")"
   ]
  },
  {
   "cell_type": "code",
   "execution_count": 61,
   "metadata": {},
   "outputs": [],
   "source": [
    "temp_row = test_df.iloc[10000]"
   ]
  },
  {
   "cell_type": "code",
   "execution_count": 62,
   "metadata": {},
   "outputs": [],
   "source": [
    "t_path = pathlib.Path(\".\")"
   ]
  },
  {
   "cell_type": "code",
   "execution_count": 65,
   "metadata": {},
   "outputs": [
    {
     "name": "stdout",
     "output_type": "stream",
     "text": [
      "speech_25khz/s11/brwz9s.wav\n",
      "speech_25khz/test/soon\n"
     ]
    }
   ],
   "source": [
    "audio_path = str(t_path/\"speech_25khz\"/temp_row['speaker']/ str(temp_row['w_pattern'])) + \".wav\"\n",
    "out_path = t_path/\"speech_25khz/\"/temp_row['folder']\n",
    "print(audio_path)\n",
    "print(out_path)"
   ]
  },
  {
   "cell_type": "code",
   "execution_count": 63,
   "metadata": {},
   "outputs": [
    {
     "data": {
      "text/plain": [
       "'soon'"
      ]
     },
     "execution_count": 63,
     "metadata": {},
     "output_type": "execute_result"
    }
   ],
   "source": [
    "temp_row['token']"
   ]
  },
  {
   "cell_type": "code",
   "execution_count": 64,
   "metadata": {},
   "outputs": [
    {
     "data": {
      "text/plain": [
       "54750"
      ]
     },
     "execution_count": 64,
     "metadata": {},
     "output_type": "execute_result"
    }
   ],
   "source": [
    "temp_row['start']"
   ]
  },
  {
   "cell_type": "code",
   "execution_count": 66,
   "metadata": {},
   "outputs": [],
   "source": [
    "t_y,t_sr = librosa.load(audio_path,sr=None)\n"
   ]
  },
  {
   "cell_type": "code",
   "execution_count": 33,
   "metadata": {},
   "outputs": [
    {
     "data": {
      "text/plain": [
       "25000"
      ]
     },
     "execution_count": 33,
     "metadata": {},
     "output_type": "execute_result"
    }
   ],
   "source": [
    "librosa.time_to_samples(np.arange(0, 1, 0.1), sr=22050)"
   ]
  },
  {
   "cell_type": "code",
   "execution_count": 36,
   "metadata": {},
   "outputs": [
    {
     "data": {
      "text/plain": [
       "array([0. , 0.1, 0.2, 0.3, 0.4, 0.5, 0.6, 0.7, 0.8, 0.9])"
      ]
     },
     "execution_count": 36,
     "metadata": {},
     "output_type": "execute_result"
    }
   ],
   "source": [
    "np.arange(0, 1, 0.1)"
   ]
  },
  {
   "cell_type": "code",
   "execution_count": 40,
   "metadata": {},
   "outputs": [
    {
     "data": {
      "text/plain": [
       "array([706250000, 825000000])"
      ]
     },
     "execution_count": 40,
     "metadata": {},
     "output_type": "execute_result"
    }
   ],
   "source": [
    "librosa.time_to_samples([temp_row['start'],temp_row['end']], sr=t_sr)"
   ]
  },
  {
   "cell_type": "code",
   "execution_count": 67,
   "metadata": {},
   "outputs": [
    {
     "data": {
      "text/plain": [
       "Unnamed: 0                       10000\n",
       "cp                                  cp\n",
       "fname         soon/s11_brwz9s_soon.jpg\n",
       "t                                   -t\n",
       "folder                       test/soon\n",
       "speaker                            s11\n",
       "w_pattern                       brwz9s\n",
       "token                             soon\n",
       "start                            54750\n",
       "end                              67000\n",
       "Name: 10000, dtype: object"
      ]
     },
     "execution_count": 67,
     "metadata": {},
     "output_type": "execute_result"
    }
   ],
   "source": [
    "temp_row"
   ]
  },
  {
   "cell_type": "code",
   "execution_count": 75,
   "metadata": {},
   "outputs": [
    {
     "data": {
      "text/html": [
       "<div>\n",
       "<style scoped>\n",
       "    .dataframe tbody tr th:only-of-type {\n",
       "        vertical-align: middle;\n",
       "    }\n",
       "\n",
       "    .dataframe tbody tr th {\n",
       "        vertical-align: top;\n",
       "    }\n",
       "\n",
       "    .dataframe thead th {\n",
       "        text-align: right;\n",
       "    }\n",
       "</style>\n",
       "<table border=\"1\" class=\"dataframe\">\n",
       "  <thead>\n",
       "    <tr style=\"text-align: right;\">\n",
       "      <th></th>\n",
       "      <th>Unnamed: 0</th>\n",
       "      <th>cp</th>\n",
       "      <th>fname</th>\n",
       "      <th>t</th>\n",
       "      <th>folder</th>\n",
       "      <th>speaker</th>\n",
       "      <th>w_pattern</th>\n",
       "      <th>token</th>\n",
       "      <th>start</th>\n",
       "      <th>end</th>\n",
       "    </tr>\n",
       "  </thead>\n",
       "  <tbody>\n",
       "    <tr>\n",
       "      <td>10000</td>\n",
       "      <td>10000</td>\n",
       "      <td>cp</td>\n",
       "      <td>soon/s11_brwz9s_soon.jpg</td>\n",
       "      <td>-t</td>\n",
       "      <td>test/soon</td>\n",
       "      <td>s11</td>\n",
       "      <td>brwz9s</td>\n",
       "      <td>soon</td>\n",
       "      <td>54750</td>\n",
       "      <td>67000</td>\n",
       "    </tr>\n",
       "  </tbody>\n",
       "</table>\n",
       "</div>"
      ],
      "text/plain": [
       "       Unnamed: 0  cp                     fname   t     folder speaker  \\\n",
       "10000       10000  cp  soon/s11_brwz9s_soon.jpg  -t  test/soon     s11   \n",
       "\n",
       "      w_pattern token  start    end  \n",
       "10000    brwz9s  soon  54750  67000  "
      ]
     },
     "execution_count": 75,
     "metadata": {},
     "output_type": "execute_result"
    }
   ],
   "source": [
    "test_df[test_df['fname']==temp_row['fname']]"
   ]
  },
  {
   "cell_type": "code",
   "execution_count": 122,
   "metadata": {},
   "outputs": [
    {
     "name": "stdout",
     "output_type": "stream",
     "text": [
      "['0', '10750', 'sil\\n']\n",
      "yes\n"
     ]
    }
   ],
   "source": [
    "transcript_path = str(t_path/\"annotation\"/temp_row['speaker']/ str(temp_row['w_pattern'])) + \".align\"\n",
    "with open(transcript_path) as myfile:\n",
    "    head = [next(myfile) for x in range(1)]\n",
    "# print(head[0].split(' ')[1])\n",
    "t_head=head[0].split(' ')\n",
    "if re.search('sil',t_head[2]):\n",
    "    sil_offset = int(t_head[1])\n",
    "else:\n",
    "    sil_offset=0\n",
    "t_wav = t_y[temp_row['start']-sil_offset:temp_row['end']-sil_offset]\n",
    "librosa.output.write_wav(out_path, t_wav, sr)"
   ]
  },
  {
   "cell_type": "code",
   "execution_count": 113,
   "metadata": {},
   "outputs": [
    {
     "data": {
      "text/plain": [
       "<matplotlib.collections.PolyCollection at 0x7f30a35384e0>"
      ]
     },
     "execution_count": 113,
     "metadata": {},
     "output_type": "execute_result"
    },
    {
     "data": {
      "image/png": "[encoded data removed]",
      "text/plain": [
       "<Figure size 1008x360 with 2 Axes>"
      ]
     },
     "metadata": {
      "needs_background": "light"
     },
     "output_type": "display_data"
    }
   ],
   "source": [
    "plt.figure(figsize=(14, 5))\n",
    "plt.subplot(2,1,1)\n",
    "librosa.display.waveplot(t_y, sr=t_sr)\n",
    "plt.subplot(2,1,2)\n",
    "librosa.display.waveplot(t_wav, sr=t_sr)\n"
   ]
  },
  {
   "cell_type": "code",
   "execution_count": 123,
   "metadata": {},
   "outputs": [
    {
     "data": {
      "text/html": [
       "\n",
       "                <audio  controls=\"controls\" >\n",
       "                    <source src=\"data:audio/wav;base64,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\" type=\"audio/wav\" />\n",
       "                    Your browser does not support the audio element.\n",
       "                </audio>\n",
       "              "
      ],
      "text/plain": [
       "<IPython.lib.display.Audio object>"
      ]
     },
     "execution_count": 123,
     "metadata": {},
     "output_type": "execute_result"
    }
   ],
   "source": [
    "ipd.Audio(t_y, rate=t_sr) # load a NumPy array\n"
   ]
  },
  {
   "cell_type": "code",
   "execution_count": 124,
   "metadata": {},
   "outputs": [
    {
     "data": {
      "text/html": [
       "\n",
       "                <audio  controls=\"controls\" >\n",
       "                    <source src=\"data:audio/wav;base64,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\" type=\"audio/wav\" />\n",
       "                    Your browser does not support the audio element.\n",
       "                </audio>\n",
       "              "
      ],
      "text/plain": [
       "<IPython.lib.display.Audio object>"
      ]
     },
     "execution_count": 124,
     "metadata": {},
     "output_type": "execute_result"
    }
   ],
   "source": [
    "ipd.Audio(t_wav, rate=t_sr) # load a NumPy array\n"
   ]
  },
  {
   "cell_type": "code",
   "execution_count": 76,
   "metadata": {},
   "outputs": [
    {
     "data": {
      "text/plain": [
       "Unnamed: 0                       10000\n",
       "cp                                  cp\n",
       "fname         soon/s11_brwz9s_soon.jpg\n",
       "t                                   -t\n",
       "folder                       test/soon\n",
       "speaker                            s11\n",
       "w_pattern                       brwz9s\n",
       "token                             soon\n",
       "start                            54750\n",
       "end                              67000\n",
       "Name: 10000, dtype: object"
      ]
     },
     "execution_count": 76,
     "metadata": {},
     "output_type": "execute_result"
    }
   ],
   "source": [
    "temp_row"
   ]
  },
  {
   "cell_type": "code",
   "execution_count": 98,
   "metadata": {},
   "outputs": [
    {
     "data": {
      "text/plain": [
       "'annotation/s11/brwz9s.align'"
      ]
     },
     "execution_count": 98,
     "metadata": {},
     "output_type": "execute_result"
    }
   ],
   "source": [
    "transcript_path"
   ]
  },
  {
   "cell_type": "code",
   "execution_count": 100,
   "metadata": {},
   "outputs": [],
   "source": [
    "yourfile = pd.read_csv(transcript_path,nrows=1,header=None)\n"
   ]
  },
  {
   "cell_type": "code",
   "execution_count": 101,
   "metadata": {},
   "outputs": [
    {
     "data": {
      "text/html": [
       "<div>\n",
       "<style scoped>\n",
       "    .dataframe tbody tr th:only-of-type {\n",
       "        vertical-align: middle;\n",
       "    }\n",
       "\n",
       "    .dataframe tbody tr th {\n",
       "        vertical-align: top;\n",
       "    }\n",
       "\n",
       "    .dataframe thead th {\n",
       "        text-align: right;\n",
       "    }\n",
       "</style>\n",
       "<table border=\"1\" class=\"dataframe\">\n",
       "  <thead>\n",
       "    <tr style=\"text-align: right;\">\n",
       "      <th></th>\n",
       "      <th>0</th>\n",
       "    </tr>\n",
       "  </thead>\n",
       "  <tbody>\n",
       "    <tr>\n",
       "      <td>0</td>\n",
       "      <td>0 10750 sil</td>\n",
       "    </tr>\n",
       "  </tbody>\n",
       "</table>\n",
       "</div>"
      ],
      "text/plain": [
       "             0\n",
       "0  0 10750 sil"
      ]
     },
     "execution_count": 101,
     "metadata": {},
     "output_type": "execute_result"
    }
   ],
   "source": [
    "yourfile"
   ]
  },
  {
   "cell_type": "code",
   "execution_count": 105,
   "metadata": {},
   "outputs": [
    {
     "name": "stdout",
     "output_type": "stream",
     "text": [
      "10750\n"
     ]
    }
   ],
   "source": []
  },
  {
   "cell_type": "code",
   "execution_count": 96,
   "metadata": {},
   "outputs": [
    {
     "name": "stdout",
     "output_type": "stream",
     "text": [
      "annotation/s11/brwz9s.align\n"
     ]
    }
   ],
   "source": [
    "ls annotation/s11/brwz9s.align\n"
   ]
  },
  {
   "cell_type": "code",
   "execution_count": 87,
   "metadata": {},
   "outputs": [
    {
     "data": {
      "text/plain": [
       "Unnamed: 0                       10000\n",
       "cp                                  cp\n",
       "fname         soon/s11_brwz9s_soon.jpg\n",
       "t                                   -t\n",
       "folder                       test/soon\n",
       "speaker                            s11\n",
       "w_pattern                       brwz9s\n",
       "token                             soon\n",
       "start                            54750\n",
       "end                              67000\n",
       "Name: 10000, dtype: object"
      ]
     },
     "execution_count": 87,
     "metadata": {},
     "output_type": "execute_result"
    }
   ],
   "source": [
    "temp_row"
   ]
  },
  {
   "cell_type": "code",
   "execution_count": 135,
   "metadata": {},
   "outputs": [],
   "source": [
    "# test_with_audio = []\n",
    "test_df = pd.read_csv(\"test_speech.csv\")\n",
    "for i in range (len(test_df)):\n",
    "    temp_row = test_df.iloc(0)[i]\n",
    "#     print(temp_row)\n",
    "    audio_path = str(t_path/\"speech_25khz\"/temp_row['speaker']/ str(temp_row['w_pattern'])) + \".wav\"\n",
    "    out_path = str(t_path/\"speech_25khz/\"/temp_row['folder']/str(temp_row['speaker']+'_'+temp_row['w_pattern']+'_'+temp_row['token']+'.wav'))\n",
    "    transcript_path = str(t_path/\"annotation\"/temp_row['speaker']/ str(temp_row['w_pattern'])) + \".align\"\n",
    "    with open(transcript_path) as myfile:\n",
    "        head = [next(myfile) for x in range(1)]\n",
    "\n",
    "    t_head=head[0].split(' ')\n",
    "    if re.search('sil',t_head[2]):\n",
    "        sil_offset = int(t_head[1])\n",
    "    else:\n",
    "        sil_offset=0\n",
    "        \n",
    "    t_y,t_sr = librosa.load(audio_path,sr=None)\n",
    "    t_wav = t_y[temp_row['start']-sil_offset:temp_row['end']-sil_offset]\n",
    "    librosa.output.write_wav(out_path, t_wav, t_sr)\n",
    "#     print(out_path)\n",
    "#     if i>5:\n",
    "#         break"
   ]
  },
  {
   "cell_type": "code",
   "execution_count": 129,
   "metadata": {},
   "outputs": [
    {
     "name": "stdout",
     "output_type": "stream",
     "text": [
      "\u001b[0m\u001b[01;34ma\u001b[0m/      \u001b[01;34mby\u001b[0m/     \u001b[01;34mfive\u001b[0m/   \u001b[01;34min\u001b[0m/   \u001b[01;34mn\u001b[0m/     \u001b[01;34mplace\u001b[0m/   \u001b[01;34mset\u001b[0m/    \u001b[01;34mtwo\u001b[0m/    \u001b[01;34my\u001b[0m/\n",
      "\u001b[01;34magain\u001b[0m/  \u001b[01;34mc\u001b[0m/      \u001b[01;34mfour\u001b[0m/   \u001b[01;34mj\u001b[0m/    \u001b[01;34mnine\u001b[0m/  \u001b[01;34mplease\u001b[0m/  \u001b[01;34mseven\u001b[0m/  \u001b[01;34mu\u001b[0m/      \u001b[01;34mz\u001b[0m/\n",
      "\u001b[01;34mat\u001b[0m/     \u001b[01;34md\u001b[0m/      \u001b[01;34mg\u001b[0m/      \u001b[01;34mk\u001b[0m/    \u001b[01;34mnow\u001b[0m/   \u001b[01;34mq\u001b[0m/       \u001b[01;34msix\u001b[0m/    \u001b[01;34mv\u001b[0m/      \u001b[01;34mzero\u001b[0m/\n",
      "\u001b[01;34mb\u001b[0m/      \u001b[01;34me\u001b[0m/      \u001b[01;34mgreen\u001b[0m/  \u001b[01;34ml\u001b[0m/    \u001b[01;34mo\u001b[0m/     \u001b[01;34mr\u001b[0m/       \u001b[01;34msoon\u001b[0m/   \u001b[01;34mwhite\u001b[0m/\n",
      "\u001b[01;34mbin\u001b[0m/    \u001b[01;34meight\u001b[0m/  \u001b[01;34mh\u001b[0m/      \u001b[01;34mlay\u001b[0m/  \u001b[01;34mone\u001b[0m/   \u001b[01;34mred\u001b[0m/     \u001b[01;34mt\u001b[0m/      \u001b[01;34mwith\u001b[0m/\n",
      "\u001b[01;34mblue\u001b[0m/   \u001b[01;34mf\u001b[0m/      \u001b[01;34mi\u001b[0m/      \u001b[01;34mm\u001b[0m/    \u001b[01;34mp\u001b[0m/     \u001b[01;34ms\u001b[0m/       \u001b[01;34mthree\u001b[0m/  \u001b[01;34mx\u001b[0m/\n"
     ]
    }
   ],
   "source": [
    "ls speech_25khz/test"
   ]
  },
  {
   "cell_type": "code",
   "execution_count": 138,
   "metadata": {},
   "outputs": [],
   "source": [
    "# test_with_audio = []\n",
    "train_df = pd.read_csv(\"train_speech.csv\")\n",
    "for i in range (len(train_df)):\n",
    "    temp_row = train_df.iloc(0)[i]\n",
    "#     print(temp_row)\n",
    "    audio_path = str(t_path/\"speech_25khz\"/temp_row['speaker']/ str(temp_row['w_pattern'])) + \".wav\"\n",
    "    out_path = str(t_path/\"speech_25khz/\"/temp_row['folder']/str(temp_row['speaker']+'_'+temp_row['w_pattern']+'_'+temp_row['token']+'.wav'))\n",
    "    transcript_path = str(t_path/\"annotation\"/temp_row['speaker']/ str(temp_row['w_pattern'])) + \".align\"\n",
    "    with open(transcript_path) as myfile:\n",
    "        head = [next(myfile) for x in range(1)]\n",
    "\n",
    "    t_head=head[0].split(' ')\n",
    "    if re.search('sil',t_head[2]):\n",
    "        sil_offset = int(t_head[1])\n",
    "    else:\n",
    "        sil_offset=0\n",
    "        \n",
    "    t_y,t_sr = librosa.load(audio_path,sr=None)\n",
    "    t_wav = t_y[temp_row['start']-sil_offset:temp_row['end']-sil_offset]\n",
    "    librosa.output.write_wav(out_path, t_wav, t_sr)\n",
    "#     print(out_path)\n",
    "#     if i>5:\n",
    "#         break"
   ]
  }
 ],
 "metadata": {
  "kernelspec": {
   "display_name": "Python 3",
   "language": "python",
   "name": "python3"
  },
  "language_info": {
   "codemirror_mode": {
    "name": "ipython",
    "version": 3
   },
   "file_extension": ".py",
   "mimetype": "text/x-python",
   "name": "python",
   "nbconvert_exporter": "python",
   "pygments_lexer": "ipython3",
   "version": "3.5.3"
  }
 },
 "nbformat": 4,
 "nbformat_minor": 4
}
